{
 "cells": [
  {
   "cell_type": "code",
   "execution_count": 42,
   "metadata": {},
   "outputs": [],
   "source": [
    "import pandas as pd\n",
    "import glob\n",
    "\n",
    "from sklearn.model_selection import train_test_split\n",
    "from sklearn.feature_extraction.text import CountVectorizer\n",
    "from sklearn.feature_extraction.text import TfidfVectorizer\n",
    "from sklearn.svm import SVC\n",
    "\n",
    "from experiments_core import run_tests_splits\n",
    "from experiments_core import run_one_experiment\n",
    "from experiments_core import print_baseline_results\n",
    "from experiments_core import default_tokenize\n",
    "from experiments_core import tokenize_stems\n",
    "from experiments_core import tokenize_lemmas\n",
    "from experiments_core import tokenize_no_urls\n",
    "from experiments_core import tokenize_norm_letters\n",
    "\n",
    "from nltk.corpus import stopwords\n",
    "\n",
    "%matplotlib inline"
   ]
  },
  {
   "cell_type": "code",
   "execution_count": 43,
   "metadata": {},
   "outputs": [
    {
     "data": {
      "text/plain": [
       "<module 'experiments_core' from '/home/ctorres9/EAFIT/trabajogrado/experiments/experiments_core.py'>"
      ]
     },
     "execution_count": 43,
     "metadata": {},
     "output_type": "execute_result"
    }
   ],
   "source": [
    "import importlib\n",
    "import sys\n",
    "importlib.reload(sys.modules[run_tests_splits.__module__])\n",
    "importlib.reload(sys.modules[run_one_experiment.__module__])\n",
    "importlib.reload(sys.modules[print_baseline_results.__module__])\n",
    "importlib.reload(sys.modules[default_tokenize.__module__])\n",
    "importlib.reload(sys.modules[tokenize_stems.__module__])\n",
    "importlib.reload(sys.modules[tokenize_lemmas.__module__])\n",
    "importlib.reload(sys.modules[tokenize_no_urls.__module__])\n",
    "importlib.reload(sys.modules[tokenize_norm_letters.__module__])"
   ]
  },
  {
   "cell_type": "code",
   "execution_count": 3,
   "metadata": {},
   "outputs": [
    {
     "name": "stdout",
     "output_type": "stream",
     "text": [
      "Numero de archivos: 16\n",
      "                                                     text target\n",
      "count                                               10000  10000\n",
      "unique                                               9992      2\n",
      "top     José Manuel Soria compromete a Rajoy al oculta...   real\n",
      "freq                                                    2   5000\n",
      "                                                text target\n",
      "0  Las lágrimas de un niño con autismo en un conc...   real\n",
      "1  Vender carne de mono por ternera https://t.co/...   real\n",
      "2  #Psicología Si buscas olvido en internet, verá...   real\n",
      "3  El cantante congoleño Papa Wemba fallece en pl...   real\n",
      "4  #Lomásvisto Vender carne de mono por ternera h...   real\n"
     ]
    }
   ],
   "source": [
    "files_path = 'data/satirical_real_news_tweets/'\n",
    "all_files = glob.glob(files_path + \"/*.csv\")\n",
    "print(\"Numero de archivos:\", len(all_files))\n",
    "original_news_df = pd.DataFrame()\n",
    "files_list = []\n",
    "for file in all_files:\n",
    "    df = pd.read_csv(file, index_col=None, header=0, sep='\\t')\n",
    "    files_list.append(df)\n",
    "original_news_df = pd.concat(files_list, ignore_index=True)\n",
    "original_news_df = original_news_df.drop(columns=['Unnamed: 0'])\n",
    "print(original_news_df.describe())\n",
    "print(original_news_df.head())"
   ]
  },
  {
   "cell_type": "code",
   "execution_count": 4,
   "metadata": {},
   "outputs": [],
   "source": [
    "total_data_content = original_news_df.text\n",
    "total_data_target = original_news_df.target"
   ]
  },
  {
   "cell_type": "code",
   "execution_count": 6,
   "metadata": {},
   "outputs": [],
   "source": [
    "X_train, X_test, y_train, y_test = train_test_split(total_data_content, \n",
    "                                                    total_data_target, \n",
    "                                                    test_size=0.3, \n",
    "                                                    random_state=70)"
   ]
  },
  {
   "cell_type": "code",
   "execution_count": 7,
   "metadata": {},
   "outputs": [
    {
     "name": "stdout",
     "output_type": "stream",
     "text": [
      "Reales entrenamiento: 3525\n",
      "Fakes entrenamiento: 3475\n",
      "Reales pruebas: 1475\n",
      "Fakes pruebas: 1525\n"
     ]
    }
   ],
   "source": [
    "print(\"Reales entrenamiento:\", len(y_train[y_train == 'real']))\n",
    "print(\"Fakes entrenamiento:\", len(y_train[y_train == 'fake']))\n",
    "print(\"Reales pruebas:\", len(y_test[y_test == 'real']))\n",
    "print(\"Fakes pruebas:\", len(y_test[y_test == 'fake']))"
   ]
  },
  {
   "cell_type": "markdown",
   "metadata": {},
   "source": [
    "# Experimentos con el clasificador SVM radial y el metodo de ponderacion TF-IDF (Term Frequency Inverse Document Frecuency)\n",
    "Los siguientes son los experimentos realizados para el clasificador SVM con kernel radial y con el metodo de ponderación para el modelo de espacio vectorial usando TF-IDF (Term Frequency Inverse Document Frecuency)"
   ]
  },
  {
   "cell_type": "markdown",
   "metadata": {},
   "source": [
    "# Linea base"
   ]
  },
  {
   "cell_type": "code",
   "execution_count": 8,
   "metadata": {},
   "outputs": [],
   "source": [
    "tf_idf_vect_baseline = TfidfVectorizer(\n",
    "                analyzer = 'word',\n",
    "                tokenizer = default_tokenize,\n",
    "                lowercase = True)"
   ]
  },
  {
   "cell_type": "code",
   "execution_count": 9,
   "metadata": {},
   "outputs": [],
   "source": [
    "parameters_svm_rbf = {'kernel': ['rbf'], 'gamma': [1e-3, 1e-4], 'C': [1, 10, 100, 1000]}"
   ]
  },
  {
   "cell_type": "markdown",
   "metadata": {},
   "source": [
    "### TF-IDF BaseLine"
   ]
  },
  {
   "cell_type": "code",
   "execution_count": 10,
   "metadata": {},
   "outputs": [
    {
     "name": "stdout",
     "output_type": "stream",
     "text": [
      "random state:  10\n",
      "train time: 62.854s\n",
      "random state:  20\n",
      "train time: 79.392s\n",
      "random state:  30\n",
      "train time: 78.134s\n",
      "random state:  40\n",
      "train time: 80.768s\n",
      "random state:  50\n",
      "train time: 80.746s\n",
      "random state:  60\n",
      "train time: 83.262s\n",
      "random state:  70\n",
      "train time: 64.189s\n",
      "random state:  80\n",
      "train time: 66.865s\n",
      "random state:  90\n",
      "train time: 60.508s\n",
      "random state:  100\n",
      "train time: 44.927s\n",
      "CPU times: user 2min 19s, sys: 14.8 s, total: 2min 34s\n",
      "Wall time: 12min 17s\n"
     ]
    }
   ],
   "source": [
    "%%time\n",
    "tf_baseline_results = run_tests_splits(total_data_content, total_data_target, tf_idf_vect_baseline, parameters_svm_rbf, SVC())"
   ]
  },
  {
   "cell_type": "code",
   "execution_count": 11,
   "metadata": {},
   "outputs": [],
   "source": [
    "tf_idf_baseline_results = tf_baseline_results"
   ]
  },
  {
   "cell_type": "code",
   "execution_count": 14,
   "metadata": {},
   "outputs": [
    {
     "name": "stdout",
     "output_type": "stream",
     "text": [
      "Numero de caracteristicas:  (7000, 23353)\n",
      "\n",
      "Best score selected:  0.8867142857142857\n",
      "Best Accuracy:  0.88\n",
      "Best Best F1-score:  0.8797455415659536\n",
      "Best random state:  20\n",
      "Mejor resultado y parametro encontrados:\n",
      "Mejor resultado (accuracy cv):  0.8867142857142857\n",
      "C: 1000\n",
      "gamma: 0.001\n",
      "kernel: 'rbf'\n",
      "\n",
      "\n",
      "Exactitud: 0.88\n",
      "F1_score: 0.8797455415659536\n",
      "Precision: 0.8830124004435931\n",
      "Recall: 0.8799115196460785\n",
      "\n",
      "             precision    recall  f1-score   support\n",
      "\n",
      "       fake     0.9165    0.8357    0.8742      1497\n",
      "       real     0.8495    0.9242    0.8853      1503\n",
      "\n",
      "avg / total     0.8829    0.8800    0.8798      3000\n",
      "\n",
      "[[1251  246]\n",
      " [ 114 1389]]\n",
      "\n",
      "Confusion matrix, without normalization\n",
      "[[1251  246]\n",
      " [ 114 1389]]\n"
     ]
    },
    {
     "data": {
      "image/png": "[encoded data removed]",
      "text/plain": [
       "<Figure size 432x288 with 2 Axes>"
      ]
     },
     "metadata": {},
     "output_type": "display_data"
    }
   ],
   "source": [
    "print_baseline_results(tf_idf_baseline_results, parameters_svm_rbf)"
   ]
  },
  {
   "cell_type": "code",
   "execution_count": 46,
   "metadata": {},
   "outputs": [],
   "source": [
    "all_experiments_results = []"
   ]
  },
  {
   "cell_type": "markdown",
   "metadata": {},
   "source": [
    "## Prueba de la linea base con los parametros optimos\n",
    "Esta prueba se hace para validar los resultados obtenidos anteriormente. Si esta bien debe dar lo mismo o un resultado muy similar dependiendo del clasificador."
   ]
  },
  {
   "cell_type": "code",
   "execution_count": 47,
   "metadata": {},
   "outputs": [
    {
     "name": "stdout",
     "output_type": "stream",
     "text": [
      "Numero de caracteristicas:  (7000, 23353)\n",
      "\n",
      "train time: 22.660s\n",
      "Mejor resultado y parametro encontrados:\n",
      "Mejor resultado (accuracy cv):  0.8867142857142857\n",
      "C: 1000\n",
      "gamma: 0.001\n",
      "kernel: 'rbf'\n",
      "\n",
      "Exactitud: 0.88\n",
      "F1_score: 0.8797455415659536\n",
      "Precision: 0.8830124004435931\n",
      "Recall: 0.8799115196460785\n",
      "\n",
      "             precision    recall  f1-score   support\n",
      "\n",
      "       fake     0.9165    0.8357    0.8742      1497\n",
      "       real     0.8495    0.9242    0.8853      1503\n",
      "\n",
      "avg / total     0.8829    0.8800    0.8798      3000\n",
      "\n",
      "[[1251  246]\n",
      " [ 114 1389]]\n",
      "\n",
      "Confusion matrix, without normalization\n",
      "[[1251  246]\n",
      " [ 114 1389]]\n",
      "CPU times: user 12.2 s, sys: 1.73 s, total: 13.9 s\n",
      "Wall time: 26.9 s\n"
     ]
    },
    {
     "data": {
      "image/png": "[encoded data removed]",
      "text/plain": [
       "<Figure size 432x288 with 2 Axes>"
      ]
     },
     "metadata": {},
     "output_type": "display_data"
    }
   ],
   "source": [
    "%%time\n",
    "optimal_parameters = {'kernel': ['rbf'], 'gamma': [0.001], 'C': [1000]}\n",
    "clf_tf_idf_vect_baseline = run_one_experiment(total_data_content, total_data_target, tf_idf_vect_baseline, optimal_parameters, SVC(), 20)\n",
    "all_experiments_results.append(clf_tf_idf_vect_baseline)"
   ]
  },
  {
   "cell_type": "markdown",
   "metadata": {},
   "source": [
    "## Experimento 1: Remocion de stop words"
   ]
  },
  {
   "cell_type": "code",
   "execution_count": 48,
   "metadata": {},
   "outputs": [],
   "source": [
    "spanish_stopwords = stopwords.words('spanish')"
   ]
  },
  {
   "cell_type": "code",
   "execution_count": 49,
   "metadata": {},
   "outputs": [],
   "source": [
    "tf_idf_vect_stopwords = TfidfVectorizer(stop_words = spanish_stopwords,\n",
    "                                        analyzer = 'word',\n",
    "                                        tokenizer = default_tokenize,\n",
    "                                        lowercase = True)"
   ]
  },
  {
   "cell_type": "code",
   "execution_count": 50,
   "metadata": {},
   "outputs": [
    {
     "name": "stdout",
     "output_type": "stream",
     "text": [
      "Numero de caracteristicas:  (7000, 23161)\n",
      "\n",
      "train time: 16.561s\n",
      "Mejor resultado y parametro encontrados:\n",
      "Mejor resultado (accuracy cv):  0.8764285714285714\n",
      "C: 1000\n",
      "gamma: 0.001\n",
      "kernel: 'rbf'\n",
      "\n",
      "Exactitud: 0.8736666666666667\n",
      "F1_score: 0.873386978502178\n",
      "Precision: 0.8767635937239462\n",
      "Recall: 0.8735761609713105\n",
      "\n",
      "             precision    recall  f1-score   support\n",
      "\n",
      "       fake     0.9104    0.8283    0.8674      1497\n",
      "       real     0.8431    0.9188    0.8793      1503\n",
      "\n",
      "avg / total     0.8767    0.8737    0.8734      3000\n",
      "\n",
      "[[1240  257]\n",
      " [ 122 1381]]\n",
      "\n",
      "Confusion matrix, without normalization\n",
      "[[1240  257]\n",
      " [ 122 1381]]\n",
      "CPU times: user 9.45 s, sys: 1.62 s, total: 11.1 s\n",
      "Wall time: 19.7 s\n"
     ]
    },
    {
     "data": {
      "image/png": "[encoded data removed]",
      "text/plain": [
       "<Figure size 432x288 with 2 Axes>"
      ]
     },
     "metadata": {},
     "output_type": "display_data"
    }
   ],
   "source": [
    "%%time\n",
    "optimal_parameters = {'kernel': ['rbf'], 'gamma': [0.001], 'C': [1000]}\n",
    "clf_tf_idf_vect_stopwords = run_one_experiment(total_data_content, total_data_target, tf_idf_vect_stopwords, optimal_parameters, SVC(), 20)\n",
    "all_experiments_results.append(clf_tf_idf_vect_stopwords)"
   ]
  },
  {
   "cell_type": "markdown",
   "metadata": {},
   "source": [
    "## Experimento 2: Stemming"
   ]
  },
  {
   "cell_type": "code",
   "execution_count": 51,
   "metadata": {},
   "outputs": [
    {
     "name": "stdout",
     "output_type": "stream",
     "text": [
      "['holaaa', 'com', 'estas', 'estaa', 'cre', 'en', 'mi', 'si', 'llov', 'mañan', 'tu', 'cre', 'en', 'mi', 'cart', 'aeiou']\n"
     ]
    }
   ],
   "source": [
    "#Prueba de los metodos anteriores\n",
    "print(tokenize_stems(\n",
    "    \"holaaaa como estas estaaaas creerías en mi si lloviera mañana, tu crees en mi cartas ¡¡ ¿¿. a e i o u aeiou\"))"
   ]
  },
  {
   "cell_type": "code",
   "execution_count": 52,
   "metadata": {},
   "outputs": [],
   "source": [
    "tf_idf_vect_stemming = TfidfVectorizer(\n",
    "                analyzer = 'word',\n",
    "                tokenizer = tokenize_stems,\n",
    "                lowercase = True)"
   ]
  },
  {
   "cell_type": "code",
   "execution_count": 53,
   "metadata": {},
   "outputs": [
    {
     "name": "stdout",
     "output_type": "stream",
     "text": [
      "Numero de caracteristicas:  (7000, 17652)\n",
      "\n",
      "train time: 22.907s\n",
      "Mejor resultado y parametro encontrados:\n",
      "Mejor resultado (accuracy cv):  0.8771428571428571\n",
      "C: 1000\n",
      "gamma: 0.001\n",
      "kernel: 'rbf'\n",
      "\n",
      "Exactitud: 0.8813333333333333\n",
      "F1_score: 0.8810668702635549\n",
      "Precision: 0.8845427782303057\n",
      "Recall: 0.8812421916354332\n",
      "\n",
      "             precision    recall  f1-score   support\n",
      "\n",
      "       fake     0.9192    0.8357    0.8754      1497\n",
      "       real     0.8499    0.9268    0.8867      1503\n",
      "\n",
      "avg / total     0.8845    0.8813    0.8811      3000\n",
      "\n",
      "[[1251  246]\n",
      " [ 110 1393]]\n",
      "\n",
      "Confusion matrix, without normalization\n",
      "[[1251  246]\n",
      " [ 110 1393]]\n",
      "CPU times: user 18 s, sys: 1.36 s, total: 19.4 s\n",
      "Wall time: 31 s\n"
     ]
    },
    {
     "data": {
      "image/png": "[encoded data removed]",
      "text/plain": [
       "<Figure size 432x288 with 2 Axes>"
      ]
     },
     "metadata": {},
     "output_type": "display_data"
    }
   ],
   "source": [
    "%%time\n",
    "optimal_parameters = {'kernel': ['rbf'], 'gamma': [0.001], 'C': [1000]}\n",
    "clf_tf_idf_vect_stemming = run_one_experiment(total_data_content, total_data_target, tf_idf_vect_stemming, optimal_parameters, SVC(), 20)\n",
    "all_experiments_results.append(clf_tf_idf_vect_stemming)"
   ]
  },
  {
   "cell_type": "markdown",
   "metadata": {},
   "source": [
    "## Experimento 3: Lematizacion"
   ]
  },
  {
   "cell_type": "code",
   "execution_count": 54,
   "metadata": {},
   "outputs": [
    {
     "name": "stdout",
     "output_type": "stream",
     "text": [
      "['holaaaa', 'comer', 'este', 'estaaaas', 'creer', 'en', 'mi', 'si', 'llover', 'mañana', 'tu', 'creer', 'en', 'mi', 'carta', 'aeiou']\n"
     ]
    }
   ],
   "source": [
    "# Prueba del tokenizer\n",
    "print(tokenize_lemmas(\n",
    "    \"holaaaa como estas estaaaas creerías en mi si lloviera mañana, tu crees en mi cartas ¡¡ ¿¿. a e i o u aeiou\"))"
   ]
  },
  {
   "cell_type": "code",
   "execution_count": 55,
   "metadata": {},
   "outputs": [],
   "source": [
    "tf_idf_vect_lemmatize = TfidfVectorizer(\n",
    "                analyzer = 'word',\n",
    "                tokenizer = tokenize_lemmas,\n",
    "                lowercase = True)"
   ]
  },
  {
   "cell_type": "code",
   "execution_count": 56,
   "metadata": {},
   "outputs": [
    {
     "name": "stdout",
     "output_type": "stream",
     "text": [
      "Numero de caracteristicas:  (7000, 18690)\n",
      "\n",
      "train time: 24.922s\n",
      "Mejor resultado y parametro encontrados:\n",
      "Mejor resultado (accuracy cv):  0.8762857142857143\n",
      "C: 1000\n",
      "gamma: 0.001\n",
      "kernel: 'rbf'\n",
      "\n",
      "Exactitud: 0.8763333333333333\n",
      "F1_score: 0.8760970779950525\n",
      "Precision: 0.8790078509466264\n",
      "Recall: 0.8762495049980199\n",
      "\n",
      "             precision    recall  f1-score   support\n",
      "\n",
      "       fake     0.9103    0.8343    0.8707      1497\n",
      "       real     0.8477    0.9182    0.8815      1503\n",
      "\n",
      "avg / total     0.8789    0.8763    0.8761      3000\n",
      "\n",
      "[[1249  248]\n",
      " [ 123 1380]]\n",
      "\n",
      "Confusion matrix, without normalization\n",
      "[[1249  248]\n",
      " [ 123 1380]]\n",
      "CPU times: user 12.1 s, sys: 1.81 s, total: 13.9 s\n",
      "Wall time: 29.1 s\n"
     ]
    },
    {
     "data": {
      "image/png": "[encoded data removed]",
      "text/plain": [
       "<Figure size 432x288 with 2 Axes>"
      ]
     },
     "metadata": {},
     "output_type": "display_data"
    }
   ],
   "source": [
    "%%time\n",
    "optimal_parameters = {'kernel': ['rbf'], 'gamma': [0.001], 'C': [1000]}\n",
    "clf_tf_idf_vect_lemmatize = run_one_experiment(total_data_content, total_data_target, tf_idf_vect_lemmatize, optimal_parameters, SVC(), 20)\n",
    "all_experiments_results.append(clf_tf_idf_vect_lemmatize)"
   ]
  },
  {
   "cell_type": "markdown",
   "metadata": {},
   "source": [
    "## Experimento 4: Remocion de URLs"
   ]
  },
  {
   "cell_type": "code",
   "execution_count": 57,
   "metadata": {},
   "outputs": [
    {
     "name": "stdout",
     "output_type": "stream",
     "text": [
      "['holaaaa', 'cómo', 'creerías', 'mi', 'si', 'lloviera', 'mañana', 'tu', 'crees', 'en', 'mi', 'cartas', 'aeiou']\n"
     ]
    }
   ],
   "source": [
    "# Prueba de la tokenizacion sin urls\n",
    "print(tokenize_no_urls(\n",
    "    \"holaaaa cómo http://estas creerías https://stackoverflow.com/questions/11331982/how-to-remove-any-url-within-a-string-in-python mi si lloviera \\t  mañana, tu crees en mi cartas ¡¡ ¿¿. aeiou\"))"
   ]
  },
  {
   "cell_type": "code",
   "execution_count": 58,
   "metadata": {},
   "outputs": [],
   "source": [
    "tf_idf_vect_no_urls = TfidfVectorizer(\n",
    "                analyzer = 'word',\n",
    "                tokenizer = tokenize_no_urls,\n",
    "                lowercase = True)"
   ]
  },
  {
   "cell_type": "code",
   "execution_count": 59,
   "metadata": {},
   "outputs": [
    {
     "name": "stdout",
     "output_type": "stream",
     "text": [
      "Numero de caracteristicas:  (7000, 15606)\n",
      "\n",
      "train time: 21.976s\n",
      "Mejor resultado y parametro encontrados:\n",
      "Mejor resultado (accuracy cv):  0.8472857142857143\n",
      "C: 1000\n",
      "gamma: 0.001\n",
      "kernel: 'rbf'\n",
      "\n",
      "Exactitud: 0.8506666666666667\n",
      "F1_score: 0.8506642772951034\n",
      "Precision: 0.8506732909051392\n",
      "Recall: 0.8506620693149439\n",
      "\n",
      "             precision    recall  f1-score   support\n",
      "\n",
      "       fake     0.8518    0.8484    0.8501      1497\n",
      "       real     0.8496    0.8530    0.8513      1503\n",
      "\n",
      "avg / total     0.8507    0.8507    0.8507      3000\n",
      "\n",
      "[[1270  227]\n",
      " [ 221 1282]]\n",
      "\n",
      "Confusion matrix, without normalization\n",
      "[[1270  227]\n",
      " [ 221 1282]]\n",
      "CPU times: user 12.8 s, sys: 1.58 s, total: 14.4 s\n",
      "Wall time: 25.9 s\n"
     ]
    },
    {
     "data": {
      "image/png": "[encoded data removed]",
      "text/plain": [
       "<Figure size 432x288 with 2 Axes>"
      ]
     },
     "metadata": {},
     "output_type": "display_data"
    }
   ],
   "source": [
    "%%time\n",
    "optimal_parameters = {'kernel': ['rbf'], 'gamma': [0.001], 'C': [1000]}\n",
    "clf_tf_idf_vect_no_urls = run_one_experiment(total_data_content, total_data_target, tf_idf_vect_no_urls, optimal_parameters, SVC(), 20)\n",
    "all_experiments_results.append(clf_tf_idf_vect_no_urls)"
   ]
  },
  {
   "cell_type": "markdown",
   "metadata": {},
   "source": [
    "## Experimento 5: Remocion de letras repetidas"
   ]
  },
  {
   "cell_type": "code",
   "execution_count": 60,
   "metadata": {},
   "outputs": [
    {
     "name": "stdout",
     "output_type": "stream",
     "text": [
      "['hola', 'cómo', 'htp', 'estas', 'estas', 'creerías', 'mi', 'si', 'lloviera', 'mañana', 'tu', 'crees', 'en', 'mi', 'cartas', 'aeiou']\n"
     ]
    }
   ],
   "source": [
    "print(tokenize_norm_letters(\n",
    "    \"holaaaa cómo http://estas estaaaas creerías mi si lloviera mañana, tu crees en mi cartas ¡¡ ¿¿. a e i o u aeiou\"))"
   ]
  },
  {
   "cell_type": "code",
   "execution_count": 61,
   "metadata": {},
   "outputs": [],
   "source": [
    "tf_idf_vect_norm_letters = TfidfVectorizer(\n",
    "                analyzer = 'word',\n",
    "                tokenizer = tokenize_norm_letters,\n",
    "                lowercase = True)"
   ]
  },
  {
   "cell_type": "code",
   "execution_count": 62,
   "metadata": {},
   "outputs": [
    {
     "name": "stdout",
     "output_type": "stream",
     "text": [
      "Numero de caracteristicas:  (7000, 23276)\n",
      "\n",
      "train time: 25.495s\n",
      "Mejor resultado y parametro encontrados:\n",
      "Mejor resultado (accuracy cv):  0.8877142857142857\n",
      "C: 1000\n",
      "gamma: 0.001\n",
      "kernel: 'rbf'\n",
      "\n",
      "Exactitud: 0.8803333333333333\n",
      "F1_score: 0.8800758829037314\n",
      "Precision: 0.883394338526841\n",
      "Recall: 0.8802441876434173\n",
      "\n",
      "             precision    recall  f1-score   support\n",
      "\n",
      "       fake     0.9172    0.8357    0.8745      1497\n",
      "       real     0.8496    0.9248    0.8856      1503\n",
      "\n",
      "avg / total     0.8833    0.8803    0.8801      3000\n",
      "\n",
      "[[1251  246]\n",
      " [ 113 1390]]\n",
      "\n",
      "Confusion matrix, without normalization\n",
      "[[1251  246]\n",
      " [ 113 1390]]\n",
      "CPU times: user 15.3 s, sys: 1.64 s, total: 16.9 s\n",
      "Wall time: 30.9 s\n"
     ]
    },
    {
     "data": {
      "image/png": "[encoded data removed]",
      "text/plain": [
       "<Figure size 432x288 with 2 Axes>"
      ]
     },
     "metadata": {},
     "output_type": "display_data"
    }
   ],
   "source": [
    "%%time\n",
    "optimal_parameters = {'kernel': ['rbf'], 'gamma': [0.001], 'C': [1000]}\n",
    "clf_tf_idf_vect_norm_letters = run_one_experiment(total_data_content, total_data_target, tf_idf_vect_norm_letters, optimal_parameters, SVC(), 20)\n",
    "all_experiments_results.append(clf_tf_idf_vect_norm_letters)"
   ]
  },
  {
   "cell_type": "markdown",
   "metadata": {},
   "source": [
    "## Experimento 6: Remocion de terminos poco comunes (pruning < 10)"
   ]
  },
  {
   "cell_type": "code",
   "execution_count": 63,
   "metadata": {},
   "outputs": [],
   "source": [
    "tf_idf_vect_pruning10 = TfidfVectorizer(\n",
    "                analyzer = 'word',\n",
    "                tokenizer = default_tokenize,\n",
    "                lowercase = True,\n",
    "                min_df=10)"
   ]
  },
  {
   "cell_type": "code",
   "execution_count": 64,
   "metadata": {},
   "outputs": [
    {
     "name": "stdout",
     "output_type": "stream",
     "text": [
      "Numero de caracteristicas:  (7000, 1214)\n",
      "\n",
      "train time: 10.702s\n",
      "Mejor resultado y parametro encontrados:\n",
      "Mejor resultado (accuracy cv):  0.8481428571428572\n",
      "C: 1000\n",
      "gamma: 0.001\n",
      "kernel: 'rbf'\n",
      "\n",
      "Exactitud: 0.8293333333333334\n",
      "F1_score: 0.8291726797290253\n",
      "Precision: 0.8304372861081166\n",
      "Recall: 0.8292753171012683\n",
      "\n",
      "             precision    recall  f1-score   support\n",
      "\n",
      "       fake     0.8490    0.8003    0.8239      1497\n",
      "       real     0.8118    0.8583    0.8344      1503\n",
      "\n",
      "avg / total     0.8304    0.8293    0.8292      3000\n",
      "\n",
      "[[1198  299]\n",
      " [ 213 1290]]\n",
      "\n",
      "Confusion matrix, without normalization\n",
      "[[1198  299]\n",
      " [ 213 1290]]\n",
      "CPU times: user 5.95 s, sys: 1.46 s, total: 7.41 s\n",
      "Wall time: 12.9 s\n"
     ]
    },
    {
     "data": {
      "image/png": "[encoded data removed]",
      "text/plain": [
       "<Figure size 432x288 with 2 Axes>"
      ]
     },
     "metadata": {},
     "output_type": "display_data"
    }
   ],
   "source": [
    "%%time\n",
    "optimal_parameters = {'kernel': ['rbf'], 'gamma': [0.001], 'C': [1000]}\n",
    "clf_tf_idf_vect_pruning10 = run_one_experiment(total_data_content, total_data_target, tf_idf_vect_pruning10, optimal_parameters, SVC(), 20)\n",
    "all_experiments_results.append(clf_tf_idf_vect_pruning10)"
   ]
  },
  {
   "cell_type": "markdown",
   "metadata": {},
   "source": [
    "## Experimento 7: Remocion de terminos poco comunes (pruning < 5)"
   ]
  },
  {
   "cell_type": "code",
   "execution_count": 65,
   "metadata": {},
   "outputs": [],
   "source": [
    "tf_idf_vect_pruning5 = TfidfVectorizer(\n",
    "                analyzer = 'word',\n",
    "                tokenizer = default_tokenize,\n",
    "                lowercase = True,\n",
    "                min_df=5)"
   ]
  },
  {
   "cell_type": "code",
   "execution_count": 66,
   "metadata": {},
   "outputs": [
    {
     "name": "stdout",
     "output_type": "stream",
     "text": [
      "Numero de caracteristicas:  (7000, 2658)\n",
      "\n",
      "train time: 11.584s\n",
      "Mejor resultado y parametro encontrados:\n",
      "Mejor resultado (accuracy cv):  0.8627142857142858\n",
      "C: 1000\n",
      "gamma: 0.001\n",
      "kernel: 'rbf'\n",
      "\n",
      "Exactitud: 0.8493333333333334\n",
      "F1_score: 0.8492845015118231\n",
      "Precision: 0.8497035906841642\n",
      "Recall: 0.8493007305362554\n",
      "\n",
      "             precision    recall  f1-score   support\n",
      "\n",
      "       fake     0.8606    0.8330    0.8466      1497\n",
      "       real     0.8388    0.8656    0.8520      1503\n",
      "\n",
      "avg / total     0.8497    0.8493    0.8493      3000\n",
      "\n",
      "[[1247  250]\n",
      " [ 202 1301]]\n",
      "\n",
      "Confusion matrix, without normalization\n",
      "[[1247  250]\n",
      " [ 202 1301]]\n",
      "CPU times: user 6.7 s, sys: 1.48 s, total: 8.18 s\n",
      "Wall time: 14.2 s\n"
     ]
    },
    {
     "data": {
      "image/png": "[encoded data removed]",
      "text/plain": [
       "<Figure size 432x288 with 2 Axes>"
      ]
     },
     "metadata": {},
     "output_type": "display_data"
    }
   ],
   "source": [
    "%%time\n",
    "optimal_parameters = {'kernel': ['rbf'], 'gamma': [0.001], 'C': [1000]}\n",
    "clf_tf_idf_vect_pruning5 = run_one_experiment(total_data_content, total_data_target, tf_idf_vect_pruning5, optimal_parameters, SVC(), 20)\n",
    "all_experiments_results.append(clf_tf_idf_vect_pruning5)"
   ]
  },
  {
   "cell_type": "code",
   "execution_count": 67,
   "metadata": {},
   "outputs": [
    {
     "data": {
      "text/plain": [
       "8"
      ]
     },
     "execution_count": 67,
     "metadata": {},
     "output_type": "execute_result"
    }
   ],
   "source": [
    "len(all_experiments_results)"
   ]
  },
  {
   "cell_type": "code",
   "execution_count": 68,
   "metadata": {},
   "outputs": [],
   "source": [
    "import xlsxwriter"
   ]
  },
  {
   "cell_type": "code",
   "execution_count": 69,
   "metadata": {},
   "outputs": [],
   "source": [
    "# Create a workbook and add a worksheet.\n",
    "# workbook = xlsxwriter.Workbook('result_es_news_fakes_svm_rbf_tfidf.xlsx')\n",
    "# worksheet = workbook.add_worksheet()\n",
    "# row = 0\n",
    "# col = 0\n",
    "# for exp in all_experiments_results:\n",
    "#     worksheet.write(row, col, exp[0])\n",
    "#     row += 1\n",
    "#     worksheet.write(row, col, exp[1])\n",
    "#     row += 1\n",
    "#     worksheet.write(row, col, exp[2])\n",
    "#     row += 1\n",
    "#     worksheet.write(row, col, exp[3])\n",
    "#     row += 1\n",
    "#     worksheet.write(row, col, exp[4])\n",
    "#     row += 1\n",
    "#     worksheet.write(row, col, exp[5])\n",
    "#     row += 1\n",
    "#     worksheet.write(row, col, exp[6])\n",
    "#     row += 1\n",
    "#     worksheet.write(row, col, exp[7])\n",
    "#     row += 1\n",
    "#     worksheet.write(row, col, exp[8])\n",
    "#     row += 1\n",
    "#     row = 0\n",
    "#     col += 1\n",
    "# workbook.close()"
   ]
  }
 ],
 "metadata": {
  "kernelspec": {
   "display_name": "python_tg",
   "language": "python",
   "name": "python_tg"
  },
  "language_info": {
   "codemirror_mode": {
    "name": "ipython",
    "version": 3
   },
   "file_extension": ".py",
   "mimetype": "text/x-python",
   "name": "python",
   "nbconvert_exporter": "python",
   "pygments_lexer": "ipython3",
   "version": "3.6.2"
  }
 },
 "nbformat": 4,
 "nbformat_minor": 2
}
