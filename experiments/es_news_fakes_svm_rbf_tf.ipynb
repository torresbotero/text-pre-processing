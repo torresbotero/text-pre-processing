{
 "cells": [
  {
   "cell_type": "code",
   "execution_count": 37,
   "metadata": {},
   "outputs": [],
   "source": [
    "import pandas as pd\n",
    "import glob\n",
    "\n",
    "from sklearn.model_selection import train_test_split\n",
    "from sklearn.feature_extraction.text import CountVectorizer\n",
    "from sklearn.feature_extraction.text import TfidfVectorizer\n",
    "from sklearn.svm import SVC\n",
    "\n",
    "from experiments_core import run_tests_splits\n",
    "from experiments_core import run_one_experiment\n",
    "from experiments_core import print_baseline_results\n",
    "from experiments_core import default_tokenize\n",
    "from experiments_core import tokenize_stems\n",
    "from experiments_core import tokenize_lemmas\n",
    "from experiments_core import tokenize_no_urls\n",
    "from experiments_core import tokenize_norm_letters\n",
    "\n",
    "from nltk.corpus import stopwords\n",
    "\n",
    "%matplotlib inline"
   ]
  },
  {
   "cell_type": "code",
   "execution_count": 38,
   "metadata": {},
   "outputs": [
    {
     "data": {
      "text/plain": [
       "<module 'experiments_core' from '/home/ctorres9/EAFIT/trabajogrado/experiments/experiments_core.py'>"
      ]
     },
     "execution_count": 38,
     "metadata": {},
     "output_type": "execute_result"
    }
   ],
   "source": [
    "import importlib\n",
    "import sys\n",
    "importlib.reload(sys.modules[run_tests_splits.__module__])\n",
    "importlib.reload(sys.modules[run_one_experiment.__module__])\n",
    "importlib.reload(sys.modules[print_baseline_results.__module__])\n",
    "importlib.reload(sys.modules[default_tokenize.__module__])\n",
    "importlib.reload(sys.modules[tokenize_stems.__module__])\n",
    "importlib.reload(sys.modules[tokenize_lemmas.__module__])\n",
    "importlib.reload(sys.modules[tokenize_no_urls.__module__])\n",
    "importlib.reload(sys.modules[tokenize_norm_letters.__module__])"
   ]
  },
  {
   "cell_type": "code",
   "execution_count": 3,
   "metadata": {},
   "outputs": [
    {
     "name": "stdout",
     "output_type": "stream",
     "text": [
      "Numero de archivos: 16\n",
      "                                                     text target\n",
      "count                                               10000  10000\n",
      "unique                                               9992      2\n",
      "top     José Manuel Soria compromete a Rajoy al oculta...   fake\n",
      "freq                                                    2   5000\n",
      "                                                text target\n",
      "0  Las lágrimas de un niño con autismo en un conc...   real\n",
      "1  Vender carne de mono por ternera https://t.co/...   real\n",
      "2  #Psicología Si buscas olvido en internet, verá...   real\n",
      "3  El cantante congoleño Papa Wemba fallece en pl...   real\n",
      "4  #Lomásvisto Vender carne de mono por ternera h...   real\n"
     ]
    }
   ],
   "source": [
    "files_path = 'data/satirical_real_news_tweets/'\n",
    "all_files = glob.glob(files_path + \"/*.csv\")\n",
    "print(\"Numero de archivos:\", len(all_files))\n",
    "original_news_df = pd.DataFrame()\n",
    "files_list = []\n",
    "for file in all_files:\n",
    "    df = pd.read_csv(file, index_col=None, header=0, sep='\\t')\n",
    "    files_list.append(df)\n",
    "original_news_df = pd.concat(files_list, ignore_index=True)\n",
    "original_news_df = original_news_df.drop(columns=['Unnamed: 0'])\n",
    "print(original_news_df.describe())\n",
    "print(original_news_df.head())"
   ]
  },
  {
   "cell_type": "code",
   "execution_count": 4,
   "metadata": {},
   "outputs": [],
   "source": [
    "total_data_content = original_news_df.text\n",
    "total_data_target = original_news_df.target"
   ]
  },
  {
   "cell_type": "code",
   "execution_count": 5,
   "metadata": {},
   "outputs": [],
   "source": [
    "X_train, X_test, y_train, y_test = train_test_split(total_data_content, \n",
    "                                                    total_data_target, \n",
    "                                                    test_size=0.3, \n",
    "                                                    random_state=70)"
   ]
  },
  {
   "cell_type": "code",
   "execution_count": 6,
   "metadata": {},
   "outputs": [
    {
     "name": "stdout",
     "output_type": "stream",
     "text": [
      "Reales entrenamiento: 3525\n",
      "Fakes entrenamiento: 3475\n",
      "Reales pruebas: 1475\n",
      "Fakes pruebas: 1525\n"
     ]
    }
   ],
   "source": [
    "print(\"Reales entrenamiento:\", len(y_train[y_train == 'real']))\n",
    "print(\"Fakes entrenamiento:\", len(y_train[y_train == 'fake']))\n",
    "print(\"Reales pruebas:\", len(y_test[y_test == 'real']))\n",
    "print(\"Fakes pruebas:\", len(y_test[y_test == 'fake']))"
   ]
  },
  {
   "cell_type": "markdown",
   "metadata": {},
   "source": [
    "# Experimentos con el clasificador SVM radial y el metodo de ponderacion TF (Term Frequency)\n",
    "Los siguientes son los experimentos realizados para el clasificador SVM con kernel radial y con el metodo de ponderación para el modelo de espacio vectorial usando TF (Term Frequency)"
   ]
  },
  {
   "cell_type": "markdown",
   "metadata": {},
   "source": [
    "# Linea base"
   ]
  },
  {
   "cell_type": "code",
   "execution_count": 7,
   "metadata": {},
   "outputs": [],
   "source": [
    "tf_vect_baseline = CountVectorizer(\n",
    "                analyzer = 'word',\n",
    "                tokenizer = default_tokenize,\n",
    "                lowercase = True)"
   ]
  },
  {
   "cell_type": "code",
   "execution_count": 8,
   "metadata": {},
   "outputs": [],
   "source": [
    "parameters_svm_rbf = {'kernel': ['rbf'], 'gamma': [1e-3, 1e-4], 'C': [1, 10, 100, 1000]}"
   ]
  },
  {
   "cell_type": "code",
   "execution_count": 9,
   "metadata": {},
   "outputs": [
    {
     "name": "stdout",
     "output_type": "stream",
     "text": [
      "random state:  10\n",
      "train time: 33.464s\n",
      "random state:  20\n",
      "train time: 31.797s\n",
      "random state:  30\n",
      "train time: 48.831s\n",
      "random state:  40\n",
      "train time: 40.651s\n",
      "random state:  50\n",
      "train time: 67.935s\n",
      "random state:  60\n",
      "train time: 63.236s\n",
      "random state:  70\n",
      "train time: 75.713s\n",
      "random state:  80\n",
      "train time: 81.336s\n",
      "random state:  90\n",
      "train time: 65.712s\n",
      "random state:  100\n",
      "train time: 52.684s\n",
      "CPU times: user 2min 4s, sys: 13.9 s, total: 2min 18s\n",
      "Wall time: 10min 4s\n"
     ]
    }
   ],
   "source": [
    "%%time\n",
    "tf_baseline_results = run_tests_splits(total_data_content, total_data_target, tf_vect_baseline, parameters_svm_rbf, SVC())"
   ]
  },
  {
   "cell_type": "code",
   "execution_count": 10,
   "metadata": {},
   "outputs": [
    {
     "name": "stdout",
     "output_type": "stream",
     "text": [
      "Numero de caracteristicas:  (7000, 23367)\n",
      "\n",
      "Best score selected:  0.8885714285714286\n",
      "Best Accuracy:  0.8856666666666667\n",
      "Best Best F1-score:  0.8856361569347557\n",
      "Best random state:  90\n",
      "Mejor resultado y parametro encontrados:\n",
      "Mejor resultado (accuracy cv):  0.8885714285714286\n",
      "C: 100\n",
      "gamma: 0.001\n",
      "kernel: 'rbf'\n",
      "\n",
      "\n",
      "Exactitud: 0.8856666666666667\n",
      "F1_score: 0.8856361569347557\n",
      "Precision: 0.8856047460905555\n",
      "Recall: 0.8858820745632626\n",
      "\n",
      "             precision    recall  f1-score   support\n",
      "\n",
      "       fake     0.8740    0.8938    0.8838      1459\n",
      "       real     0.8972    0.8780    0.8875      1541\n",
      "\n",
      "avg / total     0.8859    0.8857    0.8857      3000\n",
      "\n",
      "[[1304  155]\n",
      " [ 188 1353]]\n",
      "\n",
      "Confusion matrix, without normalization\n",
      "[[1304  155]\n",
      " [ 188 1353]]\n"
     ]
    },
    {
     "data": {
      "image/png": "[encoded data removed]",
      "text/plain": [
       "<Figure size 432x288 with 2 Axes>"
      ]
     },
     "metadata": {},
     "output_type": "display_data"
    }
   ],
   "source": [
    "print_baseline_results(tf_baseline_results, parameters_svm_rbf)"
   ]
  },
  {
   "cell_type": "code",
   "execution_count": 41,
   "metadata": {},
   "outputs": [],
   "source": [
    "all_experiments_results = []"
   ]
  },
  {
   "cell_type": "markdown",
   "metadata": {},
   "source": [
    "## Prueba de la linea base con los parametros optimos\n",
    "Esta prueba se hace para validar los resultados obtenidos anteriormente. Si esta bien debe dar lo mismo o un resultado muy similar dependiendo del clasificador."
   ]
  },
  {
   "cell_type": "code",
   "execution_count": 42,
   "metadata": {},
   "outputs": [
    {
     "name": "stdout",
     "output_type": "stream",
     "text": [
      "Numero de caracteristicas:  (7000, 23367)\n",
      "\n",
      "train time: 17.854s\n",
      "Mejor resultado y parametro encontrados:\n",
      "Mejor resultado (accuracy cv):  0.8885714285714286\n",
      "C: 100\n",
      "gamma: 0.001\n",
      "kernel: 'rbf'\n",
      "\n",
      "Exactitud: 0.8856666666666667\n",
      "F1_score: 0.8856361569347557\n",
      "Precision: 0.8856047460905555\n",
      "Recall: 0.8858820745632626\n",
      "\n",
      "             precision    recall  f1-score   support\n",
      "\n",
      "       fake     0.8740    0.8938    0.8838      1459\n",
      "       real     0.8972    0.8780    0.8875      1541\n",
      "\n",
      "avg / total     0.8859    0.8857    0.8857      3000\n",
      "\n",
      "[[1304  155]\n",
      " [ 188 1353]]\n",
      "\n",
      "Confusion matrix, without normalization\n",
      "[[1304  155]\n",
      " [ 188 1353]]\n",
      "CPU times: user 9.58 s, sys: 1.18 s, total: 10.8 s\n",
      "Wall time: 21.5 s\n"
     ]
    },
    {
     "data": {
      "image/png": "[encoded data removed]",
      "text/plain": [
       "<Figure size 432x288 with 2 Axes>"
      ]
     },
     "metadata": {},
     "output_type": "display_data"
    }
   ],
   "source": [
    "%%time\n",
    "optimal_parameters = {'kernel': ['rbf'], 'gamma': [0.001], 'C': [100]}\n",
    "clf_tf_vect_baseline = run_one_experiment(total_data_content, total_data_target, tf_vect_baseline, optimal_parameters, SVC(), 90)\n",
    "all_experiments_results.append(clf_tf_vect_baseline)"
   ]
  },
  {
   "cell_type": "markdown",
   "metadata": {},
   "source": [
    "## Experimento 1: Remocion de stop words"
   ]
  },
  {
   "cell_type": "code",
   "execution_count": 43,
   "metadata": {},
   "outputs": [],
   "source": [
    "spanish_stopwords = stopwords.words('spanish')"
   ]
  },
  {
   "cell_type": "code",
   "execution_count": 44,
   "metadata": {},
   "outputs": [],
   "source": [
    "tf_vect_stopwords = CountVectorizer(stop_words = spanish_stopwords,\n",
    "                                    analyzer = 'word',\n",
    "                                    tokenizer = default_tokenize,\n",
    "                                    lowercase = True)"
   ]
  },
  {
   "cell_type": "code",
   "execution_count": 45,
   "metadata": {},
   "outputs": [
    {
     "name": "stdout",
     "output_type": "stream",
     "text": [
      "Numero de caracteristicas:  (7000, 23179)\n",
      "\n",
      "train time: 13.956s\n",
      "Mejor resultado y parametro encontrados:\n",
      "Mejor resultado (accuracy cv):  0.8857142857142857\n",
      "C: 100\n",
      "gamma: 0.001\n",
      "kernel: 'rbf'\n",
      "\n",
      "Exactitud: 0.8766666666666667\n",
      "F1_score: 0.8766646933017596\n",
      "Precision: 0.877620994388105\n",
      "Recall: 0.8774315388519156\n",
      "\n",
      "             precision    recall  f1-score   support\n",
      "\n",
      "       fake     0.8506    0.9054    0.8772      1459\n",
      "       real     0.9046    0.8494    0.8762      1541\n",
      "\n",
      "avg / total     0.8784    0.8767    0.8767      3000\n",
      "\n",
      "[[1321  138]\n",
      " [ 232 1309]]\n",
      "\n",
      "Confusion matrix, without normalization\n",
      "[[1321  138]\n",
      " [ 232 1309]]\n",
      "CPU times: user 7.53 s, sys: 1.02 s, total: 8.55 s\n",
      "Wall time: 16.7 s\n"
     ]
    },
    {
     "data": {
      "image/png": "[encoded data removed]",
      "text/plain": [
       "<Figure size 432x288 with 2 Axes>"
      ]
     },
     "metadata": {},
     "output_type": "display_data"
    }
   ],
   "source": [
    "%%time\n",
    "optimal_parameters = {'kernel': ['rbf'], 'gamma': [0.001], 'C': [100]}\n",
    "clf_tf_vect_stopwords = run_one_experiment(total_data_content, total_data_target, tf_vect_stopwords, optimal_parameters, SVC(), 90)\n",
    "all_experiments_results.append(clf_tf_vect_stopwords)"
   ]
  },
  {
   "cell_type": "markdown",
   "metadata": {},
   "source": [
    "## Experimento 2: Stemming"
   ]
  },
  {
   "cell_type": "code",
   "execution_count": 46,
   "metadata": {},
   "outputs": [
    {
     "name": "stdout",
     "output_type": "stream",
     "text": [
      "['holaaa', 'com', 'estas', 'estaa', 'cre', 'en', 'mi', 'si', 'llov', 'mañan', 'tu', 'cre', 'en', 'mi', 'cart', 'aeiou']\n"
     ]
    }
   ],
   "source": [
    "#Prueba de los metodos anteriores\n",
    "print(tokenize_stems(\n",
    "    \"holaaaa como estas estaaaas creerías en mi si lloviera mañana, tu crees en mi cartas ¡¡ ¿¿. a e i o u aeiou\"))"
   ]
  },
  {
   "cell_type": "code",
   "execution_count": 47,
   "metadata": {},
   "outputs": [],
   "source": [
    "tf_vect_stemming = CountVectorizer(\n",
    "                analyzer = 'word',\n",
    "                tokenizer = tokenize_stems,\n",
    "                lowercase = True)"
   ]
  },
  {
   "cell_type": "code",
   "execution_count": 48,
   "metadata": {},
   "outputs": [
    {
     "name": "stdout",
     "output_type": "stream",
     "text": [
      "Numero de caracteristicas:  (7000, 17699)\n",
      "\n",
      "train time: 16.495s\n",
      "Mejor resultado y parametro encontrados:\n",
      "Mejor resultado (accuracy cv):  0.8805714285714286\n",
      "C: 100\n",
      "gamma: 0.001\n",
      "kernel: 'rbf'\n",
      "\n",
      "Exactitud: 0.8826666666666667\n",
      "F1_score: 0.8826165308827458\n",
      "Precision: 0.8825503131947194\n",
      "Recall: 0.8827612985523852\n",
      "\n",
      "             precision    recall  f1-score   support\n",
      "\n",
      "       fake     0.8742    0.8862    0.8802      1459\n",
      "       real     0.8909    0.8793    0.8850      1541\n",
      "\n",
      "avg / total     0.8828    0.8827    0.8827      3000\n",
      "\n",
      "[[1293  166]\n",
      " [ 186 1355]]\n",
      "\n",
      "Confusion matrix, without normalization\n",
      "[[1293  166]\n",
      " [ 186 1355]]\n",
      "CPU times: user 14.1 s, sys: 1.36 s, total: 15.4 s\n",
      "Wall time: 24.5 s\n"
     ]
    },
    {
     "data": {
      "image/png": "[encoded data removed]",
      "text/plain": [
       "<Figure size 432x288 with 2 Axes>"
      ]
     },
     "metadata": {},
     "output_type": "display_data"
    }
   ],
   "source": [
    "%%time\n",
    "optimal_parameters = {'kernel': ['rbf'], 'gamma': [0.001], 'C': [100]}\n",
    "clf_tf_vect_stemming = run_one_experiment(total_data_content, total_data_target, tf_vect_stemming, optimal_parameters, SVC(), 90)\n",
    "all_experiments_results.append(clf_tf_vect_stemming)"
   ]
  },
  {
   "cell_type": "markdown",
   "metadata": {},
   "source": [
    "## Experimento 3: Lematizacion"
   ]
  },
  {
   "cell_type": "code",
   "execution_count": 49,
   "metadata": {},
   "outputs": [
    {
     "name": "stdout",
     "output_type": "stream",
     "text": [
      "['holaaaa', 'comer', 'este', 'estaaaas', 'creer', 'en', 'mi', 'si', 'llover', 'mañana', 'tu', 'creer', 'en', 'mi', 'carta', 'aeiou']\n"
     ]
    }
   ],
   "source": [
    "# Prueba del tokenizer\n",
    "print(tokenize_lemmas(\n",
    "    \"holaaaa como estas estaaaas creerías en mi si lloviera mañana, tu crees en mi cartas ¡¡ ¿¿. a e i o u aeiou\"))"
   ]
  },
  {
   "cell_type": "code",
   "execution_count": 50,
   "metadata": {},
   "outputs": [],
   "source": [
    "tf_vect_lemmatize = CountVectorizer(\n",
    "                analyzer = 'word',\n",
    "                tokenizer = tokenize_lemmas,\n",
    "                lowercase = True)"
   ]
  },
  {
   "cell_type": "code",
   "execution_count": 51,
   "metadata": {},
   "outputs": [
    {
     "name": "stdout",
     "output_type": "stream",
     "text": [
      "Numero de caracteristicas:  (7000, 18693)\n",
      "\n",
      "train time: 16.389s\n",
      "Mejor resultado y parametro encontrados:\n",
      "Mejor resultado (accuracy cv):  0.8791428571428571\n",
      "C: 100\n",
      "gamma: 0.001\n",
      "kernel: 'rbf'\n",
      "\n",
      "Exactitud: 0.8766666666666667\n",
      "F1_score: 0.8766376628105008\n",
      "Precision: 0.8766252958366204\n",
      "Recall: 0.8769026993055701\n",
      "\n",
      "             precision    recall  f1-score   support\n",
      "\n",
      "       fake     0.8642    0.8855    0.8747      1459\n",
      "       real     0.8890    0.8683    0.8785      1541\n",
      "\n",
      "avg / total     0.8770    0.8767    0.8767      3000\n",
      "\n",
      "[[1292  167]\n",
      " [ 203 1338]]\n",
      "\n",
      "Confusion matrix, without normalization\n",
      "[[1292  167]\n",
      " [ 203 1338]]\n",
      "CPU times: user 9.87 s, sys: 1.58 s, total: 11.4 s\n",
      "Wall time: 20.1 s\n"
     ]
    },
    {
     "data": {
      "image/png": "[encoded data removed]",
      "text/plain": [
       "<Figure size 432x288 with 2 Axes>"
      ]
     },
     "metadata": {},
     "output_type": "display_data"
    }
   ],
   "source": [
    "%%time\n",
    "optimal_parameters = {'kernel': ['rbf'], 'gamma': [0.001], 'C': [100]}\n",
    "clf_tf_vect_lemmatize = run_one_experiment(total_data_content, total_data_target, tf_vect_lemmatize, optimal_parameters, SVC(), 90)\n",
    "all_experiments_results.append(clf_tf_vect_lemmatize)"
   ]
  },
  {
   "cell_type": "markdown",
   "metadata": {},
   "source": [
    "## Experimento 4: Remocion de URLs"
   ]
  },
  {
   "cell_type": "code",
   "execution_count": 52,
   "metadata": {},
   "outputs": [
    {
     "name": "stdout",
     "output_type": "stream",
     "text": [
      "['holaaaa', 'cómo', 'creerías', 'mi', 'si', 'lloviera', 'mañana', 'tu', 'crees', 'en', 'mi', 'cartas', 'aeiou']\n"
     ]
    }
   ],
   "source": [
    "# Prueba de la tokenizacion sin urls\n",
    "print(tokenize_no_urls(\n",
    "    \"holaaaa cómo http://estas creerías https://stackoverflow.com/questions/11331982/how-to-remove-any-url-within-a-string-in-python mi si lloviera \\t  mañana, tu crees en mi cartas ¡¡ ¿¿. aeiou\"))"
   ]
  },
  {
   "cell_type": "code",
   "execution_count": 53,
   "metadata": {},
   "outputs": [],
   "source": [
    "tf_vect_no_urls = CountVectorizer(\n",
    "                analyzer = 'word',\n",
    "                tokenizer = tokenize_no_urls,\n",
    "                lowercase = True)"
   ]
  },
  {
   "cell_type": "code",
   "execution_count": 54,
   "metadata": {},
   "outputs": [
    {
     "name": "stdout",
     "output_type": "stream",
     "text": [
      "Numero de caracteristicas:  (7000, 15609)\n",
      "\n",
      "train time: 17.122s\n",
      "Mejor resultado y parametro encontrados:\n",
      "Mejor resultado (accuracy cv):  0.8474285714285714\n",
      "C: 100\n",
      "gamma: 0.001\n",
      "kernel: 'rbf'\n",
      "\n",
      "Exactitud: 0.8446666666666667\n",
      "F1_score: 0.8446390469416785\n",
      "Precision: 0.8464148122592146\n",
      "Recall: 0.845662915271365\n",
      "\n",
      "             precision    recall  f1-score   support\n",
      "\n",
      "       fake     0.8140    0.8821    0.8467      1459\n",
      "       real     0.8788    0.8092    0.8426      1541\n",
      "\n",
      "avg / total     0.8473    0.8447    0.8446      3000\n",
      "\n",
      "[[1287  172]\n",
      " [ 294 1247]]\n",
      "\n",
      "Confusion matrix, without normalization\n",
      "[[1287  172]\n",
      " [ 294 1247]]\n",
      "CPU times: user 10 s, sys: 1.54 s, total: 11.6 s\n",
      "Wall time: 20.8 s\n"
     ]
    },
    {
     "data": {
      "image/png": "[encoded data removed]",
      "text/plain": [
       "<Figure size 432x288 with 2 Axes>"
      ]
     },
     "metadata": {},
     "output_type": "display_data"
    }
   ],
   "source": [
    "%%time\n",
    "optimal_parameters = {'kernel': ['rbf'], 'gamma': [0.001], 'C': [100]}\n",
    "clf_tf_vect_no_urls = run_one_experiment(total_data_content, total_data_target, tf_vect_no_urls, optimal_parameters, SVC(), 90)\n",
    "all_experiments_results.append(clf_tf_vect_no_urls)"
   ]
  },
  {
   "cell_type": "markdown",
   "metadata": {},
   "source": [
    "## Experimento 5: Remocion de letras repetidas"
   ]
  },
  {
   "cell_type": "code",
   "execution_count": 55,
   "metadata": {},
   "outputs": [
    {
     "name": "stdout",
     "output_type": "stream",
     "text": [
      "['hola', 'cómo', 'htp', 'estas', 'estas', 'creerías', 'mi', 'si', 'lloviera', 'mañana', 'tu', 'crees', 'en', 'mi', 'cartas', 'aeiou']\n"
     ]
    }
   ],
   "source": [
    "print(tokenize_norm_letters(\n",
    "    \"holaaaa cómo http://estas estaaaas creerías mi si lloviera mañana, tu crees en mi cartas ¡¡ ¿¿. a e i o u aeiou\"))"
   ]
  },
  {
   "cell_type": "code",
   "execution_count": 56,
   "metadata": {},
   "outputs": [],
   "source": [
    "tf_vect_norm_letters = CountVectorizer(\n",
    "                analyzer = 'word',\n",
    "                tokenizer = tokenize_norm_letters,\n",
    "                lowercase = True)"
   ]
  },
  {
   "cell_type": "code",
   "execution_count": 57,
   "metadata": {},
   "outputs": [
    {
     "name": "stdout",
     "output_type": "stream",
     "text": [
      "Numero de caracteristicas:  (7000, 23288)\n",
      "\n",
      "train time: 16.508s\n",
      "Mejor resultado y parametro encontrados:\n",
      "Mejor resultado (accuracy cv):  0.8875714285714286\n",
      "C: 100\n",
      "gamma: 0.001\n",
      "kernel: 'rbf'\n",
      "\n",
      "Exactitud: 0.8853333333333333\n",
      "F1_score: 0.8852933644434327\n",
      "Precision: 0.8852351901856852\n",
      "Recall: 0.8854846665442049\n",
      "\n",
      "             precision    recall  f1-score   support\n",
      "\n",
      "       fake     0.8754    0.8910    0.8832      1459\n",
      "       real     0.8950    0.8799    0.8874      1541\n",
      "\n",
      "avg / total     0.8855    0.8853    0.8854      3000\n",
      "\n",
      "[[1300  159]\n",
      " [ 185 1356]]\n",
      "\n",
      "Confusion matrix, without normalization\n",
      "[[1300  159]\n",
      " [ 185 1356]]\n",
      "CPU times: user 10.9 s, sys: 1.38 s, total: 12.3 s\n",
      "Wall time: 21.5 s\n"
     ]
    },
    {
     "data": {
      "image/png": "[encoded data removed]",
      "text/plain": [
       "<Figure size 432x288 with 2 Axes>"
      ]
     },
     "metadata": {},
     "output_type": "display_data"
    }
   ],
   "source": [
    "%%time\n",
    "optimal_parameters = {'kernel': ['rbf'], 'gamma': [0.001], 'C': [100]}\n",
    "clf_tf_vect_norm_letters = run_one_experiment(total_data_content, total_data_target, tf_vect_norm_letters, optimal_parameters, SVC(), 90)\n",
    "all_experiments_results.append(clf_tf_vect_norm_letters)"
   ]
  },
  {
   "cell_type": "markdown",
   "metadata": {},
   "source": [
    "## Experimento 6: Remocion de terminos poco comunes (pruning < 10)"
   ]
  },
  {
   "cell_type": "code",
   "execution_count": 58,
   "metadata": {},
   "outputs": [],
   "source": [
    "tf_vect_pruning10 = CountVectorizer(\n",
    "                analyzer = 'word',\n",
    "                tokenizer = default_tokenize,\n",
    "                lowercase = True,\n",
    "                min_df=10)"
   ]
  },
  {
   "cell_type": "code",
   "execution_count": 59,
   "metadata": {},
   "outputs": [
    {
     "name": "stdout",
     "output_type": "stream",
     "text": [
      "Numero de caracteristicas:  (7000, 1218)\n",
      "\n",
      "train time: 10.451s\n",
      "Mejor resultado y parametro encontrados:\n",
      "Mejor resultado (accuracy cv):  0.8474285714285714\n",
      "C: 100\n",
      "gamma: 0.001\n",
      "kernel: 'rbf'\n",
      "\n",
      "Exactitud: 0.8456666666666667\n",
      "F1_score: 0.845102823734262\n",
      "Precision: 0.8474175035868006\n",
      "Recall: 0.8446486019110278\n",
      "\n",
      "             precision    recall  f1-score   support\n",
      "\n",
      "       fake     0.8662    0.8074    0.8358      1459\n",
      "       real     0.8287    0.8819    0.8544      1541\n",
      "\n",
      "avg / total     0.8469    0.8457    0.8454      3000\n",
      "\n",
      "[[1178  281]\n",
      " [ 182 1359]]\n",
      "\n",
      "Confusion matrix, without normalization\n",
      "[[1178  281]\n",
      " [ 182 1359]]\n",
      "CPU times: user 5.8 s, sys: 1.39 s, total: 7.19 s\n",
      "Wall time: 12.7 s\n"
     ]
    },
    {
     "data": {
      "image/png": "[encoded data removed]",
      "text/plain": [
       "<Figure size 432x288 with 2 Axes>"
      ]
     },
     "metadata": {},
     "output_type": "display_data"
    }
   ],
   "source": [
    "%%time\n",
    "optimal_parameters = {'kernel': ['rbf'], 'gamma': [0.001], 'C': [100]}\n",
    "clf_tf_vect_pruning10 = run_one_experiment(total_data_content, total_data_target, tf_vect_pruning10, optimal_parameters, SVC(), 90)\n",
    "all_experiments_results.append(clf_tf_vect_pruning10)"
   ]
  },
  {
   "cell_type": "markdown",
   "metadata": {},
   "source": [
    "## Experimento 7: Remocion de terminos poco comunes (pruning < 5)"
   ]
  },
  {
   "cell_type": "code",
   "execution_count": 60,
   "metadata": {},
   "outputs": [],
   "source": [
    "tf_vect_pruning5 = CountVectorizer(\n",
    "                analyzer = 'word',\n",
    "                tokenizer = default_tokenize,\n",
    "                lowercase = True,\n",
    "                min_df=5)"
   ]
  },
  {
   "cell_type": "code",
   "execution_count": 61,
   "metadata": {},
   "outputs": [
    {
     "name": "stdout",
     "output_type": "stream",
     "text": [
      "Numero de caracteristicas:  (7000, 2643)\n",
      "\n",
      "train time: 11.619s\n",
      "Mejor resultado y parametro encontrados:\n",
      "Mejor resultado (accuracy cv):  0.8725714285714286\n",
      "C: 100\n",
      "gamma: 0.001\n",
      "kernel: 'rbf'\n",
      "\n",
      "Exactitud: 0.861\n",
      "F1_score: 0.8607262652117033\n",
      "Precision: 0.8615217422338968\n",
      "Recall: 0.8604310598273643\n",
      "\n",
      "             precision    recall  f1-score   support\n",
      "\n",
      "       fake     0.8700    0.8396    0.8546      1459\n",
      "       real     0.8530    0.8812    0.8669      1541\n",
      "\n",
      "avg / total     0.8613    0.8610    0.8609      3000\n",
      "\n",
      "[[1225  234]\n",
      " [ 183 1358]]\n",
      "\n",
      "Confusion matrix, without normalization\n",
      "[[1225  234]\n",
      " [ 183 1358]]\n",
      "CPU times: user 6.71 s, sys: 1.45 s, total: 8.16 s\n",
      "Wall time: 14.2 s\n"
     ]
    },
    {
     "data": {
      "image/png": "[encoded data removed]",
      "text/plain": [
       "<Figure size 432x288 with 2 Axes>"
      ]
     },
     "metadata": {},
     "output_type": "display_data"
    }
   ],
   "source": [
    "%%time\n",
    "optimal_parameters = {'kernel': ['rbf'], 'gamma': [0.001], 'C': [100]}\n",
    "clf_tf_vect_pruning5 = run_one_experiment(total_data_content, total_data_target, tf_vect_pruning5, optimal_parameters, SVC(), 90)\n",
    "all_experiments_results.append(clf_tf_vect_pruning5)"
   ]
  },
  {
   "cell_type": "code",
   "execution_count": 62,
   "metadata": {},
   "outputs": [
    {
     "data": {
      "text/plain": [
       "8"
      ]
     },
     "execution_count": 62,
     "metadata": {},
     "output_type": "execute_result"
    }
   ],
   "source": [
    "len(all_experiments_results)"
   ]
  },
  {
   "cell_type": "code",
   "execution_count": 63,
   "metadata": {},
   "outputs": [],
   "source": [
    "import xlsxwriter"
   ]
  },
  {
   "cell_type": "code",
   "execution_count": 64,
   "metadata": {},
   "outputs": [],
   "source": [
    "# Create a workbook and add a worksheet.\n",
    "# workbook = xlsxwriter.Workbook('result_es_news_fakes_svm_rbf_tf.xlsx')\n",
    "# worksheet = workbook.add_worksheet()\n",
    "# row = 0\n",
    "# col = 0\n",
    "# for exp in all_experiments_results:\n",
    "#     worksheet.write(row, col, exp[0])\n",
    "#     row += 1\n",
    "#     worksheet.write(row, col, exp[1])\n",
    "#     row += 1\n",
    "#     worksheet.write(row, col, exp[2])\n",
    "#     row += 1\n",
    "#     worksheet.write(row, col, exp[3])\n",
    "#     row += 1\n",
    "#     worksheet.write(row, col, exp[4])\n",
    "#     row += 1\n",
    "#     worksheet.write(row, col, exp[5])\n",
    "#     row += 1\n",
    "#     worksheet.write(row, col, exp[6])\n",
    "#     row += 1\n",
    "#     worksheet.write(row, col, exp[7])\n",
    "#     row += 1\n",
    "#     worksheet.write(row, col, exp[8])\n",
    "#     row += 1\n",
    "#     row = 0\n",
    "#     col += 1\n",
    "# workbook.close()"
   ]
  }
 ],
 "metadata": {
  "kernelspec": {
   "display_name": "python_tg",
   "language": "python",
   "name": "python_tg"
  },
  "language_info": {
   "codemirror_mode": {
    "name": "ipython",
    "version": 3
   },
   "file_extension": ".py",
   "mimetype": "text/x-python",
   "name": "python",
   "nbconvert_exporter": "python",
   "pygments_lexer": "ipython3",
   "version": "3.6.2"
  }
 },
 "nbformat": 4,
 "nbformat_minor": 2
}
