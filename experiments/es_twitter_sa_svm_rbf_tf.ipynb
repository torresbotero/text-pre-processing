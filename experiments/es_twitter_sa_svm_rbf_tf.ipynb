{
 "cells": [
  {
   "cell_type": "code",
   "execution_count": 50,
   "metadata": {},
   "outputs": [],
   "source": [
    "import pandas as pd\n",
    "\n",
    "from sklearn.model_selection import train_test_split\n",
    "from sklearn.feature_extraction.text import CountVectorizer\n",
    "from sklearn.feature_extraction.text import TfidfVectorizer\n",
    "from sklearn.svm import SVC\n",
    "\n",
    "from experiments_core import run_tests_splits\n",
    "from experiments_core import run_one_experiment\n",
    "from experiments_core import print_baseline_results\n",
    "from experiments_core import default_tokenize\n",
    "from experiments_core import tokenize_stems\n",
    "from experiments_core import tokenize_lemmas\n",
    "from experiments_core import tokenize_no_urls\n",
    "from experiments_core import tokenize_norm_letters\n",
    "\n",
    "from nltk.corpus import stopwords\n",
    "\n",
    "%matplotlib inline"
   ]
  },
  {
   "cell_type": "code",
   "execution_count": 51,
   "metadata": {},
   "outputs": [
    {
     "data": {
      "text/plain": [
       "<module 'experiments_core' from '/home/ctorres9/EAFIT/trabajogrado/experiments/experiments_core.py'>"
      ]
     },
     "execution_count": 51,
     "metadata": {},
     "output_type": "execute_result"
    }
   ],
   "source": [
    "import importlib\n",
    "import sys\n",
    "importlib.reload(sys.modules[run_tests_splits.__module__])\n",
    "importlib.reload(sys.modules[run_one_experiment.__module__])\n",
    "importlib.reload(sys.modules[print_baseline_results.__module__])\n",
    "importlib.reload(sys.modules[default_tokenize.__module__])\n",
    "importlib.reload(sys.modules[tokenize_stems.__module__])\n",
    "importlib.reload(sys.modules[tokenize_lemmas.__module__])\n",
    "importlib.reload(sys.modules[tokenize_no_urls.__module__])\n",
    "importlib.reload(sys.modules[tokenize_norm_letters.__module__])"
   ]
  },
  {
   "cell_type": "code",
   "execution_count": 3,
   "metadata": {},
   "outputs": [
    {
     "name": "stdout",
     "output_type": "stream",
     "text": [
      "                      tweetid          user               content  \\\n",
      "count                   60798         60798                 60798   \n",
      "unique                  60798           158                 60405   \n",
      "top      179195261292261376,0  mariviromero  Buenos días a todos!   \n",
      "freq                        1          7138                   111   \n",
      "\n",
      "                       date   lang polarity  topic  \n",
      "count                 60798  60798    60798  60798  \n",
      "unique                60510      1        6     10  \n",
      "top     2011-12-11T12:56:51     es     NONE  otros  \n",
      "freq                      4  60798    21416  28189  \n",
      "                 tweetid            user  \\\n",
      "0   142378325086715904,0     jesusmarana   \n",
      "1   142379080808013824,0       EvaORegan   \n",
      "2   142379173120442368,0  LosadaPescador   \n",
      "3   142379815708803072,0    mgilguerrero   \n",
      "4   142381190123499520,0  pedroj_ramirez   \n",
      "\n",
      "                                             content                 date  \\\n",
      "0  Portada 'Público', viernes. Fabra al banquillo...  2011-12-02T00:03:32   \n",
      "1  Grande! RT @veronicacalderon \"El periodista es...  2011-12-02T00:06:32   \n",
      "2  Gonzalo Altozano tras la presentación de su li...  2011-12-02T00:06:55   \n",
      "3  Mañana en Gaceta: TVE, la que pagamos tú y yo,...  2011-12-02T00:09:28   \n",
      "4  Qué envidia “@mfcastineiras: Pedro mañana x la...  2011-12-02T00:14:55   \n",
      "\n",
      "  lang polarity            topic  \n",
      "0   es        N         política  \n",
      "1   es     NONE         política  \n",
      "2   es       P+            otros  \n",
      "3   es        N  entretenimiento  \n",
      "4   es     NONE            otros  \n"
     ]
    }
   ],
   "source": [
    "file_path = 'data/TweetsPolaridadSEPLN.csv'\n",
    "original_tweets_df = pd.read_csv(file_path, index_col=None, header=0, sep='\\t')\n",
    "print(original_tweets_df.describe())\n",
    "print(original_tweets_df.head())"
   ]
  },
  {
   "cell_type": "code",
   "execution_count": 4,
   "metadata": {},
   "outputs": [
    {
     "name": "stdout",
     "output_type": "stream",
     "text": [
      "                                                  content  polarity\n",
      "count                                               38077     38077\n",
      "unique                                              37926         2\n",
      "top     ¡Noticias descombacantes! está disponible! htt...  positive\n",
      "freq                                                   63     22233\n",
      "                                             content  polarity\n",
      "0  Dado q la deuda privada es superior a la publi...  negative\n",
      "1  TEPCO inyecta nitrógeno en los reactores de Fu...  negative\n",
      "2  “@Declaracion: «Cualquier injusticia contra un...  negative\n",
      "3  ¡Qué estrés!, la presidenta de la diputación d...  negative\n",
      "4  Hoy entrego mi credencial en el Congreso. Una ...  negative\n"
     ]
    }
   ],
   "source": [
    "strong_negative_tweets = original_tweets_df[original_tweets_df.polarity == 'N+'][['content','polarity']]\n",
    "standar_negative_tweets = original_tweets_df[original_tweets_df.polarity == 'N'][['content','polarity']]\n",
    "\n",
    "strong_positive_tweets = original_tweets_df[original_tweets_df.polarity == 'P+'][['content','polarity']]\n",
    "standar_positive_tweets = original_tweets_df[original_tweets_df.polarity == 'P'][['content','polarity']]\n",
    "\n",
    "negative_tweets = pd.concat([strong_negative_tweets,standar_negative_tweets], ignore_index=True)\n",
    "positive_tweets = pd.concat([strong_positive_tweets,standar_positive_tweets], ignore_index=True)\n",
    "\n",
    "negative_tweets.polarity = \"negative\"\n",
    "positive_tweets.polarity = \"positive\"\n",
    "\n",
    "total_tweets = pd.concat([negative_tweets,positive_tweets], ignore_index=True)\n",
    "print(total_tweets.describe())\n",
    "print(total_tweets.head())"
   ]
  },
  {
   "cell_type": "code",
   "execution_count": 5,
   "metadata": {},
   "outputs": [],
   "source": [
    "total_data_content = total_tweets.content\n",
    "total_data_target = total_tweets.polarity"
   ]
  },
  {
   "cell_type": "code",
   "execution_count": 6,
   "metadata": {},
   "outputs": [],
   "source": [
    "X_train, X_test, y_train, y_test = train_test_split(total_data_content, \n",
    "                                                    total_data_target, \n",
    "                                                    test_size=0.3, \n",
    "                                                    random_state=80)"
   ]
  },
  {
   "cell_type": "code",
   "execution_count": 7,
   "metadata": {},
   "outputs": [
    {
     "name": "stdout",
     "output_type": "stream",
     "text": [
      "Positivos entrenamiento: 15552\n",
      "Negativos entrenamiento: 11101\n",
      "Positivos pruebas: 6681\n",
      "Negativos pruebas: 4743\n"
     ]
    }
   ],
   "source": [
    "print(\"Positivos entrenamiento:\", len(y_train[y_train == 'positive']))\n",
    "print(\"Negativos entrenamiento:\", len(y_train[y_train == 'negative']))\n",
    "print(\"Positivos pruebas:\", len(y_test[y_test == 'positive']))\n",
    "print(\"Negativos pruebas:\", len(y_test[y_test == 'negative']))"
   ]
  },
  {
   "cell_type": "markdown",
   "metadata": {},
   "source": [
    "# Experimentos con el clasificador SVM radial y el metodo de ponderacion TF (Term Frequency)\n",
    "Los siguientes son los experimentos realizados para el clasificador SVM con kernel radial y con el metodo de ponderación para el modelo de espacio vectorial usando TF (Term Frequency)"
   ]
  },
  {
   "cell_type": "markdown",
   "metadata": {},
   "source": [
    "# Linea base"
   ]
  },
  {
   "cell_type": "code",
   "execution_count": 8,
   "metadata": {},
   "outputs": [],
   "source": [
    "tf_vect_baseline = CountVectorizer(\n",
    "                analyzer = 'word',\n",
    "                tokenizer = default_tokenize,\n",
    "                lowercase = True)"
   ]
  },
  {
   "cell_type": "code",
   "execution_count": 9,
   "metadata": {},
   "outputs": [],
   "source": [
    "parameters_svm_rbf = {'kernel': ['rbf'], 'gamma': [1e-3, 1e-4], 'C': [1, 10, 100, 1000]}"
   ]
  },
  {
   "cell_type": "code",
   "execution_count": 10,
   "metadata": {},
   "outputs": [
    {
     "name": "stdout",
     "output_type": "stream",
     "text": [
      "random state:  10\n",
      "train time: 2280.627s\n",
      "random state:  20\n",
      "train time: 2258.630s\n",
      "random state:  30\n",
      "train time: 2170.245s\n",
      "random state:  40\n",
      "train time: 2223.516s\n",
      "train time: 2517.422s\n",
      "random state:  60\n",
      "train time: 2169.165s\n",
      "random state:  70\n",
      "train time: 2162.865s\n",
      "random state:  80\n",
      "train time: 2130.998s\n",
      "random state:  90\n",
      "train time: 2188.825s\n",
      "random state:  100\n",
      "train time: 1709.727s\n",
      "CPU times: user 1h 11min 20s, sys: 1min 32s, total: 1h 12min 53s\n",
      "Wall time: 6h 9min 41s\n"
     ]
    }
   ],
   "source": [
    "%%time\n",
    "tf_baseline_results = run_tests_splits(total_data_content, total_data_target, tf_vect_baseline, parameters_svm_rbf, SVC())"
   ]
  },
  {
   "cell_type": "code",
   "execution_count": 14,
   "metadata": {},
   "outputs": [
    {
     "name": "stdout",
     "output_type": "stream",
     "text": [
      "Numero de caracteristicas:  (26653, 48372)\n",
      "\n",
      "Best score selected:  0.9051889093160245\n",
      "Best Accuracy:  0.9019607843137255\n",
      "Best Best F1-score:  0.8989873981827634\n",
      "Best random state:  30\n",
      "Mejor resultado y parametro encontrados:\n",
      "Mejor resultado (accuracy cv):  0.9051889093160245\n",
      "C: 100\n",
      "gamma: 0.001\n",
      "kernel: 'rbf'\n",
      "\n",
      "\n",
      "Exactitud: 0.9019607843137255\n",
      "F1_score: 0.8989873981827634\n",
      "Precision: 0.8997817833056683\n",
      "Recall: 0.8982505169284718\n",
      "\n",
      "             precision    recall  f1-score   support\n",
      "\n",
      "   negative     0.8875    0.8759    0.8817      4763\n",
      "   positive     0.9121    0.9206    0.9163      6661\n",
      "\n",
      "avg / total     0.9018    0.9020    0.9019     11424\n",
      "\n",
      "[[4172  591]\n",
      " [ 529 6132]]\n",
      "\n",
      "Confusion matrix, without normalization\n",
      "[[4172  591]\n",
      " [ 529 6132]]\n"
     ]
    },
    {
     "data": {
      "image/png": "[encoded data removed]",
      "text/plain": [
       "<Figure size 432x288 with 2 Axes>"
      ]
     },
     "metadata": {},
     "output_type": "display_data"
    }
   ],
   "source": [
    "print_baseline_results(tf_baseline_results, parameters_svm_rbf)"
   ]
  },
  {
   "cell_type": "code",
   "execution_count": 54,
   "metadata": {},
   "outputs": [],
   "source": [
    "all_experiments_results = []"
   ]
  },
  {
   "cell_type": "markdown",
   "metadata": {},
   "source": [
    "## Prueba de la linea base con los parametros optimos\n",
    "Esta prueba se hace para validar los resultados obtenidos anteriormente. Si esta bien debe dar lo mismo o un resultado muy similar dependiendo del clasificador."
   ]
  },
  {
   "cell_type": "code",
   "execution_count": 55,
   "metadata": {},
   "outputs": [
    {
     "name": "stdout",
     "output_type": "stream",
     "text": [
      "Numero de caracteristicas:  (26653, 48372)\n",
      "\n",
      "train time: 516.986s\n",
      "Mejor resultado y parametro encontrados:\n",
      "Mejor resultado (accuracy cv):  0.9051889093160245\n",
      "C: 100\n",
      "gamma: 0.001\n",
      "kernel: 'rbf'\n",
      "\n",
      "Exactitud: 0.9019607843137255\n",
      "F1_score: 0.8989873981827634\n",
      "Precision: 0.8997817833056683\n",
      "Recall: 0.8982505169284718\n",
      "\n",
      "             precision    recall  f1-score   support\n",
      "\n",
      "   negative     0.8875    0.8759    0.8817      4763\n",
      "   positive     0.9121    0.9206    0.9163      6661\n",
      "\n",
      "avg / total     0.9018    0.9020    0.9019     11424\n",
      "\n",
      "[[4172  591]\n",
      " [ 529 6132]]\n",
      "\n",
      "Confusion matrix, without normalization\n",
      "[[4172  591]\n",
      " [ 529 6132]]\n",
      "CPU times: user 4min 25s, sys: 3.53 s, total: 4min 28s\n",
      "Wall time: 9min 17s\n"
     ]
    },
    {
     "data": {
      "image/png": "[encoded data removed]",
      "text/plain": [
       "<Figure size 432x288 with 2 Axes>"
      ]
     },
     "metadata": {},
     "output_type": "display_data"
    }
   ],
   "source": [
    "%%time\n",
    "optimal_parameters = {'kernel': ['rbf'], 'gamma': [0.001], 'C': [100]}\n",
    "clf_tf_vect_baseline = run_one_experiment(total_data_content, total_data_target, tf_vect_baseline, optimal_parameters, SVC(), 30)\n",
    "all_experiments_results.append(clf_tf_vect_baseline)"
   ]
  },
  {
   "cell_type": "markdown",
   "metadata": {},
   "source": [
    "## Experimento 1: Remocion de stop words"
   ]
  },
  {
   "cell_type": "code",
   "execution_count": 56,
   "metadata": {},
   "outputs": [],
   "source": [
    "spanish_stopwords = stopwords.words('spanish')"
   ]
  },
  {
   "cell_type": "code",
   "execution_count": 57,
   "metadata": {},
   "outputs": [],
   "source": [
    "tf_vect_stopwords = CountVectorizer(stop_words = spanish_stopwords,\n",
    "                                    analyzer = 'word',\n",
    "                                    tokenizer = default_tokenize,\n",
    "                                    lowercase = True)"
   ]
  },
  {
   "cell_type": "code",
   "execution_count": 58,
   "metadata": {},
   "outputs": [
    {
     "name": "stdout",
     "output_type": "stream",
     "text": [
      "Numero de caracteristicas:  (26653, 48118)\n",
      "\n",
      "train time: 370.369s\n",
      "Mejor resultado y parametro encontrados:\n",
      "Mejor resultado (accuracy cv):  0.8904063332457884\n",
      "C: 100\n",
      "gamma: 0.001\n",
      "kernel: 'rbf'\n",
      "\n",
      "Exactitud: 0.8920693277310925\n",
      "F1_score: 0.8883354880822376\n",
      "Precision: 0.891067113764895\n",
      "Recall: 0.8861489488404006\n",
      "\n",
      "             precision    recall  f1-score   support\n",
      "\n",
      "   negative     0.8860    0.8505    0.8679      4763\n",
      "   positive     0.8961    0.9218    0.9088      6661\n",
      "\n",
      "avg / total     0.8919    0.8921    0.8917     11424\n",
      "\n",
      "[[4051  712]\n",
      " [ 521 6140]]\n",
      "\n",
      "Confusion matrix, without normalization\n",
      "[[4051  712]\n",
      " [ 521 6140]]\n",
      "CPU times: user 3min 14s, sys: 3.46 s, total: 3min 17s\n",
      "Wall time: 6min 39s\n"
     ]
    },
    {
     "data": {
      "image/png": "[encoded data removed]",
      "text/plain": [
       "<Figure size 432x288 with 2 Axes>"
      ]
     },
     "metadata": {},
     "output_type": "display_data"
    }
   ],
   "source": [
    "%%time\n",
    "optimal_parameters = {'kernel': ['rbf'], 'gamma': [0.001], 'C': [100]}\n",
    "clf_tf_vect_stopwords = run_one_experiment(total_data_content, total_data_target, tf_vect_stopwords, optimal_parameters, SVC(), 30)\n",
    "all_experiments_results.append(clf_tf_vect_stopwords)"
   ]
  },
  {
   "cell_type": "markdown",
   "metadata": {},
   "source": [
    "## Experimento 2: Stemming"
   ]
  },
  {
   "cell_type": "code",
   "execution_count": 59,
   "metadata": {},
   "outputs": [
    {
     "name": "stdout",
     "output_type": "stream",
     "text": [
      "['holaaa', 'com', 'estas', 'estaa', 'cre', 'en', 'mi', 'si', 'llov', 'mañan', 'tu', 'cre', 'en', 'mi', 'cart', 'aeiou']\n"
     ]
    }
   ],
   "source": [
    "#Prueba de los metodos anteriores\n",
    "print(tokenize_stems(\n",
    "    \"holaaaa como estas estaaaas creerías en mi si lloviera mañana, tu crees en mi cartas ¡¡ ¿¿. a e i o u aeiou\"))"
   ]
  },
  {
   "cell_type": "code",
   "execution_count": 60,
   "metadata": {},
   "outputs": [],
   "source": [
    "tf_vect_stemming = CountVectorizer(\n",
    "                analyzer = 'word',\n",
    "                tokenizer = tokenize_stems,\n",
    "                lowercase = True)"
   ]
  },
  {
   "cell_type": "code",
   "execution_count": 61,
   "metadata": {},
   "outputs": [
    {
     "name": "stdout",
     "output_type": "stream",
     "text": [
      "Numero de caracteristicas:  (26653, 32850)\n",
      "\n",
      "train time: 365.445s\n",
      "Mejor resultado y parametro encontrados:\n",
      "Mejor resultado (accuracy cv):  0.9086031591190485\n",
      "C: 100\n",
      "gamma: 0.001\n",
      "kernel: 'rbf'\n",
      "\n",
      "Exactitud: 0.906687675070028\n",
      "F1_score: 0.9038278098245115\n",
      "Precision: 0.9047716533643098\n",
      "Recall: 0.9029620274861178\n",
      "\n",
      "             precision    recall  f1-score   support\n",
      "\n",
      "   negative     0.8941    0.8805    0.8872      4763\n",
      "   positive     0.9155    0.9254    0.9204      6661\n",
      "\n",
      "avg / total     0.9066    0.9067    0.9066     11424\n",
      "\n",
      "[[4194  569]\n",
      " [ 497 6164]]\n",
      "\n",
      "Confusion matrix, without normalization\n",
      "[[4194  569]\n",
      " [ 497 6164]]\n",
      "CPU times: user 3min 40s, sys: 3.11 s, total: 3min 43s\n",
      "Wall time: 6min 50s\n"
     ]
    },
    {
     "data": {
      "image/png": "[encoded data removed]",
      "text/plain": [
       "<Figure size 432x288 with 2 Axes>"
      ]
     },
     "metadata": {},
     "output_type": "display_data"
    }
   ],
   "source": [
    "%%time\n",
    "optimal_parameters = {'kernel': ['rbf'], 'gamma': [0.001], 'C': [100]}\n",
    "clf_tf_vect_stemming = run_one_experiment(total_data_content, total_data_target, tf_vect_stemming, optimal_parameters, SVC(), 30)\n",
    "all_experiments_results.append(clf_tf_vect_stemming)"
   ]
  },
  {
   "cell_type": "markdown",
   "metadata": {},
   "source": [
    "## Experimento 3: Lematizacion"
   ]
  },
  {
   "cell_type": "code",
   "execution_count": 62,
   "metadata": {},
   "outputs": [
    {
     "name": "stdout",
     "output_type": "stream",
     "text": [
      "['holaaaa', 'comer', 'este', 'estaaaas', 'creer', 'en', 'mi', 'si', 'llover', 'mañana', 'tu', 'creer', 'en', 'mi', 'carta', 'aeiou']\n"
     ]
    }
   ],
   "source": [
    "# Prueba del tokenizer\n",
    "print(tokenize_lemmas(\n",
    "    \"holaaaa como estas estaaaas creerías en mi si lloviera mañana, tu crees en mi cartas ¡¡ ¿¿. a e i o u aeiou\"))"
   ]
  },
  {
   "cell_type": "code",
   "execution_count": 63,
   "metadata": {},
   "outputs": [],
   "source": [
    "tf_vect_lemmatize = CountVectorizer(\n",
    "                analyzer = 'word',\n",
    "                tokenizer = tokenize_lemmas,\n",
    "                lowercase = True)"
   ]
  },
  {
   "cell_type": "code",
   "execution_count": 64,
   "metadata": {},
   "outputs": [
    {
     "name": "stdout",
     "output_type": "stream",
     "text": [
      "Numero de caracteristicas:  (26653, 36771)\n",
      "\n",
      "train time: 400.107s\n",
      "Mejor resultado y parametro encontrados:\n",
      "Mejor resultado (accuracy cv):  0.9085656398904438\n",
      "C: 100\n",
      "gamma: 0.001\n",
      "kernel: 'rbf'\n",
      "\n",
      "Exactitud: 0.9047619047619048\n",
      "F1_score: 0.9018734725203987\n",
      "Precision: 0.9026734938525047\n",
      "Recall: 0.9011311514850608\n",
      "\n",
      "             precision    recall  f1-score   support\n",
      "\n",
      "   negative     0.8909    0.8793    0.8850      4763\n",
      "   positive     0.9145    0.9230    0.9187      6661\n",
      "\n",
      "avg / total     0.9046    0.9048    0.9047     11424\n",
      "\n",
      "[[4188  575]\n",
      " [ 513 6148]]\n",
      "\n",
      "Confusion matrix, without normalization\n",
      "[[4188  575]\n",
      " [ 513 6148]]\n",
      "CPU times: user 3min 39s, sys: 3.21 s, total: 3min 43s\n",
      "Wall time: 7min 14s\n"
     ]
    },
    {
     "data": {
      "image/png": "[encoded data removed]",
      "text/plain": [
       "<Figure size 432x288 with 2 Axes>"
      ]
     },
     "metadata": {},
     "output_type": "display_data"
    }
   ],
   "source": [
    "%%time\n",
    "optimal_parameters = {'kernel': ['rbf'], 'gamma': [0.001], 'C': [100]}\n",
    "clf_tf_vect_lemmatize = run_one_experiment(total_data_content, total_data_target, tf_vect_lemmatize, optimal_parameters, SVC(), 30)\n",
    "all_experiments_results.append(clf_tf_vect_lemmatize)"
   ]
  },
  {
   "cell_type": "markdown",
   "metadata": {},
   "source": [
    "## Experimento 4: Remocion de URLs"
   ]
  },
  {
   "cell_type": "code",
   "execution_count": 65,
   "metadata": {},
   "outputs": [
    {
     "name": "stdout",
     "output_type": "stream",
     "text": [
      "['holaaaa', 'cómo', 'creerías', 'mi', 'si', 'lloviera', 'mañana', 'tu', 'crees', 'en', 'mi', 'cartas', 'aeiou']\n"
     ]
    }
   ],
   "source": [
    "# Prueba de la tokenizacion sin urls\n",
    "print(tokenize_no_urls(\n",
    "    \"holaaaa cómo http://estas creerías https://stackoverflow.com/questions/11331982/how-to-remove-any-url-within-a-string-in-python mi si lloviera \\t  mañana, tu crees en mi cartas ¡¡ ¿¿. aeiou\"))"
   ]
  },
  {
   "cell_type": "code",
   "execution_count": 66,
   "metadata": {},
   "outputs": [],
   "source": [
    "tf_vect_no_urls = CountVectorizer(\n",
    "                analyzer = 'word',\n",
    "                tokenizer = tokenize_no_urls,\n",
    "                lowercase = True)"
   ]
  },
  {
   "cell_type": "code",
   "execution_count": 67,
   "metadata": {},
   "outputs": [
    {
     "name": "stdout",
     "output_type": "stream",
     "text": [
      "Numero de caracteristicas:  (26653, 40441)\n",
      "\n",
      "train time: 452.319s\n",
      "Mejor resultado y parametro encontrados:\n",
      "Mejor resultado (accuracy cv):  0.9053014670018384\n",
      "C: 100\n",
      "gamma: 0.001\n",
      "kernel: 'rbf'\n",
      "\n",
      "Exactitud: 0.9032738095238095\n",
      "F1_score: 0.9003556445744242\n",
      "Precision: 0.9010843555198707\n",
      "Recall: 0.899675594505172\n",
      "\n",
      "             precision    recall  f1-score   support\n",
      "\n",
      "   negative     0.8887    0.8780    0.8833      4763\n",
      "   positive     0.9135    0.9213    0.9174      6661\n",
      "\n",
      "avg / total     0.9031    0.9033    0.9032     11424\n",
      "\n",
      "[[4182  581]\n",
      " [ 524 6137]]\n",
      "\n",
      "Confusion matrix, without normalization\n",
      "[[4182  581]\n",
      " [ 524 6137]]\n",
      "CPU times: user 4min 36s, sys: 2.99 s, total: 4min 39s\n",
      "Wall time: 8min 9s\n"
     ]
    },
    {
     "data": {
      "image/png": "[encoded data removed]",
      "text/plain": [
       "<Figure size 432x288 with 2 Axes>"
      ]
     },
     "metadata": {},
     "output_type": "display_data"
    }
   ],
   "source": [
    "%%time\n",
    "optimal_parameters = {'kernel': ['rbf'], 'gamma': [0.001], 'C': [100]}\n",
    "clf_tf_vect_no_urls = run_one_experiment(total_data_content, total_data_target, tf_vect_no_urls, optimal_parameters, SVC(), 30)\n",
    "all_experiments_results.append(clf_tf_vect_no_urls)"
   ]
  },
  {
   "cell_type": "markdown",
   "metadata": {},
   "source": [
    "## Experimento 5: Remocion de letras repetidas"
   ]
  },
  {
   "cell_type": "code",
   "execution_count": 68,
   "metadata": {},
   "outputs": [
    {
     "name": "stdout",
     "output_type": "stream",
     "text": [
      "['hola', 'cómo', 'htp', 'estas', 'estas', 'creerías', 'mi', 'si', 'lloviera', 'mañana', 'tu', 'crees', 'en', 'mi', 'cartas', 'aeiou']\n"
     ]
    }
   ],
   "source": [
    "print(tokenize_norm_letters(\n",
    "    \"holaaaa cómo http://estas estaaaas creerías mi si lloviera mañana, tu crees en mi cartas ¡¡ ¿¿. a e i o u aeiou\"))"
   ]
  },
  {
   "cell_type": "code",
   "execution_count": 69,
   "metadata": {},
   "outputs": [],
   "source": [
    "tf_vect_norm_letters = CountVectorizer(\n",
    "                analyzer = 'word',\n",
    "                tokenizer = tokenize_norm_letters,\n",
    "                lowercase = True)"
   ]
  },
  {
   "cell_type": "code",
   "execution_count": 70,
   "metadata": {},
   "outputs": [
    {
     "name": "stdout",
     "output_type": "stream",
     "text": [
      "Numero de caracteristicas:  (26653, 47582)\n",
      "\n",
      "train time: 513.192s\n",
      "Mejor resultado y parametro encontrados:\n",
      "Mejor resultado (accuracy cv):  0.9060518515739316\n",
      "C: 100\n",
      "gamma: 0.001\n",
      "kernel: 'rbf'\n",
      "\n",
      "Exactitud: 0.9028361344537815\n",
      "F1_score: 0.8998644542692356\n",
      "Precision: 0.9007712691639254\n",
      "Recall: 0.8990310670221273\n",
      "\n",
      "             precision    recall  f1-score   support\n",
      "\n",
      "   negative     0.8892    0.8761    0.8826      4763\n",
      "   positive     0.9123    0.9219    0.9171      6661\n",
      "\n",
      "avg / total     0.9027    0.9028    0.9027     11424\n",
      "\n",
      "[[4173  590]\n",
      " [ 520 6141]]\n",
      "\n",
      "Confusion matrix, without normalization\n",
      "[[4173  590]\n",
      " [ 520 6141]]\n",
      "CPU times: user 5min 5s, sys: 3.7 s, total: 5min 9s\n",
      "Wall time: 9min 18s\n"
     ]
    },
    {
     "data": {
      "image/png": "[encoded data removed]",
      "text/plain": [
       "<Figure size 432x288 with 2 Axes>"
      ]
     },
     "metadata": {},
     "output_type": "display_data"
    }
   ],
   "source": [
    "%%time\n",
    "optimal_parameters = {'kernel': ['rbf'], 'gamma': [0.001], 'C': [100]}\n",
    "clf_tf_vect_norm_letters = run_one_experiment(total_data_content, total_data_target, tf_vect_norm_letters, optimal_parameters, SVC(), 30)\n",
    "all_experiments_results.append(clf_tf_vect_norm_letters)"
   ]
  },
  {
   "cell_type": "markdown",
   "metadata": {},
   "source": [
    "## Experimento 6: Remocion de terminos poco comunes (pruning < 10)"
   ]
  },
  {
   "cell_type": "code",
   "execution_count": 71,
   "metadata": {},
   "outputs": [],
   "source": [
    "tf_vect_pruning10 = CountVectorizer(\n",
    "                analyzer = 'word',\n",
    "                tokenizer = default_tokenize,\n",
    "                lowercase = True,\n",
    "                min_df=10)"
   ]
  },
  {
   "cell_type": "code",
   "execution_count": 72,
   "metadata": {},
   "outputs": [
    {
     "name": "stdout",
     "output_type": "stream",
     "text": [
      "Numero de caracteristicas:  (26653, 4348)\n",
      "\n",
      "train time: 203.594s\n",
      "Mejor resultado y parametro encontrados:\n",
      "Mejor resultado (accuracy cv):  0.8970847559374179\n",
      "C: 100\n",
      "gamma: 0.001\n",
      "kernel: 'rbf'\n",
      "\n",
      "Exactitud: 0.8952205882352942\n",
      "F1_score: 0.8920394398473326\n",
      "Precision: 0.8928337362512182\n",
      "Recall: 0.8913040340010193\n",
      "\n",
      "             precision    recall  f1-score   support\n",
      "\n",
      "   negative     0.8794    0.8677    0.8735      4763\n",
      "   positive     0.9063    0.9149    0.9106      6661\n",
      "\n",
      "avg / total     0.8951    0.8952    0.8951     11424\n",
      "\n",
      "[[4133  630]\n",
      " [ 567 6094]]\n",
      "\n",
      "Confusion matrix, without normalization\n",
      "[[4133  630]\n",
      " [ 567 6094]]\n",
      "CPU times: user 1min 43s, sys: 2.16 s, total: 1min 45s\n",
      "Wall time: 3min 48s\n"
     ]
    },
    {
     "data": {
      "image/png": "[encoded data removed]",
      "text/plain": [
       "<Figure size 432x288 with 2 Axes>"
      ]
     },
     "metadata": {},
     "output_type": "display_data"
    }
   ],
   "source": [
    "%%time\n",
    "optimal_parameters = {'kernel': ['rbf'], 'gamma': [0.001], 'C': [100]}\n",
    "clf_tf_vect_pruning10 = run_one_experiment(total_data_content, total_data_target, tf_vect_pruning10, optimal_parameters, SVC(), 30)\n",
    "all_experiments_results.append(clf_tf_vect_pruning10)"
   ]
  },
  {
   "cell_type": "markdown",
   "metadata": {},
   "source": [
    "## Experimento 7: Remocion de terminos poco comunes (pruning < 5)"
   ]
  },
  {
   "cell_type": "code",
   "execution_count": 73,
   "metadata": {},
   "outputs": [],
   "source": [
    "tf_vect_pruning5 = CountVectorizer(\n",
    "                analyzer = 'word',\n",
    "                tokenizer = default_tokenize,\n",
    "                lowercase = True,\n",
    "                min_df=5)"
   ]
  },
  {
   "cell_type": "code",
   "execution_count": 74,
   "metadata": {},
   "outputs": [
    {
     "name": "stdout",
     "output_type": "stream",
     "text": [
      "Numero de caracteristicas:  (26653, 7854)\n",
      "\n",
      "train time: 262.090s\n",
      "Mejor resultado y parametro encontrados:\n",
      "Mejor resultado (accuracy cv):  0.9027126402281169\n",
      "C: 100\n",
      "gamma: 0.001\n",
      "kernel: 'rbf'\n",
      "\n",
      "Exactitud: 0.8974964985994398\n",
      "F1_score: 0.8943318833484057\n",
      "Precision: 0.8953514964764195\n",
      "Recall: 0.8934052531676909\n",
      "\n",
      "             precision    recall  f1-score   support\n",
      "\n",
      "   negative     0.8834    0.8688    0.8760      4763\n",
      "   positive     0.9073    0.9180    0.9126      6661\n",
      "\n",
      "avg / total     0.8973    0.8975    0.8974     11424\n",
      "\n",
      "[[4138  625]\n",
      " [ 546 6115]]\n",
      "\n",
      "Confusion matrix, without normalization\n",
      "[[4138  625]\n",
      " [ 546 6115]]\n",
      "CPU times: user 2min 19s, sys: 1.78 s, total: 2min 21s\n",
      "Wall time: 4min 47s\n"
     ]
    },
    {
     "data": {
      "image/png": "[encoded data removed]",
      "text/plain": [
       "<Figure size 432x288 with 2 Axes>"
      ]
     },
     "metadata": {},
     "output_type": "display_data"
    }
   ],
   "source": [
    "%%time\n",
    "optimal_parameters = {'kernel': ['rbf'], 'gamma': [0.001], 'C': [100]}\n",
    "clf_tf_vect_pruning5 = run_one_experiment(total_data_content, total_data_target, tf_vect_pruning5, optimal_parameters, SVC(), 30)\n",
    "all_experiments_results.append(clf_tf_vect_pruning5)"
   ]
  },
  {
   "cell_type": "code",
   "execution_count": 75,
   "metadata": {},
   "outputs": [
    {
     "data": {
      "text/plain": [
       "8"
      ]
     },
     "execution_count": 75,
     "metadata": {},
     "output_type": "execute_result"
    }
   ],
   "source": [
    "len(all_experiments_results)"
   ]
  },
  {
   "cell_type": "code",
   "execution_count": 76,
   "metadata": {},
   "outputs": [],
   "source": [
    "import xlsxwriter"
   ]
  },
  {
   "cell_type": "code",
   "execution_count": 77,
   "metadata": {},
   "outputs": [],
   "source": [
    "# Create a workbook and add a worksheet.\n",
    "# workbook = xlsxwriter.Workbook('result_es_twitter_sa_svm_rbf_tf.xlsx')\n",
    "# worksheet = workbook.add_worksheet()\n",
    "# row = 0\n",
    "# col = 0\n",
    "# for exp in all_experiments_results:\n",
    "#     worksheet.write(row, col, exp[0])\n",
    "#     row += 1\n",
    "#     worksheet.write(row, col, exp[1])\n",
    "#     row += 1\n",
    "#     worksheet.write(row, col, exp[2])\n",
    "#     row += 1\n",
    "#     worksheet.write(row, col, exp[3])\n",
    "#     row += 1\n",
    "#     worksheet.write(row, col, exp[4])\n",
    "#     row += 1\n",
    "#     worksheet.write(row, col, exp[5])\n",
    "#     row += 1\n",
    "#     worksheet.write(row, col, exp[6])\n",
    "#     row += 1\n",
    "#     worksheet.write(row, col, exp[7])\n",
    "#     row += 1\n",
    "#     worksheet.write(row, col, exp[8])\n",
    "#     row += 1\n",
    "#     row = 0\n",
    "#     col += 1\n",
    "# workbook.close()"
   ]
  }
 ],
 "metadata": {
  "kernelspec": {
   "display_name": "python_tg",
   "language": "python",
   "name": "python_tg"
  },
  "language_info": {
   "codemirror_mode": {
    "name": "ipython",
    "version": 3
   },
   "file_extension": ".py",
   "mimetype": "text/x-python",
   "name": "python",
   "nbconvert_exporter": "python",
   "pygments_lexer": "ipython3",
   "version": "3.6.2"
  }
 },
 "nbformat": 4,
 "nbformat_minor": 2
}
