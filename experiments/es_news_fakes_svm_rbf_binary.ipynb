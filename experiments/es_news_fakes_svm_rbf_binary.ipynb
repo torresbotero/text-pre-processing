{
 "cells": [
  {
   "cell_type": "code",
   "execution_count": 42,
   "metadata": {},
   "outputs": [],
   "source": [
    "import pandas as pd\n",
    "import glob\n",
    "\n",
    "from sklearn.model_selection import train_test_split\n",
    "from sklearn.feature_extraction.text import CountVectorizer\n",
    "from sklearn.feature_extraction.text import TfidfVectorizer\n",
    "from sklearn.svm import SVC\n",
    "\n",
    "from experiments_core import run_tests_splits\n",
    "from experiments_core import run_one_experiment\n",
    "from experiments_core import print_baseline_results\n",
    "from experiments_core import default_tokenize\n",
    "from experiments_core import tokenize_stems\n",
    "from experiments_core import tokenize_lemmas\n",
    "from experiments_core import tokenize_no_urls\n",
    "from experiments_core import tokenize_norm_letters\n",
    "\n",
    "from nltk.corpus import stopwords\n",
    "\n",
    "%matplotlib inline"
   ]
  },
  {
   "cell_type": "code",
   "execution_count": 43,
   "metadata": {},
   "outputs": [
    {
     "data": {
      "text/plain": [
       "<module 'experiments_core' from '/home/ctorres9/EAFIT/trabajogrado/experiments/experiments_core.py'>"
      ]
     },
     "execution_count": 43,
     "metadata": {},
     "output_type": "execute_result"
    }
   ],
   "source": [
    "import importlib\n",
    "import sys\n",
    "importlib.reload(sys.modules[run_tests_splits.__module__])\n",
    "importlib.reload(sys.modules[run_one_experiment.__module__])\n",
    "importlib.reload(sys.modules[print_baseline_results.__module__])\n",
    "importlib.reload(sys.modules[default_tokenize.__module__])\n",
    "importlib.reload(sys.modules[tokenize_stems.__module__])\n",
    "importlib.reload(sys.modules[tokenize_lemmas.__module__])\n",
    "importlib.reload(sys.modules[tokenize_no_urls.__module__])\n",
    "importlib.reload(sys.modules[tokenize_norm_letters.__module__])"
   ]
  },
  {
   "cell_type": "code",
   "execution_count": 4,
   "metadata": {},
   "outputs": [
    {
     "name": "stdout",
     "output_type": "stream",
     "text": [
      "Numero de archivos: 16\n",
      "                                                     text target\n",
      "count                                               10000  10000\n",
      "unique                                               9992      2\n",
      "top     Sánchez desconcierta al PSOE con su «mano tend...   real\n",
      "freq                                                    2   5000\n",
      "                                                text target\n",
      "0  Las lágrimas de un niño con autismo en un conc...   real\n",
      "1  Vender carne de mono por ternera https://t.co/...   real\n",
      "2  #Psicología Si buscas olvido en internet, verá...   real\n",
      "3  El cantante congoleño Papa Wemba fallece en pl...   real\n",
      "4  #Lomásvisto Vender carne de mono por ternera h...   real\n"
     ]
    }
   ],
   "source": [
    "files_path = 'data/satirical_real_news_tweets/'\n",
    "all_files = glob.glob(files_path + \"/*.csv\")\n",
    "print(\"Numero de archivos:\", len(all_files))\n",
    "original_news_df = pd.DataFrame()\n",
    "files_list = []\n",
    "for file in all_files:\n",
    "    df = pd.read_csv(file, index_col=None, header=0, sep='\\t')\n",
    "    files_list.append(df)\n",
    "original_news_df = pd.concat(files_list, ignore_index=True)\n",
    "original_news_df = original_news_df.drop(columns=['Unnamed: 0'])\n",
    "print(original_news_df.describe())\n",
    "print(original_news_df.head())"
   ]
  },
  {
   "cell_type": "code",
   "execution_count": 5,
   "metadata": {},
   "outputs": [],
   "source": [
    "total_data_content = original_news_df.text\n",
    "total_data_target = original_news_df.target"
   ]
  },
  {
   "cell_type": "code",
   "execution_count": 6,
   "metadata": {},
   "outputs": [],
   "source": [
    "X_train, X_test, y_train, y_test = train_test_split(total_data_content, \n",
    "                                                    total_data_target, \n",
    "                                                    test_size=0.3, \n",
    "                                                    random_state=70)"
   ]
  },
  {
   "cell_type": "code",
   "execution_count": 7,
   "metadata": {},
   "outputs": [
    {
     "name": "stdout",
     "output_type": "stream",
     "text": [
      "Reales entrenamiento: 3525\n",
      "Fakes entrenamiento: 3475\n",
      "Reales pruebas: 1475\n",
      "Fakes pruebas: 1525\n"
     ]
    }
   ],
   "source": [
    "print(\"Reales entrenamiento:\", len(y_train[y_train == 'real']))\n",
    "print(\"Fakes entrenamiento:\", len(y_train[y_train == 'fake']))\n",
    "print(\"Reales pruebas:\", len(y_test[y_test == 'real']))\n",
    "print(\"Fakes pruebas:\", len(y_test[y_test == 'fake']))"
   ]
  },
  {
   "cell_type": "markdown",
   "metadata": {},
   "source": [
    "# Experimentos con el clasificador SVM radial y el metodo de ponderacion binario\n",
    "Los siguientes son los experimentos realizados para el clasificador SVM con kernel radial y con el metodo de ponderación para el modelo de espacio vectorial binario"
   ]
  },
  {
   "cell_type": "markdown",
   "metadata": {},
   "source": [
    "# Linea base"
   ]
  },
  {
   "cell_type": "code",
   "execution_count": 8,
   "metadata": {},
   "outputs": [],
   "source": [
    "binary_vect_baseline = CountVectorizer(\n",
    "                analyzer = 'word',\n",
    "                tokenizer = default_tokenize,\n",
    "                lowercase = True,\n",
    "                binary=True)"
   ]
  },
  {
   "cell_type": "code",
   "execution_count": 9,
   "metadata": {},
   "outputs": [],
   "source": [
    "parameters_svm_rbf = {'kernel': ['rbf'], 'gamma': [1e-3, 1e-4], 'C': [1, 10, 100, 1000]}"
   ]
  },
  {
   "cell_type": "code",
   "execution_count": 10,
   "metadata": {},
   "outputs": [
    {
     "name": "stdout",
     "output_type": "stream",
     "text": [
      "random state:  10\n",
      "train time: 74.548s\n",
      "random state:  20\n",
      "train time: 75.558s\n",
      "random state:  30\n",
      "train time: 75.581s\n",
      "random state:  40\n",
      "train time: 70.659s\n",
      "random state:  50\n",
      "train time: 57.102s\n",
      "random state:  60\n",
      "train time: 59.063s\n",
      "random state:  70\n",
      "train time: 55.011s\n",
      "random state:  80\n",
      "train time: 57.801s\n",
      "random state:  90\n",
      "train time: 51.137s\n",
      "random state:  100\n",
      "train time: 40.140s\n",
      "CPU times: user 1min 43s, sys: 11.9 s, total: 1min 55s\n",
      "Wall time: 10min 41s\n"
     ]
    }
   ],
   "source": [
    "%%time\n",
    "tf_baseline_results = run_tests_splits(total_data_content, total_data_target, binary_vect_baseline, parameters_svm_rbf, SVC())"
   ]
  },
  {
   "cell_type": "code",
   "execution_count": 12,
   "metadata": {},
   "outputs": [],
   "source": [
    "binary_baseline_results = tf_baseline_results"
   ]
  },
  {
   "cell_type": "code",
   "execution_count": 13,
   "metadata": {},
   "outputs": [
    {
     "name": "stdout",
     "output_type": "stream",
     "text": [
      "Numero de caracteristicas:  (7000, 23367)\n",
      "\n",
      "Best score selected:  0.8857142857142857\n",
      "Best Accuracy:  0.88\n",
      "Best Best F1-score:  0.8799999466666429\n",
      "Best random state:  90\n",
      "Mejor resultado y parametro encontrados:\n",
      "Mejor resultado (accuracy cv):  0.8857142857142857\n",
      "C: 100\n",
      "gamma: 0.001\n",
      "kernel: 'rbf'\n",
      "\n",
      "\n",
      "Exactitud: 0.88\n",
      "F1_score: 0.8799999466666429\n",
      "Precision: 0.8807046323845684\n",
      "Recall: 0.8806761851854652\n",
      "\n",
      "             precision    recall  f1-score   support\n",
      "\n",
      "       fake     0.8561    0.9054    0.8801      1459\n",
      "       real     0.9053    0.8559    0.8799      1541\n",
      "\n",
      "avg / total     0.8814    0.8800    0.8800      3000\n",
      "\n",
      "[[1321  138]\n",
      " [ 222 1319]]\n",
      "\n",
      "Confusion matrix, without normalization\n",
      "[[1321  138]\n",
      " [ 222 1319]]\n"
     ]
    },
    {
     "data": {
      "image/png": "[encoded data removed]",
      "text/plain": [
       "<Figure size 432x288 with 2 Axes>"
      ]
     },
     "metadata": {},
     "output_type": "display_data"
    }
   ],
   "source": [
    "print_baseline_results(binary_baseline_results, parameters_svm_rbf)"
   ]
  },
  {
   "cell_type": "code",
   "execution_count": 46,
   "metadata": {},
   "outputs": [],
   "source": [
    "all_experiments_results = []"
   ]
  },
  {
   "cell_type": "markdown",
   "metadata": {},
   "source": [
    "## Prueba de la linea base con los parametros optimos\n",
    "Esta prueba se hace para validar los resultados obtenidos anteriormente. Si esta bien debe dar lo mismo o un resultado muy similar dependiendo del clasificador."
   ]
  },
  {
   "cell_type": "code",
   "execution_count": 47,
   "metadata": {},
   "outputs": [
    {
     "name": "stdout",
     "output_type": "stream",
     "text": [
      "Numero de caracteristicas:  (7000, 23367)\n",
      "\n",
      "train time: 18.575s\n",
      "Mejor resultado y parametro encontrados:\n",
      "Mejor resultado (accuracy cv):  0.8857142857142857\n",
      "C: 100\n",
      "gamma: 0.001\n",
      "kernel: 'rbf'\n",
      "\n",
      "Exactitud: 0.88\n",
      "F1_score: 0.8799999466666429\n",
      "Precision: 0.8807046323845684\n",
      "Recall: 0.8806761851854652\n",
      "\n",
      "             precision    recall  f1-score   support\n",
      "\n",
      "       fake     0.8561    0.9054    0.8801      1459\n",
      "       real     0.9053    0.8559    0.8799      1541\n",
      "\n",
      "avg / total     0.8814    0.8800    0.8800      3000\n",
      "\n",
      "[[1321  138]\n",
      " [ 222 1319]]\n",
      "\n",
      "Confusion matrix, without normalization\n",
      "[[1321  138]\n",
      " [ 222 1319]]\n",
      "CPU times: user 10.8 s, sys: 1.82 s, total: 12.6 s\n",
      "Wall time: 23 s\n"
     ]
    },
    {
     "data": {
      "image/png": "[encoded data removed]",
      "text/plain": [
       "<Figure size 432x288 with 2 Axes>"
      ]
     },
     "metadata": {},
     "output_type": "display_data"
    }
   ],
   "source": [
    "%%time\n",
    "optimal_parameters = {'kernel': ['rbf'], 'gamma': [0.001], 'C': [100]}\n",
    "clf_binary_vect_baseline = run_one_experiment(total_data_content, total_data_target, binary_vect_baseline, optimal_parameters, SVC(), 90)\n",
    "all_experiments_results.append(clf_binary_vect_baseline)"
   ]
  },
  {
   "cell_type": "markdown",
   "metadata": {},
   "source": [
    "## Experimento 1: Remocion de stop words"
   ]
  },
  {
   "cell_type": "code",
   "execution_count": 48,
   "metadata": {},
   "outputs": [],
   "source": [
    "spanish_stopwords = stopwords.words('spanish')"
   ]
  },
  {
   "cell_type": "code",
   "execution_count": 49,
   "metadata": {},
   "outputs": [],
   "source": [
    "binary_vect_stopwords = CountVectorizer(stop_words = spanish_stopwords,\n",
    "                                        analyzer = 'word',\n",
    "                                        tokenizer = default_tokenize,\n",
    "                                        lowercase = True,\n",
    "                                        binary=True)"
   ]
  },
  {
   "cell_type": "code",
   "execution_count": 50,
   "metadata": {},
   "outputs": [
    {
     "name": "stdout",
     "output_type": "stream",
     "text": [
      "Numero de caracteristicas:  (7000, 23179)\n",
      "\n",
      "train time: 15.749s\n",
      "Mejor resultado y parametro encontrados:\n",
      "Mejor resultado (accuracy cv):  0.884\n",
      "C: 100\n",
      "gamma: 0.001\n",
      "kernel: 'rbf'\n",
      "\n",
      "Exactitud: 0.8766666666666667\n",
      "F1_score: 0.8766468753431107\n",
      "Precision: 0.8784361422060034\n",
      "Recall: 0.8776686048554498\n",
      "\n",
      "             precision    recall  f1-score   support\n",
      "\n",
      "       fake     0.8448    0.9143    0.8782      1459\n",
      "       real     0.9120    0.8410    0.8751      1541\n",
      "\n",
      "avg / total     0.8794    0.8767    0.8766      3000\n",
      "\n",
      "[[1334  125]\n",
      " [ 245 1296]]\n",
      "\n",
      "Confusion matrix, without normalization\n",
      "[[1334  125]\n",
      " [ 245 1296]]\n",
      "CPU times: user 8.34 s, sys: 1.71 s, total: 10 s\n",
      "Wall time: 18.9 s\n"
     ]
    },
    {
     "data": {
      "image/png": "[encoded data removed]",
      "text/plain": [
       "<Figure size 432x288 with 2 Axes>"
      ]
     },
     "metadata": {},
     "output_type": "display_data"
    }
   ],
   "source": [
    "%%time\n",
    "optimal_parameters = {'kernel': ['rbf'], 'gamma': [0.001], 'C': [100]}\n",
    "clf_binary_vect_stopwords = run_one_experiment(total_data_content, total_data_target, binary_vect_stopwords, optimal_parameters, SVC(), 90)\n",
    "all_experiments_results.append(clf_binary_vect_stopwords)"
   ]
  },
  {
   "cell_type": "markdown",
   "metadata": {},
   "source": [
    "## Experimento 2: Stemming"
   ]
  },
  {
   "cell_type": "code",
   "execution_count": 51,
   "metadata": {},
   "outputs": [
    {
     "name": "stdout",
     "output_type": "stream",
     "text": [
      "['holaaa', 'com', 'estas', 'estaa', 'cre', 'en', 'mi', 'si', 'llov', 'mañan', 'tu', 'cre', 'en', 'mi', 'cart', 'aeiou']\n"
     ]
    }
   ],
   "source": [
    "#Prueba de los metodos anteriores\n",
    "print(tokenize_stems(\n",
    "    \"holaaaa como estas estaaaas creerías en mi si lloviera mañana, tu crees en mi cartas ¡¡ ¿¿. a e i o u aeiou\"))"
   ]
  },
  {
   "cell_type": "code",
   "execution_count": 52,
   "metadata": {},
   "outputs": [],
   "source": [
    "binary_vect_stemming = CountVectorizer(\n",
    "                analyzer = 'word',\n",
    "                tokenizer = tokenize_stems,\n",
    "                lowercase = True,\n",
    "                binary=True)"
   ]
  },
  {
   "cell_type": "code",
   "execution_count": 53,
   "metadata": {},
   "outputs": [
    {
     "name": "stdout",
     "output_type": "stream",
     "text": [
      "Numero de caracteristicas:  (7000, 17699)\n",
      "\n",
      "train time: 17.081s\n",
      "Mejor resultado y parametro encontrados:\n",
      "Mejor resultado (accuracy cv):  0.872\n",
      "C: 100\n",
      "gamma: 0.001\n",
      "kernel: 'rbf'\n",
      "\n",
      "Exactitud: 0.8766666666666667\n",
      "F1_score: 0.8766611849415531\n",
      "Precision: 0.8769318786482151\n",
      "Recall: 0.8771397653091042\n",
      "\n",
      "             precision    recall  f1-score   support\n",
      "\n",
      "       fake     0.8580    0.8944    0.8758      1459\n",
      "       real     0.8959    0.8598    0.8775      1541\n",
      "\n",
      "avg / total     0.8774    0.8767    0.8767      3000\n",
      "\n",
      "[[1305  154]\n",
      " [ 216 1325]]\n",
      "\n",
      "Confusion matrix, without normalization\n",
      "[[1305  154]\n",
      " [ 216 1325]]\n",
      "CPU times: user 14.8 s, sys: 1.96 s, total: 16.8 s\n",
      "Wall time: 25.4 s\n"
     ]
    },
    {
     "data": {
      "image/png": "[encoded data removed]",
      "text/plain": [
       "<Figure size 432x288 with 2 Axes>"
      ]
     },
     "metadata": {},
     "output_type": "display_data"
    }
   ],
   "source": [
    "%%time\n",
    "optimal_parameters = {'kernel': ['rbf'], 'gamma': [0.001], 'C': [100]}\n",
    "clf_binary_vect_stemming = run_one_experiment(total_data_content, total_data_target, binary_vect_stemming, optimal_parameters, SVC(), 90)\n",
    "all_experiments_results.append(clf_binary_vect_stemming)"
   ]
  },
  {
   "cell_type": "markdown",
   "metadata": {},
   "source": [
    "## Experimento 3: Lematizacion"
   ]
  },
  {
   "cell_type": "code",
   "execution_count": 54,
   "metadata": {},
   "outputs": [
    {
     "name": "stdout",
     "output_type": "stream",
     "text": [
      "['holaaaa', 'comer', 'este', 'estaaaas', 'creer', 'en', 'mi', 'si', 'llover', 'mañana', 'tu', 'creer', 'en', 'mi', 'carta', 'aeiou']\n"
     ]
    }
   ],
   "source": [
    "# Prueba del tokenizer\n",
    "print(tokenize_lemmas(\n",
    "    \"holaaaa como estas estaaaas creerías en mi si lloviera mañana, tu crees en mi cartas ¡¡ ¿¿. a e i o u aeiou\"))"
   ]
  },
  {
   "cell_type": "code",
   "execution_count": 55,
   "metadata": {},
   "outputs": [],
   "source": [
    "binary_vect_lemmatize = CountVectorizer(\n",
    "                analyzer = 'word',\n",
    "                tokenizer = tokenize_lemmas,\n",
    "                lowercase = True,\n",
    "                binary=True)"
   ]
  },
  {
   "cell_type": "code",
   "execution_count": 56,
   "metadata": {},
   "outputs": [
    {
     "name": "stdout",
     "output_type": "stream",
     "text": [
      "Numero de caracteristicas:  (7000, 18693)\n",
      "\n",
      "train time: 17.411s\n",
      "Mejor resultado y parametro encontrados:\n",
      "Mejor resultado (accuracy cv):  0.8764285714285714\n",
      "C: 100\n",
      "gamma: 0.001\n",
      "kernel: 'rbf'\n",
      "\n",
      "Exactitud: 0.8683333333333333\n",
      "F1_score: 0.8683315631243487\n",
      "Precision: 0.8687541683340003\n",
      "Recall: 0.8688822627038245\n",
      "\n",
      "             precision    recall  f1-score   support\n",
      "\n",
      "       fake     0.8477    0.8890    0.8678      1459\n",
      "       real     0.8898    0.8488    0.8688      1541\n",
      "\n",
      "avg / total     0.8693    0.8683    0.8683      3000\n",
      "\n",
      "[[1297  162]\n",
      " [ 233 1308]]\n",
      "\n",
      "Confusion matrix, without normalization\n",
      "[[1297  162]\n",
      " [ 233 1308]]\n",
      "CPU times: user 10.3 s, sys: 2.08 s, total: 12.3 s\n",
      "Wall time: 21.3 s\n"
     ]
    },
    {
     "data": {
      "image/png": "[encoded data removed]",
      "text/plain": [
       "<Figure size 432x288 with 2 Axes>"
      ]
     },
     "metadata": {},
     "output_type": "display_data"
    }
   ],
   "source": [
    "%%time\n",
    "optimal_parameters = {'kernel': ['rbf'], 'gamma': [0.001], 'C': [100]}\n",
    "clf_binary_vect_lemmatize = run_one_experiment(total_data_content, total_data_target, binary_vect_lemmatize, optimal_parameters, SVC(), 90)\n",
    "all_experiments_results.append(clf_binary_vect_lemmatize)"
   ]
  },
  {
   "cell_type": "markdown",
   "metadata": {},
   "source": [
    "## Experimento 4: Remocion de URLs"
   ]
  },
  {
   "cell_type": "code",
   "execution_count": 57,
   "metadata": {},
   "outputs": [
    {
     "name": "stdout",
     "output_type": "stream",
     "text": [
      "['holaaaa', 'cómo', 'creerías', 'mi', 'si', 'lloviera', 'mañana', 'tu', 'crees', 'en', 'mi', 'cartas', 'aeiou']\n"
     ]
    }
   ],
   "source": [
    "# Prueba de la tokenizacion sin urls\n",
    "print(tokenize_no_urls(\n",
    "    \"holaaaa cómo http://estas creerías https://stackoverflow.com/questions/11331982/how-to-remove-any-url-within-a-string-in-python mi si lloviera \\t  mañana, tu crees en mi cartas ¡¡ ¿¿. aeiou\"))"
   ]
  },
  {
   "cell_type": "code",
   "execution_count": 58,
   "metadata": {},
   "outputs": [],
   "source": [
    "binary_vect_no_urls = CountVectorizer(\n",
    "                analyzer = 'word',\n",
    "                tokenizer = tokenize_no_urls,\n",
    "                lowercase = True,\n",
    "                binary=True)"
   ]
  },
  {
   "cell_type": "code",
   "execution_count": 59,
   "metadata": {},
   "outputs": [
    {
     "name": "stdout",
     "output_type": "stream",
     "text": [
      "Numero de caracteristicas:  (7000, 15609)\n",
      "\n",
      "train time: 17.927s\n",
      "Mejor resultado y parametro encontrados:\n",
      "Mejor resultado (accuracy cv):  0.8502857142857143\n",
      "C: 100\n",
      "gamma: 0.001\n",
      "kernel: 'rbf'\n",
      "\n",
      "Exactitud: 0.847\n",
      "F1_score: 0.8469190201616654\n",
      "Precision: 0.8498838196523526\n",
      "Recall: 0.8482624129405124\n",
      "\n",
      "             precision    recall  f1-score   support\n",
      "\n",
      "       fake     0.8106    0.8944    0.8504      1459\n",
      "       real     0.8892    0.8021    0.8434      1541\n",
      "\n",
      "avg / total     0.8510    0.8470    0.8468      3000\n",
      "\n",
      "[[1305  154]\n",
      " [ 305 1236]]\n",
      "\n",
      "Confusion matrix, without normalization\n",
      "[[1305  154]\n",
      " [ 305 1236]]\n",
      "CPU times: user 10.5 s, sys: 1.84 s, total: 12.4 s\n",
      "Wall time: 22 s\n"
     ]
    },
    {
     "data": {
      "image/png": "[encoded data removed]",
      "text/plain": [
       "<Figure size 432x288 with 2 Axes>"
      ]
     },
     "metadata": {},
     "output_type": "display_data"
    }
   ],
   "source": [
    "%%time\n",
    "optimal_parameters = {'kernel': ['rbf'], 'gamma': [0.001], 'C': [100]}\n",
    "clf_binary_vect_no_urls = run_one_experiment(total_data_content, total_data_target, binary_vect_no_urls, optimal_parameters, SVC(), 90)\n",
    "all_experiments_results.append(clf_binary_vect_no_urls)"
   ]
  },
  {
   "cell_type": "markdown",
   "metadata": {},
   "source": [
    "## Experimento 5: Remocion de letras repetidas"
   ]
  },
  {
   "cell_type": "code",
   "execution_count": 60,
   "metadata": {},
   "outputs": [
    {
     "name": "stdout",
     "output_type": "stream",
     "text": [
      "['hola', 'cómo', 'htp', 'estas', 'estas', 'creerías', 'mi', 'si', 'lloviera', 'mañana', 'tu', 'crees', 'en', 'mi', 'cartas', 'aeiou']\n"
     ]
    }
   ],
   "source": [
    "print(tokenize_norm_letters(\n",
    "    \"holaaaa cómo http://estas estaaaas creerías mi si lloviera mañana, tu crees en mi cartas ¡¡ ¿¿. a e i o u aeiou\"))"
   ]
  },
  {
   "cell_type": "code",
   "execution_count": 61,
   "metadata": {},
   "outputs": [],
   "source": [
    "binary_vect_norm_letters = CountVectorizer(\n",
    "                analyzer = 'word',\n",
    "                tokenizer = tokenize_norm_letters,\n",
    "                lowercase = True,\n",
    "                binary=True)"
   ]
  },
  {
   "cell_type": "code",
   "execution_count": 62,
   "metadata": {},
   "outputs": [
    {
     "name": "stdout",
     "output_type": "stream",
     "text": [
      "Numero de caracteristicas:  (7000, 23288)\n",
      "\n",
      "train time: 17.096s\n",
      "Mejor resultado y parametro encontrados:\n",
      "Mejor resultado (accuracy cv):  0.8848571428571429\n",
      "C: 100\n",
      "gamma: 0.001\n",
      "kernel: 'rbf'\n",
      "\n",
      "Exactitud: 0.8806666666666667\n",
      "F1_score: 0.8806664545181413\n",
      "Precision: 0.8814199446168218\n",
      "Recall: 0.8813615861450266\n",
      "\n",
      "             precision    recall  f1-score   support\n",
      "\n",
      "       fake     0.8563    0.9068    0.8808      1459\n",
      "       real     0.9065    0.8559    0.8805      1541\n",
      "\n",
      "avg / total     0.8821    0.8807    0.8807      3000\n",
      "\n",
      "[[1323  136]\n",
      " [ 222 1319]]\n",
      "\n",
      "Confusion matrix, without normalization\n",
      "[[1323  136]\n",
      " [ 222 1319]]\n",
      "CPU times: user 12.1 s, sys: 1.39 s, total: 13.5 s\n",
      "Wall time: 22.9 s\n"
     ]
    },
    {
     "data": {
      "image/png": "[encoded data removed]",
      "text/plain": [
       "<Figure size 432x288 with 2 Axes>"
      ]
     },
     "metadata": {},
     "output_type": "display_data"
    }
   ],
   "source": [
    "%%time\n",
    "optimal_parameters = {'kernel': ['rbf'], 'gamma': [0.001], 'C': [100]}\n",
    "clf_binary_vect_norm_letters = run_one_experiment(total_data_content, total_data_target, binary_vect_norm_letters, optimal_parameters, SVC(), 90)\n",
    "all_experiments_results.append(clf_binary_vect_norm_letters)"
   ]
  },
  {
   "cell_type": "markdown",
   "metadata": {},
   "source": [
    "## Experimento 6: Remocion de terminos poco comunes (pruning < 10)"
   ]
  },
  {
   "cell_type": "code",
   "execution_count": 63,
   "metadata": {},
   "outputs": [],
   "source": [
    "binary_vect_pruning10 = CountVectorizer(\n",
    "                analyzer = 'word',\n",
    "                tokenizer = default_tokenize,\n",
    "                lowercase = True,\n",
    "                binary=True,\n",
    "                min_df=10)"
   ]
  },
  {
   "cell_type": "code",
   "execution_count": 64,
   "metadata": {},
   "outputs": [
    {
     "name": "stdout",
     "output_type": "stream",
     "text": [
      "Numero de caracteristicas:  (7000, 1218)\n",
      "\n",
      "train time: 10.649s\n",
      "Mejor resultado y parametro encontrados:\n",
      "Mejor resultado (accuracy cv):  0.8394285714285714\n",
      "C: 100\n",
      "gamma: 0.001\n",
      "kernel: 'rbf'\n",
      "\n",
      "Exactitud: 0.8453333333333334\n",
      "F1_score: 0.8441988237906605\n",
      "Precision: 0.85057685108507\n",
      "Recall: 0.843631175113496\n",
      "\n",
      "             precision    recall  f1-score   support\n",
      "\n",
      "       fake     0.8872    0.7814    0.8309      1459\n",
      "       real     0.8140    0.9059    0.8575      1541\n",
      "\n",
      "avg / total     0.8496    0.8453    0.8446      3000\n",
      "\n",
      "[[1140  319]\n",
      " [ 145 1396]]\n",
      "\n",
      "Confusion matrix, without normalization\n",
      "[[1140  319]\n",
      " [ 145 1396]]\n",
      "CPU times: user 6.62 s, sys: 1.35 s, total: 7.97 s\n",
      "Wall time: 13.4 s\n"
     ]
    },
    {
     "data": {
      "image/png": "[encoded data removed]",
      "text/plain": [
       "<Figure size 432x288 with 2 Axes>"
      ]
     },
     "metadata": {},
     "output_type": "display_data"
    }
   ],
   "source": [
    "%%time\n",
    "optimal_parameters = {'kernel': ['rbf'], 'gamma': [0.001], 'C': [100]}\n",
    "clf_binary_vect_pruning10 = run_one_experiment(total_data_content, total_data_target, binary_vect_pruning10, optimal_parameters, SVC(), 90)\n",
    "all_experiments_results.append(clf_binary_vect_pruning10)"
   ]
  },
  {
   "cell_type": "markdown",
   "metadata": {},
   "source": [
    "## Experimento 7: Remocion de terminos poco comunes (pruning < 5)"
   ]
  },
  {
   "cell_type": "code",
   "execution_count": 65,
   "metadata": {},
   "outputs": [],
   "source": [
    "binary_vect_pruning5 = CountVectorizer(\n",
    "                analyzer = 'word',\n",
    "                tokenizer = default_tokenize,\n",
    "                lowercase = True,\n",
    "                binary=True,\n",
    "                min_df=5)"
   ]
  },
  {
   "cell_type": "code",
   "execution_count": 66,
   "metadata": {},
   "outputs": [
    {
     "name": "stdout",
     "output_type": "stream",
     "text": [
      "Numero de caracteristicas:  (7000, 2643)\n",
      "\n",
      "train time: 11.035s\n",
      "Mejor resultado y parametro encontrados:\n",
      "Mejor resultado (accuracy cv):  0.8614285714285714\n",
      "C: 100\n",
      "gamma: 0.001\n",
      "kernel: 'rbf'\n",
      "\n",
      "Exactitud: 0.8576666666666667\n",
      "F1_score: 0.8570994945605777\n",
      "Precision: 0.8598211208134658\n",
      "Recall: 0.8565846305617664\n",
      "\n",
      "             precision    recall  f1-score   support\n",
      "\n",
      "       fake     0.8817    0.8170    0.8481      1459\n",
      "       real     0.8380    0.8962    0.8661      1541\n",
      "\n",
      "avg / total     0.8592    0.8577    0.8573      3000\n",
      "\n",
      "[[1192  267]\n",
      " [ 160 1381]]\n",
      "\n",
      "Confusion matrix, without normalization\n",
      "[[1192  267]\n",
      " [ 160 1381]]\n",
      "CPU times: user 6.37 s, sys: 1.45 s, total: 7.82 s\n",
      "Wall time: 13.5 s\n"
     ]
    },
    {
     "data": {
      "image/png": "[encoded data removed]",
      "text/plain": [
       "<Figure size 432x288 with 2 Axes>"
      ]
     },
     "metadata": {},
     "output_type": "display_data"
    }
   ],
   "source": [
    "%%time\n",
    "optimal_parameters = {'kernel': ['rbf'], 'gamma': [0.001], 'C': [100]}\n",
    "clf_binary_vect_pruning5 = run_one_experiment(total_data_content, total_data_target, binary_vect_pruning5, optimal_parameters, SVC(), 90)\n",
    "all_experiments_results.append(clf_binary_vect_pruning5)"
   ]
  },
  {
   "cell_type": "code",
   "execution_count": 67,
   "metadata": {},
   "outputs": [
    {
     "data": {
      "text/plain": [
       "8"
      ]
     },
     "execution_count": 67,
     "metadata": {},
     "output_type": "execute_result"
    }
   ],
   "source": [
    "len(all_experiments_results)"
   ]
  },
  {
   "cell_type": "code",
   "execution_count": 68,
   "metadata": {},
   "outputs": [],
   "source": [
    "import xlsxwriter"
   ]
  },
  {
   "cell_type": "code",
   "execution_count": 69,
   "metadata": {},
   "outputs": [],
   "source": [
    "# Create a workbook and add a worksheet.\n",
    "# workbook = xlsxwriter.Workbook('result_es_news_fakes_svm_rbf_binary.xlsx')\n",
    "# worksheet = workbook.add_worksheet()\n",
    "# row = 0\n",
    "# col = 0\n",
    "# for exp in all_experiments_results:\n",
    "#     worksheet.write(row, col, exp[0])\n",
    "#     row += 1\n",
    "#     worksheet.write(row, col, exp[1])\n",
    "#     row += 1\n",
    "#     worksheet.write(row, col, exp[2])\n",
    "#     row += 1\n",
    "#     worksheet.write(row, col, exp[3])\n",
    "#     row += 1\n",
    "#     worksheet.write(row, col, exp[4])\n",
    "#     row += 1\n",
    "#     worksheet.write(row, col, exp[5])\n",
    "#     row += 1\n",
    "#     worksheet.write(row, col, exp[6])\n",
    "#     row += 1\n",
    "#     worksheet.write(row, col, exp[7])\n",
    "#     row += 1\n",
    "#     worksheet.write(row, col, exp[8])\n",
    "#     row += 1\n",
    "#     row = 0\n",
    "#     col += 1\n",
    "# workbook.close()"
   ]
  }
 ],
 "metadata": {
  "kernelspec": {
   "display_name": "python_tg",
   "language": "python",
   "name": "python_tg"
  },
  "language_info": {
   "codemirror_mode": {
    "name": "ipython",
    "version": 3
   },
   "file_extension": ".py",
   "mimetype": "text/x-python",
   "name": "python",
   "nbconvert_exporter": "python",
   "pygments_lexer": "ipython3",
   "version": "3.6.2"
  }
 },
 "nbformat": 4,
 "nbformat_minor": 2
}
