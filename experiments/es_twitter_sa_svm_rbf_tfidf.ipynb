{
 "cells": [
  {
   "cell_type": "code",
   "execution_count": 50,
   "metadata": {},
   "outputs": [],
   "source": [
    "import pandas as pd\n",
    "\n",
    "from sklearn.model_selection import train_test_split\n",
    "from sklearn.feature_extraction.text import CountVectorizer\n",
    "from sklearn.feature_extraction.text import TfidfVectorizer\n",
    "from sklearn.svm import SVC\n",
    "\n",
    "from experiments_core import run_tests_splits\n",
    "from experiments_core import run_one_experiment\n",
    "from experiments_core import print_baseline_results\n",
    "from experiments_core import default_tokenize\n",
    "from experiments_core import tokenize_stems\n",
    "from experiments_core import tokenize_lemmas\n",
    "from experiments_core import tokenize_no_urls\n",
    "from experiments_core import tokenize_norm_letters\n",
    "\n",
    "from nltk.corpus import stopwords\n",
    "\n",
    "%matplotlib inline"
   ]
  },
  {
   "cell_type": "code",
   "execution_count": 51,
   "metadata": {},
   "outputs": [
    {
     "data": {
      "text/plain": [
       "<module 'experiments_core' from '/home/ctorres9/EAFIT/trabajogrado/experiments/experiments_core.py'>"
      ]
     },
     "execution_count": 51,
     "metadata": {},
     "output_type": "execute_result"
    }
   ],
   "source": [
    "import importlib\n",
    "import sys\n",
    "importlib.reload(sys.modules[run_tests_splits.__module__])\n",
    "importlib.reload(sys.modules[run_one_experiment.__module__])\n",
    "importlib.reload(sys.modules[print_baseline_results.__module__])\n",
    "importlib.reload(sys.modules[default_tokenize.__module__])\n",
    "importlib.reload(sys.modules[tokenize_stems.__module__])\n",
    "importlib.reload(sys.modules[tokenize_lemmas.__module__])\n",
    "importlib.reload(sys.modules[tokenize_no_urls.__module__])\n",
    "importlib.reload(sys.modules[tokenize_norm_letters.__module__])"
   ]
  },
  {
   "cell_type": "code",
   "execution_count": 3,
   "metadata": {},
   "outputs": [
    {
     "name": "stdout",
     "output_type": "stream",
     "text": [
      "                      tweetid          user               content  \\\n",
      "count                   60798         60798                 60798   \n",
      "unique                  60798           158                 60405   \n",
      "top      157749462377312256,0  mariviromero  Buenos días a todos!   \n",
      "freq                        1          7138                   111   \n",
      "\n",
      "                       date   lang polarity  topic  \n",
      "count                 60798  60798    60798  60798  \n",
      "unique                60510      1        6     10  \n",
      "top     2012-01-01T00:00:16     es     NONE  otros  \n",
      "freq                      4  60798    21416  28189  \n",
      "                 tweetid            user  \\\n",
      "0   142378325086715904,0     jesusmarana   \n",
      "1   142379080808013824,0       EvaORegan   \n",
      "2   142379173120442368,0  LosadaPescador   \n",
      "3   142379815708803072,0    mgilguerrero   \n",
      "4   142381190123499520,0  pedroj_ramirez   \n",
      "\n",
      "                                             content                 date  \\\n",
      "0  Portada 'Público', viernes. Fabra al banquillo...  2011-12-02T00:03:32   \n",
      "1  Grande! RT @veronicacalderon \"El periodista es...  2011-12-02T00:06:32   \n",
      "2  Gonzalo Altozano tras la presentación de su li...  2011-12-02T00:06:55   \n",
      "3  Mañana en Gaceta: TVE, la que pagamos tú y yo,...  2011-12-02T00:09:28   \n",
      "4  Qué envidia “@mfcastineiras: Pedro mañana x la...  2011-12-02T00:14:55   \n",
      "\n",
      "  lang polarity            topic  \n",
      "0   es        N         política  \n",
      "1   es     NONE         política  \n",
      "2   es       P+            otros  \n",
      "3   es        N  entretenimiento  \n",
      "4   es     NONE            otros  \n"
     ]
    }
   ],
   "source": [
    "file_path = 'data/TweetsPolaridadSEPLN.csv'\n",
    "original_tweets_df = pd.read_csv(file_path, index_col=None, header=0, sep='\\t')\n",
    "print(original_tweets_df.describe())\n",
    "print(original_tweets_df.head())"
   ]
  },
  {
   "cell_type": "code",
   "execution_count": 4,
   "metadata": {},
   "outputs": [
    {
     "name": "stdout",
     "output_type": "stream",
     "text": [
      "                                                  content  polarity\n",
      "count                                               38077     38077\n",
      "unique                                              37926         2\n",
      "top     ¡Noticias descombacantes! está disponible! htt...  positive\n",
      "freq                                                   63     22233\n",
      "                                             content  polarity\n",
      "0  Dado q la deuda privada es superior a la publi...  negative\n",
      "1  TEPCO inyecta nitrógeno en los reactores de Fu...  negative\n",
      "2  “@Declaracion: «Cualquier injusticia contra un...  negative\n",
      "3  ¡Qué estrés!, la presidenta de la diputación d...  negative\n",
      "4  Hoy entrego mi credencial en el Congreso. Una ...  negative\n"
     ]
    }
   ],
   "source": [
    "strong_negative_tweets = original_tweets_df[original_tweets_df.polarity == 'N+'][['content','polarity']]\n",
    "standar_negative_tweets = original_tweets_df[original_tweets_df.polarity == 'N'][['content','polarity']]\n",
    "\n",
    "strong_positive_tweets = original_tweets_df[original_tweets_df.polarity == 'P+'][['content','polarity']]\n",
    "standar_positive_tweets = original_tweets_df[original_tweets_df.polarity == 'P'][['content','polarity']]\n",
    "\n",
    "negative_tweets = pd.concat([strong_negative_tweets,standar_negative_tweets], ignore_index=True)\n",
    "positive_tweets = pd.concat([strong_positive_tweets,standar_positive_tweets], ignore_index=True)\n",
    "\n",
    "negative_tweets.polarity = \"negative\"\n",
    "positive_tweets.polarity = \"positive\"\n",
    "\n",
    "total_tweets = pd.concat([negative_tweets,positive_tweets], ignore_index=True)\n",
    "print(total_tweets.describe())\n",
    "print(total_tweets.head())"
   ]
  },
  {
   "cell_type": "code",
   "execution_count": 5,
   "metadata": {},
   "outputs": [],
   "source": [
    "total_data_content = total_tweets.content\n",
    "total_data_target = total_tweets.polarity"
   ]
  },
  {
   "cell_type": "code",
   "execution_count": 6,
   "metadata": {},
   "outputs": [],
   "source": [
    "X_train, X_test, y_train, y_test = train_test_split(total_data_content, \n",
    "                                                    total_data_target, \n",
    "                                                    test_size=0.3, \n",
    "                                                    random_state=80)"
   ]
  },
  {
   "cell_type": "code",
   "execution_count": 7,
   "metadata": {},
   "outputs": [
    {
     "name": "stdout",
     "output_type": "stream",
     "text": [
      "Positivos entrenamiento: 15552\n",
      "Negativos entrenamiento: 11101\n",
      "Positivos pruebas: 6681\n",
      "Negativos pruebas: 4743\n"
     ]
    }
   ],
   "source": [
    "print(\"Positivos entrenamiento:\", len(y_train[y_train == 'positive']))\n",
    "print(\"Negativos entrenamiento:\", len(y_train[y_train == 'negative']))\n",
    "print(\"Positivos pruebas:\", len(y_test[y_test == 'positive']))\n",
    "print(\"Negativos pruebas:\", len(y_test[y_test == 'negative']))"
   ]
  },
  {
   "cell_type": "markdown",
   "metadata": {},
   "source": [
    "# Experimentos con el clasificador SVM radial y el metodo de ponderacion TF-IDF (Term Frequency Inverse Document Frecuency)\n",
    "Los siguientes son los experimentos realizados para el clasificador SVM con kernel radial y con el metodo de ponderación para el modelo de espacio vectorial usando TF-IDF (Term Frequency Inverse Document Frecuency)"
   ]
  },
  {
   "cell_type": "markdown",
   "metadata": {},
   "source": [
    "# Linea base"
   ]
  },
  {
   "cell_type": "code",
   "execution_count": 8,
   "metadata": {},
   "outputs": [],
   "source": [
    "tf_idf_vect_baseline = TfidfVectorizer(\n",
    "                analyzer = 'word',\n",
    "                tokenizer = default_tokenize,\n",
    "                lowercase = True)"
   ]
  },
  {
   "cell_type": "code",
   "execution_count": 9,
   "metadata": {},
   "outputs": [],
   "source": [
    "parameters_svm_rbf = {'kernel': ['rbf'], 'gamma': [1e-3, 1e-4], 'C': [1, 10, 100, 1000]}"
   ]
  },
  {
   "cell_type": "markdown",
   "metadata": {},
   "source": [
    "### TF-IDF BaseLine"
   ]
  },
  {
   "cell_type": "code",
   "execution_count": 10,
   "metadata": {},
   "outputs": [
    {
     "name": "stdout",
     "output_type": "stream",
     "text": [
      "random state:  10\n",
      "train time: 3278.744s\n",
      "random state:  20\n",
      "train time: 2280.561s\n",
      "random state:  30\n",
      "train time: 2223.078s\n",
      "random state:  40\n",
      "train time: 2226.952s\n",
      "random state:  50\n",
      "train time: 1959.619s\n",
      "random state:  60\n",
      "train time: 2334.163s\n",
      "random state:  70\n",
      "train time: 2380.037s\n",
      "random state:  80\n",
      "train time: 2104.686s\n",
      "random state:  90\n",
      "train time: 1984.408s\n",
      "random state:  100\n",
      "train time: 1103.288s\n",
      "CPU times: user 2h 11min 54s, sys: 1min 44s, total: 2h 13min 39s\n",
      "Wall time: 6h 9min 16s\n"
     ]
    }
   ],
   "source": [
    "%%time\n",
    "tf_baseline_results = run_tests_splits(total_data_content, total_data_target, tf_idf_vect_baseline, parameters_svm_rbf, SVC())"
   ]
  },
  {
   "cell_type": "code",
   "execution_count": 13,
   "metadata": {},
   "outputs": [],
   "source": [
    "tf_idf_baseline_results = tf_baseline_results"
   ]
  },
  {
   "cell_type": "code",
   "execution_count": 24,
   "metadata": {},
   "outputs": [
    {
     "name": "stdout",
     "output_type": "stream",
     "text": [
      "Numero de caracteristicas:  (26653, 48317)\n",
      "\n",
      "Best score selected:  0.9050763516302105\n",
      "Best Accuracy:  0.9044117647058824\n",
      "Best Best F1-score:  0.9018659970074773\n",
      "Best random state:  10\n",
      "Mejor resultado y parametro encontrados:\n",
      "Mejor resultado (accuracy cv):  0.9050763516302105\n",
      "C: 1000\n",
      "gamma: 0.001\n",
      "kernel: 'rbf'\n",
      "\n",
      "\n",
      "Exactitud: 0.9044117647058824\n",
      "F1_score: 0.9018659970074773\n",
      "Precision: 0.9011732180262964\n",
      "Recall: 0.9026159094496302\n",
      "\n",
      "             precision    recall  f1-score   support\n",
      "\n",
      "   negative     0.8804    0.8918    0.8861      4761\n",
      "   positive     0.9220    0.9134    0.9177      6663\n",
      "\n",
      "avg / total     0.9046    0.9044    0.9045     11424\n",
      "\n",
      "[[4246  515]\n",
      " [ 577 6086]]\n",
      "\n",
      "Confusion matrix, without normalization\n",
      "[[4246  515]\n",
      " [ 577 6086]]\n"
     ]
    },
    {
     "data": {
      "image/png": "[encoded data removed]",
      "text/plain": [
       "<Figure size 432x288 with 2 Axes>"
      ]
     },
     "metadata": {},
     "output_type": "display_data"
    }
   ],
   "source": [
    "print_baseline_results(tf_idf_baseline_results, parameters_svm_rbf)"
   ]
  },
  {
   "cell_type": "code",
   "execution_count": 56,
   "metadata": {},
   "outputs": [],
   "source": [
    "all_experiments_results = []"
   ]
  },
  {
   "cell_type": "markdown",
   "metadata": {},
   "source": [
    "## Prueba de la linea base con los parametros optimos\n",
    "Esta prueba se hace para validar los resultados obtenidos anteriormente. Si esta bien debe dar lo mismo o un resultado muy similar dependiendo del clasificador."
   ]
  },
  {
   "cell_type": "code",
   "execution_count": 57,
   "metadata": {},
   "outputs": [
    {
     "name": "stdout",
     "output_type": "stream",
     "text": [
      "Numero de caracteristicas:  (26653, 48317)\n",
      "\n",
      "train time: 657.174s\n",
      "Mejor resultado y parametro encontrados:\n",
      "Mejor resultado (accuracy cv):  0.9050763516302105\n",
      "C: 1000\n",
      "gamma: 0.001\n",
      "kernel: 'rbf'\n",
      "\n",
      "Exactitud: 0.9044117647058824\n",
      "F1_score: 0.9018659970074773\n",
      "Precision: 0.9011732180262964\n",
      "Recall: 0.9026159094496302\n",
      "\n",
      "             precision    recall  f1-score   support\n",
      "\n",
      "   negative     0.8804    0.8918    0.8861      4761\n",
      "   positive     0.9220    0.9134    0.9177      6663\n",
      "\n",
      "avg / total     0.9046    0.9044    0.9045     11424\n",
      "\n",
      "[[4246  515]\n",
      " [ 577 6086]]\n",
      "\n",
      "Confusion matrix, without normalization\n",
      "[[4246  515]\n",
      " [ 577 6086]]\n",
      "CPU times: user 4min 35s, sys: 3.41 s, total: 4min 39s\n",
      "Wall time: 11min 38s\n"
     ]
    },
    {
     "data": {
      "image/png": "[encoded data removed]",
      "text/plain": [
       "<Figure size 432x288 with 2 Axes>"
      ]
     },
     "metadata": {},
     "output_type": "display_data"
    }
   ],
   "source": [
    "%%time\n",
    "optimal_parameters = {'kernel': ['rbf'], 'gamma': [0.001], 'C': [1000]}\n",
    "clf_tf_idf_vect_baseline = run_one_experiment(total_data_content, total_data_target, tf_idf_vect_baseline, optimal_parameters, SVC(), 10)\n",
    "all_experiments_results.append(clf_tf_idf_vect_baseline)"
   ]
  },
  {
   "cell_type": "markdown",
   "metadata": {},
   "source": [
    "## Experimento 1: Remocion de stop words"
   ]
  },
  {
   "cell_type": "code",
   "execution_count": 58,
   "metadata": {},
   "outputs": [],
   "source": [
    "spanish_stopwords = stopwords.words('spanish')"
   ]
  },
  {
   "cell_type": "code",
   "execution_count": 59,
   "metadata": {},
   "outputs": [],
   "source": [
    "tf_idf_vect_stopwords = TfidfVectorizer(stop_words = spanish_stopwords,\n",
    "                                        analyzer = 'word',\n",
    "                                        tokenizer = default_tokenize,\n",
    "                                        lowercase = True)"
   ]
  },
  {
   "cell_type": "code",
   "execution_count": 60,
   "metadata": {},
   "outputs": [
    {
     "name": "stdout",
     "output_type": "stream",
     "text": [
      "Numero de caracteristicas:  (26653, 48064)\n",
      "\n",
      "train time: 475.365s\n",
      "Mejor resultado y parametro encontrados:\n",
      "Mejor resultado (accuracy cv):  0.8916069485611375\n",
      "C: 1000\n",
      "gamma: 0.001\n",
      "kernel: 'rbf'\n",
      "\n",
      "Exactitud: 0.8915441176470589\n",
      "F1_score: 0.8882995992162597\n",
      "Precision: 0.8888515251243815\n",
      "Recall: 0.8877775498641455\n",
      "\n",
      "             precision    recall  f1-score   support\n",
      "\n",
      "   negative     0.8734    0.8652    0.8693      4761\n",
      "   positive     0.9043    0.9104    0.9073      6663\n",
      "\n",
      "avg / total     0.8914    0.8915    0.8915     11424\n",
      "\n",
      "[[4119  642]\n",
      " [ 597 6066]]\n",
      "\n",
      "Confusion matrix, without normalization\n",
      "[[4119  642]\n",
      " [ 597 6066]]\n",
      "CPU times: user 3min 51s, sys: 2.73 s, total: 3min 53s\n",
      "Wall time: 8min 26s\n"
     ]
    },
    {
     "data": {
      "image/png": "[encoded data removed]",
      "text/plain": [
       "<Figure size 432x288 with 2 Axes>"
      ]
     },
     "metadata": {},
     "output_type": "display_data"
    }
   ],
   "source": [
    "%%time\n",
    "optimal_parameters = {'kernel': ['rbf'], 'gamma': [0.001], 'C': [1000]}\n",
    "clf_tf_idf_vect_stopwords = run_one_experiment(total_data_content, total_data_target, tf_idf_vect_stopwords, optimal_parameters, SVC(), 10)\n",
    "all_experiments_results.append(clf_tf_idf_vect_stopwords)"
   ]
  },
  {
   "cell_type": "markdown",
   "metadata": {},
   "source": [
    "## Experimento 2: Stemming"
   ]
  },
  {
   "cell_type": "code",
   "execution_count": 61,
   "metadata": {},
   "outputs": [
    {
     "name": "stdout",
     "output_type": "stream",
     "text": [
      "['holaaa', 'com', 'estas', 'estaa', 'cre', 'en', 'mi', 'si', 'llov', 'mañan', 'tu', 'cre', 'en', 'mi', 'cart', 'aeiou']\n"
     ]
    }
   ],
   "source": [
    "#Prueba de los metodos anteriores\n",
    "print(tokenize_stems(\n",
    "    \"holaaaa como estas estaaaas creerías en mi si lloviera mañana, tu crees en mi cartas ¡¡ ¿¿. a e i o u aeiou\"))"
   ]
  },
  {
   "cell_type": "code",
   "execution_count": 62,
   "metadata": {},
   "outputs": [],
   "source": [
    "tf_idf_vect_stemming = TfidfVectorizer(\n",
    "                analyzer = 'word',\n",
    "                tokenizer = tokenize_stems,\n",
    "                lowercase = True)"
   ]
  },
  {
   "cell_type": "code",
   "execution_count": 63,
   "metadata": {},
   "outputs": [
    {
     "name": "stdout",
     "output_type": "stream",
     "text": [
      "Numero de caracteristicas:  (26653, 32872)\n",
      "\n",
      "train time: 385.469s\n",
      "Mejor resultado y parametro encontrados:\n",
      "Mejor resultado (accuracy cv):  0.9061644092597456\n",
      "C: 1000\n",
      "gamma: 0.001\n",
      "kernel: 'rbf'\n",
      "\n",
      "Exactitud: 0.9041491596638656\n",
      "F1_score: 0.901483995524076\n",
      "Precision: 0.9012146411733892\n",
      "Recall: 0.9017612333286142\n",
      "\n",
      "             precision    recall  f1-score   support\n",
      "\n",
      "   negative     0.8832    0.8874    0.8853      4761\n",
      "   positive     0.9193    0.9161    0.9177      6663\n",
      "\n",
      "avg / total     0.9042    0.9041    0.9042     11424\n",
      "\n",
      "[[4225  536]\n",
      " [ 559 6104]]\n",
      "\n",
      "Confusion matrix, without normalization\n",
      "[[4225  536]\n",
      " [ 559 6104]]\n",
      "CPU times: user 3min 24s, sys: 2.59 s, total: 3min 26s\n",
      "Wall time: 7min 17s\n"
     ]
    },
    {
     "data": {
      "image/png": "[encoded data removed]",
      "text/plain": [
       "<Figure size 432x288 with 2 Axes>"
      ]
     },
     "metadata": {},
     "output_type": "display_data"
    }
   ],
   "source": [
    "%%time\n",
    "optimal_parameters = {'kernel': ['rbf'], 'gamma': [0.001], 'C': [1000]}\n",
    "clf_tf_idf_vect_stemming = run_one_experiment(total_data_content, total_data_target, tf_idf_vect_stemming, optimal_parameters, SVC(), 10)\n",
    "all_experiments_results.append(clf_tf_idf_vect_stemming)"
   ]
  },
  {
   "cell_type": "markdown",
   "metadata": {},
   "source": [
    "## Experimento 3: Lematizacion"
   ]
  },
  {
   "cell_type": "code",
   "execution_count": 64,
   "metadata": {},
   "outputs": [
    {
     "name": "stdout",
     "output_type": "stream",
     "text": [
      "['holaaaa', 'comer', 'este', 'estaaaas', 'creer', 'en', 'mi', 'si', 'llover', 'mañana', 'tu', 'creer', 'en', 'mi', 'carta', 'aeiou']\n"
     ]
    }
   ],
   "source": [
    "# Prueba del tokenizer\n",
    "print(tokenize_lemmas(\n",
    "    \"holaaaa como estas estaaaas creerías en mi si lloviera mañana, tu crees en mi cartas ¡¡ ¿¿. a e i o u aeiou\"))"
   ]
  },
  {
   "cell_type": "code",
   "execution_count": 65,
   "metadata": {},
   "outputs": [],
   "source": [
    "tf_idf_vect_lemmatize = TfidfVectorizer(\n",
    "                analyzer = 'word',\n",
    "                tokenizer = tokenize_lemmas,\n",
    "                lowercase = True)"
   ]
  },
  {
   "cell_type": "code",
   "execution_count": 66,
   "metadata": {},
   "outputs": [
    {
     "name": "stdout",
     "output_type": "stream",
     "text": [
      "Numero de caracteristicas:  (26653, 36738)\n",
      "\n",
      "train time: 491.368s\n",
      "Mejor resultado y parametro encontrados:\n",
      "Mejor resultado (accuracy cv):  0.909316024462537\n",
      "C: 1000\n",
      "gamma: 0.001\n",
      "kernel: 'rbf'\n",
      "\n",
      "Exactitud: 0.9057247899159664\n",
      "F1_score: 0.9031434189671347\n",
      "Precision: 0.9027156211455951\n",
      "Recall: 0.9035916351346738\n",
      "\n",
      "             precision    recall  f1-score   support\n",
      "\n",
      "   negative     0.8839    0.8908    0.8873      4761\n",
      "   positive     0.9215    0.9164    0.9190      6663\n",
      "\n",
      "avg / total     0.9058    0.9057    0.9058     11424\n",
      "\n",
      "[[4241  520]\n",
      " [ 557 6106]]\n",
      "\n",
      "Confusion matrix, without normalization\n",
      "[[4241  520]\n",
      " [ 557 6106]]\n",
      "CPU times: user 3min 55s, sys: 2.52 s, total: 3min 58s\n",
      "Wall time: 8min 49s\n"
     ]
    },
    {
     "data": {
      "image/png": "[encoded data removed]",
      "text/plain": [
       "<Figure size 432x288 with 2 Axes>"
      ]
     },
     "metadata": {},
     "output_type": "display_data"
    }
   ],
   "source": [
    "%%time\n",
    "optimal_parameters = {'kernel': ['rbf'], 'gamma': [0.001], 'C': [1000]}\n",
    "clf_tf_idf_vect_lemmatize = run_one_experiment(total_data_content, total_data_target, tf_idf_vect_lemmatize, optimal_parameters, SVC(), 10)\n",
    "all_experiments_results.append(clf_tf_idf_vect_lemmatize)"
   ]
  },
  {
   "cell_type": "markdown",
   "metadata": {},
   "source": [
    "## Experimento 4: Remocion de URLs"
   ]
  },
  {
   "cell_type": "code",
   "execution_count": 67,
   "metadata": {},
   "outputs": [
    {
     "name": "stdout",
     "output_type": "stream",
     "text": [
      "['holaaaa', 'cómo', 'creerías', 'mi', 'si', 'lloviera', 'mañana', 'tu', 'crees', 'en', 'mi', 'cartas', 'aeiou']\n"
     ]
    }
   ],
   "source": [
    "# Prueba de la tokenizacion sin urls\n",
    "print(tokenize_no_urls(\n",
    "    \"holaaaa cómo http://estas creerías https://stackoverflow.com/questions/11331982/how-to-remove-any-url-within-a-string-in-python mi si lloviera \\t  mañana, tu crees en mi cartas ¡¡ ¿¿. aeiou\"))"
   ]
  },
  {
   "cell_type": "code",
   "execution_count": 68,
   "metadata": {},
   "outputs": [],
   "source": [
    "tf_idf_vect_no_urls = TfidfVectorizer(\n",
    "                analyzer = 'word',\n",
    "                tokenizer = tokenize_no_urls,\n",
    "                lowercase = True)"
   ]
  },
  {
   "cell_type": "code",
   "execution_count": 69,
   "metadata": {},
   "outputs": [
    {
     "name": "stdout",
     "output_type": "stream",
     "text": [
      "Numero de caracteristicas:  (26653, 40316)\n",
      "\n",
      "train time: 497.652s\n",
      "Mejor resultado y parametro encontrados:\n",
      "Mejor resultado (accuracy cv):  0.903913255543466\n",
      "C: 1000\n",
      "gamma: 0.001\n",
      "kernel: 'rbf'\n",
      "\n",
      "Exactitud: 0.9027485994397759\n",
      "F1_score: 0.9001324544477599\n",
      "Precision: 0.899536180089967\n",
      "Recall: 0.9007704237330532\n",
      "\n",
      "             precision    recall  f1-score   support\n",
      "\n",
      "   negative     0.8791    0.8889    0.8840      4761\n",
      "   positive     0.9200    0.9127    0.9163      6663\n",
      "\n",
      "avg / total     0.9029    0.9027    0.9028     11424\n",
      "\n",
      "[[4232  529]\n",
      " [ 582 6081]]\n",
      "\n",
      "Confusion matrix, without normalization\n",
      "[[4232  529]\n",
      " [ 582 6081]]\n",
      "CPU times: user 4min 5s, sys: 3.11 s, total: 4min 9s\n",
      "Wall time: 8min 56s\n"
     ]
    },
    {
     "data": {
      "image/png": "[encoded data removed]",
      "text/plain": [
       "<Figure size 432x288 with 2 Axes>"
      ]
     },
     "metadata": {},
     "output_type": "display_data"
    }
   ],
   "source": [
    "%%time\n",
    "optimal_parameters = {'kernel': ['rbf'], 'gamma': [0.001], 'C': [1000]}\n",
    "clf_tf_idf_vect_no_urls = run_one_experiment(total_data_content, total_data_target, tf_idf_vect_no_urls, optimal_parameters, SVC(), 10)\n",
    "all_experiments_results.append(clf_tf_idf_vect_no_urls)"
   ]
  },
  {
   "cell_type": "markdown",
   "metadata": {},
   "source": [
    "## Experimento 5: Remocion de letras repetidas"
   ]
  },
  {
   "cell_type": "code",
   "execution_count": 70,
   "metadata": {},
   "outputs": [
    {
     "name": "stdout",
     "output_type": "stream",
     "text": [
      "['hola', 'cómo', 'htp', 'estas', 'estas', 'creerías', 'mi', 'si', 'lloviera', 'mañana', 'tu', 'crees', 'en', 'mi', 'cartas', 'aeiou']\n"
     ]
    }
   ],
   "source": [
    "print(tokenize_norm_letters(\n",
    "    \"holaaaa cómo http://estas estaaaas creerías mi si lloviera mañana, tu crees en mi cartas ¡¡ ¿¿. a e i o u aeiou\"))"
   ]
  },
  {
   "cell_type": "code",
   "execution_count": 71,
   "metadata": {},
   "outputs": [],
   "source": [
    "tf_idf_vect_norm_letters = TfidfVectorizer(\n",
    "                analyzer = 'word',\n",
    "                tokenizer = tokenize_norm_letters,\n",
    "                lowercase = True)"
   ]
  },
  {
   "cell_type": "code",
   "execution_count": 72,
   "metadata": {},
   "outputs": [
    {
     "name": "stdout",
     "output_type": "stream",
     "text": [
      "Numero de caracteristicas:  (26653, 47534)\n",
      "\n",
      "train time: 600.871s\n",
      "Mejor resultado y parametro encontrados:\n",
      "Mejor resultado (accuracy cv):  0.9054890631448618\n",
      "C: 1000\n",
      "gamma: 0.001\n",
      "kernel: 'rbf'\n",
      "\n",
      "Exactitud: 0.9046743697478992\n",
      "F1_score: 0.9020871879795176\n",
      "Precision: 0.901573339309544\n",
      "Recall: 0.9026311825000914\n",
      "\n",
      "             precision    recall  f1-score   support\n",
      "\n",
      "   negative     0.8820    0.8904    0.8862      4761\n",
      "   positive     0.9211    0.9149    0.9180      6663\n",
      "\n",
      "avg / total     0.9048    0.9047    0.9047     11424\n",
      "\n",
      "[[4239  522]\n",
      " [ 567 6096]]\n",
      "\n",
      "Confusion matrix, without normalization\n",
      "[[4239  522]\n",
      " [ 567 6096]]\n",
      "CPU times: user 4min 34s, sys: 3.36 s, total: 4min 37s\n",
      "Wall time: 10min 47s\n"
     ]
    },
    {
     "data": {
      "image/png": "[encoded data removed]",
      "text/plain": [
       "<Figure size 432x288 with 2 Axes>"
      ]
     },
     "metadata": {},
     "output_type": "display_data"
    }
   ],
   "source": [
    "%%time\n",
    "optimal_parameters = {'kernel': ['rbf'], 'gamma': [0.001], 'C': [1000]}\n",
    "clf_tf_idf_vect_norm_letters = run_one_experiment(total_data_content, total_data_target, tf_idf_vect_norm_letters, optimal_parameters, SVC(), 10)\n",
    "all_experiments_results.append(clf_tf_idf_vect_norm_letters)"
   ]
  },
  {
   "cell_type": "markdown",
   "metadata": {},
   "source": [
    "## Experimento 6: Remocion de terminos poco comunes (pruning < 10)"
   ]
  },
  {
   "cell_type": "code",
   "execution_count": 73,
   "metadata": {},
   "outputs": [],
   "source": [
    "tf_idf_vect_pruning10 = TfidfVectorizer(\n",
    "                analyzer = 'word',\n",
    "                tokenizer = default_tokenize,\n",
    "                lowercase = True,\n",
    "                min_df=10)"
   ]
  },
  {
   "cell_type": "code",
   "execution_count": 74,
   "metadata": {},
   "outputs": [
    {
     "name": "stdout",
     "output_type": "stream",
     "text": [
      "Numero de caracteristicas:  (26653, 4350)\n",
      "\n",
      "train time: 204.833s\n",
      "Mejor resultado y parametro encontrados:\n",
      "Mejor resultado (accuracy cv):  0.8948336022211383\n",
      "C: 1000\n",
      "gamma: 0.001\n",
      "kernel: 'rbf'\n",
      "\n",
      "Exactitud: 0.8922443977591037\n",
      "F1_score: 0.8892087445791305\n",
      "Precision: 0.8890820702443951\n",
      "Recall: 0.889337197840665\n",
      "\n",
      "             precision    recall  f1-score   support\n",
      "\n",
      "   negative     0.8699    0.8719    0.8709      4761\n",
      "   positive     0.9083    0.9068    0.9075      6663\n",
      "\n",
      "avg / total     0.8923    0.8922    0.8923     11424\n",
      "\n",
      "[[4151  610]\n",
      " [ 621 6042]]\n",
      "\n",
      "Confusion matrix, without normalization\n",
      "[[4151  610]\n",
      " [ 621 6042]]\n",
      "CPU times: user 1min 44s, sys: 2.27 s, total: 1min 47s\n",
      "Wall time: 3min 49s\n"
     ]
    },
    {
     "data": {
      "image/png": "[encoded data removed]",
      "text/plain": [
       "<Figure size 432x288 with 2 Axes>"
      ]
     },
     "metadata": {},
     "output_type": "display_data"
    }
   ],
   "source": [
    "%%time\n",
    "optimal_parameters = {'kernel': ['rbf'], 'gamma': [0.001], 'C': [1000]}\n",
    "clf_tf_idf_vect_pruning10 = run_one_experiment(total_data_content, total_data_target, tf_idf_vect_pruning10, optimal_parameters, SVC(), 10)\n",
    "all_experiments_results.append(clf_tf_idf_vect_pruning10)"
   ]
  },
  {
   "cell_type": "markdown",
   "metadata": {},
   "source": [
    "## Experimento 7: Remocion de terminos poco comunes (pruning < 5)"
   ]
  },
  {
   "cell_type": "code",
   "execution_count": 75,
   "metadata": {},
   "outputs": [],
   "source": [
    "tf_idf_vect_pruning5 = TfidfVectorizer(\n",
    "                analyzer = 'word',\n",
    "                tokenizer = default_tokenize,\n",
    "                lowercase = True,\n",
    "                min_df=5)"
   ]
  },
  {
   "cell_type": "code",
   "execution_count": 76,
   "metadata": {},
   "outputs": [
    {
     "name": "stdout",
     "output_type": "stream",
     "text": [
      "Numero de caracteristicas:  (26653, 7786)\n",
      "\n",
      "train time: 262.298s\n",
      "Mejor resultado y parametro encontrados:\n",
      "Mejor resultado (accuracy cv):  0.8996360634825348\n",
      "C: 1000\n",
      "gamma: 0.001\n",
      "kernel: 'rbf'\n",
      "\n",
      "Exactitud: 0.8996848739495799\n",
      "F1_score: 0.8969652858927348\n",
      "Precision: 0.8964474538557521\n",
      "Recall: 0.8975144268856378\n",
      "\n",
      "             precision    recall  f1-score   support\n",
      "\n",
      "   negative     0.8760    0.8845    0.8802      4761\n",
      "   positive     0.9169    0.9106    0.9137      6663\n",
      "\n",
      "avg / total     0.8998    0.8997    0.8998     11424\n",
      "\n",
      "[[4211  550]\n",
      " [ 596 6067]]\n",
      "\n",
      "Confusion matrix, without normalization\n",
      "[[4211  550]\n",
      " [ 596 6067]]\n",
      "CPU times: user 2min 13s, sys: 2.33 s, total: 2min 16s\n",
      "Wall time: 4min 48s\n"
     ]
    },
    {
     "data": {
      "image/png": "[encoded data removed]",
      "text/plain": [
       "<Figure size 432x288 with 2 Axes>"
      ]
     },
     "metadata": {},
     "output_type": "display_data"
    }
   ],
   "source": [
    "%%time\n",
    "optimal_parameters = {'kernel': ['rbf'], 'gamma': [0.001], 'C': [1000]}\n",
    "clf_tf_idf_vect_pruning5 = run_one_experiment(total_data_content, total_data_target, tf_idf_vect_pruning5, optimal_parameters, SVC(), 10)\n",
    "all_experiments_results.append(clf_tf_idf_vect_pruning5)"
   ]
  },
  {
   "cell_type": "code",
   "execution_count": 80,
   "metadata": {},
   "outputs": [
    {
     "data": {
      "text/plain": [
       "8"
      ]
     },
     "execution_count": 80,
     "metadata": {},
     "output_type": "execute_result"
    }
   ],
   "source": [
    "len(all_experiments_results)"
   ]
  },
  {
   "cell_type": "code",
   "execution_count": 78,
   "metadata": {},
   "outputs": [],
   "source": [
    "import xlsxwriter"
   ]
  },
  {
   "cell_type": "code",
   "execution_count": 79,
   "metadata": {},
   "outputs": [],
   "source": [
    "# Create a workbook and add a worksheet.\n",
    "# workbook = xlsxwriter.Workbook('result_es_twitter_sa_svm_rbf_tfidf.xlsx')\n",
    "# worksheet = workbook.add_worksheet()\n",
    "# row = 0\n",
    "# col = 0\n",
    "# for exp in all_experiments_results:\n",
    "#     worksheet.write(row, col, exp[0])\n",
    "#     row += 1\n",
    "#     worksheet.write(row, col, exp[1])\n",
    "#     row += 1\n",
    "#     worksheet.write(row, col, exp[2])\n",
    "#     row += 1\n",
    "#     worksheet.write(row, col, exp[3])\n",
    "#     row += 1\n",
    "#     worksheet.write(row, col, exp[4])\n",
    "#     row += 1\n",
    "#     worksheet.write(row, col, exp[5])\n",
    "#     row += 1\n",
    "#     worksheet.write(row, col, exp[6])\n",
    "#     row += 1\n",
    "#     worksheet.write(row, col, exp[7])\n",
    "#     row += 1\n",
    "#     worksheet.write(row, col, exp[8])\n",
    "#     row += 1\n",
    "#     row = 0\n",
    "#     col += 1\n",
    "# workbook.close()"
   ]
  }
 ],
 "metadata": {
  "kernelspec": {
   "display_name": "python_tg",
   "language": "python",
   "name": "python_tg"
  },
  "language_info": {
   "codemirror_mode": {
    "name": "ipython",
    "version": 3
   },
   "file_extension": ".py",
   "mimetype": "text/x-python",
   "name": "python",
   "nbconvert_exporter": "python",
   "pygments_lexer": "ipython3",
   "version": "3.6.2"
  }
 },
 "nbformat": 4,
 "nbformat_minor": 2
}
