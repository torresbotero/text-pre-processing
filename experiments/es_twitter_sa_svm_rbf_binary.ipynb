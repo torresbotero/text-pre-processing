{
 "cells": [
  {
   "cell_type": "code",
   "execution_count": 53,
   "metadata": {},
   "outputs": [],
   "source": [
    "import pandas as pd\n",
    "\n",
    "from sklearn.model_selection import train_test_split\n",
    "from sklearn.feature_extraction.text import CountVectorizer\n",
    "from sklearn.feature_extraction.text import TfidfVectorizer\n",
    "from sklearn.svm import SVC\n",
    "\n",
    "from experiments_core import run_tests_splits\n",
    "from experiments_core import run_one_experiment\n",
    "from experiments_core import print_baseline_results\n",
    "from experiments_core import default_tokenize\n",
    "from experiments_core import tokenize_stems\n",
    "from experiments_core import tokenize_lemmas\n",
    "from experiments_core import tokenize_no_urls\n",
    "from experiments_core import tokenize_norm_letters\n",
    "\n",
    "from nltk.corpus import stopwords\n",
    "\n",
    "%matplotlib inline"
   ]
  },
  {
   "cell_type": "code",
   "execution_count": 54,
   "metadata": {},
   "outputs": [
    {
     "data": {
      "text/plain": [
       "<module 'experiments_core' from '/home/ctorres9/EAFIT/trabajogrado/experiments/experiments_core.py'>"
      ]
     },
     "execution_count": 54,
     "metadata": {},
     "output_type": "execute_result"
    }
   ],
   "source": [
    "import importlib\n",
    "import sys\n",
    "importlib.reload(sys.modules[run_tests_splits.__module__])\n",
    "importlib.reload(sys.modules[run_one_experiment.__module__])\n",
    "importlib.reload(sys.modules[print_baseline_results.__module__])\n",
    "importlib.reload(sys.modules[default_tokenize.__module__])\n",
    "importlib.reload(sys.modules[tokenize_stems.__module__])\n",
    "importlib.reload(sys.modules[tokenize_lemmas.__module__])\n",
    "importlib.reload(sys.modules[tokenize_no_urls.__module__])\n",
    "importlib.reload(sys.modules[tokenize_norm_letters.__module__])"
   ]
  },
  {
   "cell_type": "code",
   "execution_count": 3,
   "metadata": {},
   "outputs": [
    {
     "name": "stdout",
     "output_type": "stream",
     "text": [
      "                      tweetid          user               content  \\\n",
      "count                   60798         60798                 60798   \n",
      "unique                  60798           158                 60405   \n",
      "top      154993892859715584,0  mariviromero  Buenos días a todos!   \n",
      "freq                        1          7138                   111   \n",
      "\n",
      "                       date   lang polarity  topic  \n",
      "count                 60798  60798    60798  60798  \n",
      "unique                60510      1        6     10  \n",
      "top     2012-01-01T00:00:16     es     NONE  otros  \n",
      "freq                      4  60798    21416  28189  \n",
      "                 tweetid            user  \\\n",
      "0   142378325086715904,0     jesusmarana   \n",
      "1   142379080808013824,0       EvaORegan   \n",
      "2   142379173120442368,0  LosadaPescador   \n",
      "3   142379815708803072,0    mgilguerrero   \n",
      "4   142381190123499520,0  pedroj_ramirez   \n",
      "\n",
      "                                             content                 date  \\\n",
      "0  Portada 'Público', viernes. Fabra al banquillo...  2011-12-02T00:03:32   \n",
      "1  Grande! RT @veronicacalderon \"El periodista es...  2011-12-02T00:06:32   \n",
      "2  Gonzalo Altozano tras la presentación de su li...  2011-12-02T00:06:55   \n",
      "3  Mañana en Gaceta: TVE, la que pagamos tú y yo,...  2011-12-02T00:09:28   \n",
      "4  Qué envidia “@mfcastineiras: Pedro mañana x la...  2011-12-02T00:14:55   \n",
      "\n",
      "  lang polarity            topic  \n",
      "0   es        N         política  \n",
      "1   es     NONE         política  \n",
      "2   es       P+            otros  \n",
      "3   es        N  entretenimiento  \n",
      "4   es     NONE            otros  \n"
     ]
    }
   ],
   "source": [
    "file_path = 'data/TweetsPolaridadSEPLN.csv'\n",
    "original_tweets_df = pd.read_csv(file_path, index_col=None, header=0, sep='\\t')\n",
    "print(original_tweets_df.describe())\n",
    "print(original_tweets_df.head())"
   ]
  },
  {
   "cell_type": "code",
   "execution_count": 4,
   "metadata": {},
   "outputs": [
    {
     "name": "stdout",
     "output_type": "stream",
     "text": [
      "                                                  content  polarity\n",
      "count                                               38077     38077\n",
      "unique                                              37926         2\n",
      "top     ¡Noticias descombacantes! está disponible! htt...  positive\n",
      "freq                                                   63     22233\n",
      "                                             content  polarity\n",
      "0  Dado q la deuda privada es superior a la publi...  negative\n",
      "1  TEPCO inyecta nitrógeno en los reactores de Fu...  negative\n",
      "2  “@Declaracion: «Cualquier injusticia contra un...  negative\n",
      "3  ¡Qué estrés!, la presidenta de la diputación d...  negative\n",
      "4  Hoy entrego mi credencial en el Congreso. Una ...  negative\n"
     ]
    }
   ],
   "source": [
    "strong_negative_tweets = original_tweets_df[original_tweets_df.polarity == 'N+'][['content','polarity']]\n",
    "standar_negative_tweets = original_tweets_df[original_tweets_df.polarity == 'N'][['content','polarity']]\n",
    "\n",
    "strong_positive_tweets = original_tweets_df[original_tweets_df.polarity == 'P+'][['content','polarity']]\n",
    "standar_positive_tweets = original_tweets_df[original_tweets_df.polarity == 'P'][['content','polarity']]\n",
    "\n",
    "negative_tweets = pd.concat([strong_negative_tweets,standar_negative_tweets], ignore_index=True)\n",
    "positive_tweets = pd.concat([strong_positive_tweets,standar_positive_tweets], ignore_index=True)\n",
    "\n",
    "negative_tweets.polarity = \"negative\"\n",
    "positive_tweets.polarity = \"positive\"\n",
    "\n",
    "total_tweets = pd.concat([negative_tweets,positive_tweets], ignore_index=True)\n",
    "print(total_tweets.describe())\n",
    "print(total_tweets.head())"
   ]
  },
  {
   "cell_type": "code",
   "execution_count": 5,
   "metadata": {},
   "outputs": [],
   "source": [
    "total_data_content = total_tweets.content\n",
    "total_data_target = total_tweets.polarity"
   ]
  },
  {
   "cell_type": "code",
   "execution_count": 6,
   "metadata": {},
   "outputs": [],
   "source": [
    "X_train, X_test, y_train, y_test = train_test_split(total_data_content, \n",
    "                                                    total_data_target, \n",
    "                                                    test_size=0.3, \n",
    "                                                    random_state=80)"
   ]
  },
  {
   "cell_type": "code",
   "execution_count": 7,
   "metadata": {},
   "outputs": [
    {
     "name": "stdout",
     "output_type": "stream",
     "text": [
      "Positivos entrenamiento: 15552\n",
      "Negativos entrenamiento: 11101\n",
      "Positivos pruebas: 6681\n",
      "Negativos pruebas: 4743\n"
     ]
    }
   ],
   "source": [
    "print(\"Positivos entrenamiento:\", len(y_train[y_train == 'positive']))\n",
    "print(\"Negativos entrenamiento:\", len(y_train[y_train == 'negative']))\n",
    "print(\"Positivos pruebas:\", len(y_test[y_test == 'positive']))\n",
    "print(\"Negativos pruebas:\", len(y_test[y_test == 'negative']))"
   ]
  },
  {
   "cell_type": "markdown",
   "metadata": {},
   "source": [
    "# Experimentos con el clasificador SVM radial y el metodo de ponderacion binario\n",
    "Los siguientes son los experimentos realizados para el clasificador SVM con kernel radial y con el metodo de ponderación para el modelo de espacio vectorial binario"
   ]
  },
  {
   "cell_type": "markdown",
   "metadata": {},
   "source": [
    "# Linea base"
   ]
  },
  {
   "cell_type": "code",
   "execution_count": 8,
   "metadata": {},
   "outputs": [],
   "source": [
    "binary_vect_baseline = CountVectorizer(\n",
    "                analyzer = 'word',\n",
    "                tokenizer = default_tokenize,\n",
    "                lowercase = True,\n",
    "                binary=True)"
   ]
  },
  {
   "cell_type": "code",
   "execution_count": 9,
   "metadata": {},
   "outputs": [],
   "source": [
    "parameters_svm_rbf = {'kernel': ['rbf'], 'gamma': [1e-3, 1e-4], 'C': [1, 10, 100, 1000]}"
   ]
  },
  {
   "cell_type": "code",
   "execution_count": 10,
   "metadata": {},
   "outputs": [
    {
     "name": "stdout",
     "output_type": "stream",
     "text": [
      "random state:  10\n",
      "train time: 2009.065s\n",
      "random state:  20\n",
      "train time: 2223.765s\n",
      "random state:  30\n",
      "train time: 2210.670s\n",
      "random state:  40\n",
      "train time: 2180.021s\n",
      "random state:  50\n",
      "train time: 2142.628s\n",
      "random state:  60\n",
      "train time: 2131.703s\n",
      "random state:  70\n",
      "train time: 2062.125s\n",
      "random state:  80\n",
      "train time: 2348.018s\n",
      "random state:  90\n",
      "train time: 2152.018s\n",
      "random state:  100\n",
      "train time: 2118.093s\n",
      "CPU times: user 1h 4min 22s, sys: 1min 21s, total: 1h 5min 44s\n",
      "Wall time: 6h 3min 6s\n"
     ]
    }
   ],
   "source": [
    "%%time\n",
    "tf_baseline_results = run_tests_splits(total_data_content, total_data_target, binary_vect_baseline, parameters_svm_rbf, SVC())"
   ]
  },
  {
   "cell_type": "code",
   "execution_count": 13,
   "metadata": {},
   "outputs": [],
   "source": [
    "binary_baseline_results = tf_baseline_results"
   ]
  },
  {
   "cell_type": "code",
   "execution_count": 14,
   "metadata": {},
   "outputs": [
    {
     "name": "stdout",
     "output_type": "stream",
     "text": [
      "Numero de caracteristicas:  (26653, 48372)\n",
      "\n",
      "Best score selected:  0.905451543916257\n",
      "Best Accuracy:  0.8988095238095238\n",
      "Best Best F1-score:  0.895603416581652\n",
      "Best random state:  30\n",
      "Mejor resultado y parametro encontrados:\n",
      "Mejor resultado (accuracy cv):  0.905451543916257\n",
      "C: 100\n",
      "gamma: 0.001\n",
      "kernel: 'rbf'\n",
      "\n",
      "\n",
      "Exactitud: 0.8988095238095238\n",
      "F1_score: 0.895603416581652\n",
      "Precision: 0.8969869251464275\n",
      "Recall: 0.8943816499745969\n",
      "\n",
      "             precision    recall  f1-score   support\n",
      "\n",
      "   negative     0.8871    0.8677    0.8773      4763\n",
      "   positive     0.9069    0.9210    0.9139      6661\n",
      "\n",
      "avg / total     0.8986    0.8988    0.8986     11424\n",
      "\n",
      "[[4133  630]\n",
      " [ 526 6135]]\n",
      "\n",
      "Confusion matrix, without normalization\n",
      "[[4133  630]\n",
      " [ 526 6135]]\n"
     ]
    },
    {
     "data": {
      "image/png": "[encoded data removed]",
      "text/plain": [
       "<Figure size 432x288 with 2 Axes>"
      ]
     },
     "metadata": {},
     "output_type": "display_data"
    }
   ],
   "source": [
    "print_baseline_results(binary_baseline_results, parameters_svm_rbf)"
   ]
  },
  {
   "cell_type": "code",
   "execution_count": 58,
   "metadata": {},
   "outputs": [],
   "source": [
    "all_experiments_results = []"
   ]
  },
  {
   "cell_type": "markdown",
   "metadata": {},
   "source": [
    "## Prueba de la linea base con los parametros optimos\n",
    "Esta prueba se hace para validar los resultados obtenidos anteriormente. Si esta bien debe dar lo mismo o un resultado muy similar dependiendo del clasificador."
   ]
  },
  {
   "cell_type": "code",
   "execution_count": 59,
   "metadata": {},
   "outputs": [
    {
     "name": "stdout",
     "output_type": "stream",
     "text": [
      "Numero de caracteristicas:  (26653, 48372)\n",
      "\n",
      "train time: 484.431s\n",
      "Mejor resultado y parametro encontrados:\n",
      "Mejor resultado (accuracy cv):  0.905451543916257\n",
      "C: 100\n",
      "gamma: 0.001\n",
      "kernel: 'rbf'\n",
      "\n",
      "Exactitud: 0.8988095238095238\n",
      "F1_score: 0.895603416581652\n",
      "Precision: 0.8969869251464275\n",
      "Recall: 0.8943816499745969\n",
      "\n",
      "             precision    recall  f1-score   support\n",
      "\n",
      "   negative     0.8871    0.8677    0.8773      4763\n",
      "   positive     0.9069    0.9210    0.9139      6661\n",
      "\n",
      "avg / total     0.8986    0.8988    0.8986     11424\n",
      "\n",
      "[[4133  630]\n",
      " [ 526 6135]]\n",
      "\n",
      "Confusion matrix, without normalization\n",
      "[[4133  630]\n",
      " [ 526 6135]]\n",
      "CPU times: user 3min 43s, sys: 3.34 s, total: 3min 46s\n",
      "Wall time: 8min 40s\n"
     ]
    },
    {
     "data": {
      "image/png": "[encoded data removed]",
      "text/plain": [
       "<Figure size 432x288 with 2 Axes>"
      ]
     },
     "metadata": {},
     "output_type": "display_data"
    }
   ],
   "source": [
    "%%time\n",
    "optimal_parameters = {'kernel': ['rbf'], 'gamma': [0.001], 'C': [100]}\n",
    "clf_binary_vect_baseline = run_one_experiment(total_data_content, total_data_target, binary_vect_baseline, optimal_parameters, SVC(), 30)\n",
    "all_experiments_results.append(clf_binary_vect_baseline)"
   ]
  },
  {
   "cell_type": "markdown",
   "metadata": {},
   "source": [
    "## Experimento 1: Remocion de stop words"
   ]
  },
  {
   "cell_type": "code",
   "execution_count": 60,
   "metadata": {},
   "outputs": [],
   "source": [
    "spanish_stopwords = stopwords.words('spanish')"
   ]
  },
  {
   "cell_type": "code",
   "execution_count": 61,
   "metadata": {},
   "outputs": [],
   "source": [
    "binary_vect_stopwords = CountVectorizer(stop_words = spanish_stopwords,\n",
    "                                        analyzer = 'word',\n",
    "                                        tokenizer = default_tokenize,\n",
    "                                        lowercase = True,\n",
    "                                        binary=True)"
   ]
  },
  {
   "cell_type": "code",
   "execution_count": 62,
   "metadata": {},
   "outputs": [
    {
     "name": "stdout",
     "output_type": "stream",
     "text": [
      "Numero de caracteristicas:  (26653, 48118)\n",
      "\n",
      "train time: 304.229s\n",
      "Mejor resultado y parametro encontrados:\n",
      "Mejor resultado (accuracy cv):  0.8907815255318351\n",
      "C: 100\n",
      "gamma: 0.001\n",
      "kernel: 'rbf'\n",
      "\n",
      "Exactitud: 0.8919817927170869\n",
      "F1_score: 0.8881966356371416\n",
      "Precision: 0.8911512360318472\n",
      "Recall: 0.8858645006769297\n",
      "\n",
      "             precision    recall  f1-score   support\n",
      "\n",
      "   negative     0.8870    0.8490    0.8676      4763\n",
      "   positive     0.8953    0.9227    0.9088      6661\n",
      "\n",
      "avg / total     0.8918    0.8920    0.8916     11424\n",
      "\n",
      "[[4044  719]\n",
      " [ 515 6146]]\n",
      "\n",
      "Confusion matrix, without normalization\n",
      "[[4044  719]\n",
      " [ 515 6146]]\n",
      "CPU times: user 2min 44s, sys: 2.32 s, total: 2min 47s\n",
      "Wall time: 5min 32s\n"
     ]
    },
    {
     "data": {
      "image/png": "[encoded data removed]",
      "text/plain": [
       "<Figure size 432x288 with 2 Axes>"
      ]
     },
     "metadata": {},
     "output_type": "display_data"
    }
   ],
   "source": [
    "%%time\n",
    "optimal_parameters = {'kernel': ['rbf'], 'gamma': [0.001], 'C': [100]}\n",
    "clf_binary_vect_stopwords = run_one_experiment(total_data_content, total_data_target, binary_vect_stopwords, optimal_parameters, SVC(), 30)\n",
    "all_experiments_results.append(clf_binary_vect_stopwords)"
   ]
  },
  {
   "cell_type": "markdown",
   "metadata": {},
   "source": [
    "## Experimento 2: Stemming"
   ]
  },
  {
   "cell_type": "code",
   "execution_count": 63,
   "metadata": {},
   "outputs": [
    {
     "name": "stdout",
     "output_type": "stream",
     "text": [
      "['holaaa', 'com', 'estas', 'estaa', 'cre', 'en', 'mi', 'si', 'llov', 'mañan', 'tu', 'cre', 'en', 'mi', 'cart', 'aeiou']\n"
     ]
    }
   ],
   "source": [
    "#Prueba de los metodos anteriores\n",
    "print(tokenize_stems(\n",
    "    \"holaaaa como estas estaaaas creerías en mi si lloviera mañana, tu crees en mi cartas ¡¡ ¿¿. a e i o u aeiou\"))"
   ]
  },
  {
   "cell_type": "code",
   "execution_count": 64,
   "metadata": {},
   "outputs": [],
   "source": [
    "binary_vect_stemming = CountVectorizer(\n",
    "                analyzer = 'word',\n",
    "                tokenizer = tokenize_stems,\n",
    "                lowercase = True,\n",
    "                binary=True)"
   ]
  },
  {
   "cell_type": "code",
   "execution_count": 65,
   "metadata": {},
   "outputs": [
    {
     "name": "stdout",
     "output_type": "stream",
     "text": [
      "Numero de caracteristicas:  (26653, 32850)\n",
      "\n",
      "train time: 322.075s\n",
      "Mejor resultado y parametro encontrados:\n",
      "Mejor resultado (accuracy cv):  0.9075901399467227\n",
      "C: 100\n",
      "gamma: 0.001\n",
      "kernel: 'rbf'\n",
      "\n",
      "Exactitud: 0.9036239495798319\n",
      "F1_score: 0.9006609064402906\n",
      "Precision: 0.9016397554173794\n",
      "Recall: 0.899766465362869\n",
      "\n",
      "             precision    recall  f1-score   support\n",
      "\n",
      "   negative     0.8906    0.8765    0.8835      4763\n",
      "   positive     0.9127    0.9230    0.9178      6661\n",
      "\n",
      "avg / total     0.9035    0.9036    0.9035     11424\n",
      "\n",
      "[[4175  588]\n",
      " [ 513 6148]]\n",
      "\n",
      "Confusion matrix, without normalization\n",
      "[[4175  588]\n",
      " [ 513 6148]]\n",
      "CPU times: user 2min 57s, sys: 2.52 s, total: 3min\n",
      "Wall time: 6min 11s\n"
     ]
    },
    {
     "data": {
      "image/png": "[encoded data removed]",
      "text/plain": [
       "<Figure size 432x288 with 2 Axes>"
      ]
     },
     "metadata": {},
     "output_type": "display_data"
    }
   ],
   "source": [
    "%%time\n",
    "optimal_parameters = {'kernel': ['rbf'], 'gamma': [0.001], 'C': [100]}\n",
    "clf_binary_vect_stemming = run_one_experiment(total_data_content, total_data_target, binary_vect_stemming, optimal_parameters, SVC(), 30)\n",
    "all_experiments_results.append(clf_binary_vect_stemming)"
   ]
  },
  {
   "cell_type": "markdown",
   "metadata": {},
   "source": [
    "## Experimento 3: Lematizacion"
   ]
  },
  {
   "cell_type": "code",
   "execution_count": 66,
   "metadata": {},
   "outputs": [
    {
     "name": "stdout",
     "output_type": "stream",
     "text": [
      "['holaaaa', 'comer', 'este', 'estaaaas', 'creer', 'en', 'mi', 'si', 'llover', 'mañana', 'tu', 'creer', 'en', 'mi', 'carta', 'aeiou']\n"
     ]
    }
   ],
   "source": [
    "# Prueba del tokenizer\n",
    "print(tokenize_lemmas(\n",
    "    \"holaaaa como estas estaaaas creerías en mi si lloviera mañana, tu crees en mi cartas ¡¡ ¿¿. a e i o u aeiou\"))"
   ]
  },
  {
   "cell_type": "code",
   "execution_count": 67,
   "metadata": {},
   "outputs": [],
   "source": [
    "binary_vect_lemmatize = CountVectorizer(\n",
    "                analyzer = 'word',\n",
    "                tokenizer = tokenize_lemmas,\n",
    "                lowercase = True,\n",
    "                binary=True)"
   ]
  },
  {
   "cell_type": "code",
   "execution_count": 68,
   "metadata": {},
   "outputs": [
    {
     "name": "stdout",
     "output_type": "stream",
     "text": [
      "Numero de caracteristicas:  (26653, 36771)\n",
      "\n",
      "train time: 341.429s\n",
      "Mejor resultado y parametro encontrados:\n",
      "Mejor resultado (accuracy cv):  0.90789029377556\n",
      "C: 100\n",
      "gamma: 0.001\n",
      "kernel: 'rbf'\n",
      "\n",
      "Exactitud: 0.9059873949579832\n",
      "F1_score: 0.9032193942863505\n",
      "Precision: 0.9036459289929409\n",
      "Recall: 0.9028101978220433\n",
      "\n",
      "             precision    recall  f1-score   support\n",
      "\n",
      "   negative     0.8900    0.8837    0.8869      4763\n",
      "   positive     0.9173    0.9219    0.9196      6661\n",
      "\n",
      "avg / total     0.9059    0.9060    0.9059     11424\n",
      "\n",
      "[[4209  554]\n",
      " [ 520 6141]]\n",
      "\n",
      "Confusion matrix, without normalization\n",
      "[[4209  554]\n",
      " [ 520 6141]]\n",
      "CPU times: user 2min 51s, sys: 2.52 s, total: 2min 53s\n",
      "Wall time: 6min 15s\n"
     ]
    },
    {
     "data": {
      "image/png": "[encoded data removed]",
      "text/plain": [
       "<Figure size 432x288 with 2 Axes>"
      ]
     },
     "metadata": {},
     "output_type": "display_data"
    }
   ],
   "source": [
    "%%time\n",
    "optimal_parameters = {'kernel': ['rbf'], 'gamma': [0.001], 'C': [100]}\n",
    "clf_binary_vect_lemmatize = run_one_experiment(total_data_content, total_data_target, binary_vect_lemmatize, optimal_parameters, SVC(), 30)\n",
    "all_experiments_results.append(clf_binary_vect_lemmatize)"
   ]
  },
  {
   "cell_type": "markdown",
   "metadata": {},
   "source": [
    "## Experimento 4: Remocion de URLs"
   ]
  },
  {
   "cell_type": "code",
   "execution_count": 69,
   "metadata": {},
   "outputs": [
    {
     "name": "stdout",
     "output_type": "stream",
     "text": [
      "['holaaaa', 'cómo', 'creerías', 'mi', 'si', 'lloviera', 'mañana', 'tu', 'crees', 'en', 'mi', 'cartas', 'aeiou']\n"
     ]
    }
   ],
   "source": [
    "# Prueba de la tokenizacion sin urls\n",
    "print(tokenize_no_urls(\n",
    "    \"holaaaa cómo http://estas creerías https://stackoverflow.com/questions/11331982/how-to-remove-any-url-within-a-string-in-python mi si lloviera \\t  mañana, tu crees en mi cartas ¡¡ ¿¿. aeiou\"))"
   ]
  },
  {
   "cell_type": "code",
   "execution_count": 70,
   "metadata": {},
   "outputs": [],
   "source": [
    "binary_vect_no_urls = CountVectorizer(\n",
    "                analyzer = 'word',\n",
    "                tokenizer = tokenize_no_urls,\n",
    "                lowercase = True,\n",
    "                binary=True)"
   ]
  },
  {
   "cell_type": "code",
   "execution_count": 71,
   "metadata": {},
   "outputs": [
    {
     "name": "stdout",
     "output_type": "stream",
     "text": [
      "Numero de caracteristicas:  (26653, 40441)\n",
      "\n",
      "train time: 458.306s\n",
      "Mejor resultado y parametro encontrados:\n",
      "Mejor resultado (accuracy cv):  0.9048137170299778\n",
      "C: 100\n",
      "gamma: 0.001\n",
      "kernel: 'rbf'\n",
      "\n",
      "Exactitud: 0.8999474789915967\n",
      "F1_score: 0.8967872200038297\n",
      "Precision: 0.8981303841552288\n",
      "Recall: 0.8955967758401906\n",
      "\n",
      "             precision    recall  f1-score   support\n",
      "\n",
      "   negative     0.8882    0.8694    0.8787      4763\n",
      "   positive     0.9080    0.9218    0.9148      6661\n",
      "\n",
      "avg / total     0.8998    0.8999    0.8998     11424\n",
      "\n",
      "[[4141  622]\n",
      " [ 521 6140]]\n",
      "\n",
      "Confusion matrix, without normalization\n",
      "[[4141  622]\n",
      " [ 521 6140]]\n",
      "CPU times: user 4min 2s, sys: 3.61 s, total: 4min 6s\n",
      "Wall time: 8min 15s\n"
     ]
    },
    {
     "data": {
      "image/png": "[encoded data removed]",
      "text/plain": [
       "<Figure size 432x288 with 2 Axes>"
      ]
     },
     "metadata": {},
     "output_type": "display_data"
    }
   ],
   "source": [
    "%%time\n",
    "optimal_parameters = {'kernel': ['rbf'], 'gamma': [0.001], 'C': [100]}\n",
    "clf_binary_vect_no_urls = run_one_experiment(total_data_content, total_data_target, binary_vect_no_urls, optimal_parameters, SVC(), 30)\n",
    "all_experiments_results.append(clf_binary_vect_no_urls)"
   ]
  },
  {
   "cell_type": "markdown",
   "metadata": {},
   "source": [
    "## Experimento 5: Remocion de letras repetidas"
   ]
  },
  {
   "cell_type": "code",
   "execution_count": 72,
   "metadata": {},
   "outputs": [
    {
     "name": "stdout",
     "output_type": "stream",
     "text": [
      "['hola', 'cómo', 'htp', 'estas', 'estas', 'creerías', 'mi', 'si', 'lloviera', 'mañana', 'tu', 'crees', 'en', 'mi', 'cartas', 'aeiou']\n"
     ]
    }
   ],
   "source": [
    "print(tokenize_norm_letters(\n",
    "    \"holaaaa cómo http://estas estaaaas creerías mi si lloviera mañana, tu crees en mi cartas ¡¡ ¿¿. a e i o u aeiou\"))"
   ]
  },
  {
   "cell_type": "code",
   "execution_count": 73,
   "metadata": {},
   "outputs": [],
   "source": [
    "binary_vect_norm_letters = CountVectorizer(\n",
    "                analyzer = 'word',\n",
    "                tokenizer = tokenize_norm_letters,\n",
    "                lowercase = True,\n",
    "                binary=True)"
   ]
  },
  {
   "cell_type": "code",
   "execution_count": 74,
   "metadata": {},
   "outputs": [
    {
     "name": "stdout",
     "output_type": "stream",
     "text": [
      "Numero de caracteristicas:  (26653, 47582)\n",
      "\n",
      "train time: 454.784s\n",
      "Mejor resultado y parametro encontrados:\n",
      "Mejor resultado (accuracy cv):  0.9050763516302105\n",
      "C: 100\n",
      "gamma: 0.001\n",
      "kernel: 'rbf'\n",
      "\n",
      "Exactitud: 0.9000350140056023\n",
      "F1_score: 0.8968677350659573\n",
      "Precision: 0.8982555281269022\n",
      "Recall: 0.8956419275931046\n",
      "\n",
      "             precision    recall  f1-score   support\n",
      "\n",
      "   negative     0.8886    0.8692    0.8788      4763\n",
      "   positive     0.9079    0.9221    0.9149      6661\n",
      "\n",
      "avg / total     0.8999    0.9000    0.8999     11424\n",
      "\n",
      "[[4140  623]\n",
      " [ 519 6142]]\n",
      "\n",
      "Confusion matrix, without normalization\n",
      "[[4140  623]\n",
      " [ 519 6142]]\n",
      "CPU times: user 3min 50s, sys: 2.82 s, total: 3min 53s\n",
      "Wall time: 8min 17s\n"
     ]
    },
    {
     "data": {
      "image/png": "[encoded data removed]",
      "text/plain": [
       "<Figure size 432x288 with 2 Axes>"
      ]
     },
     "metadata": {},
     "output_type": "display_data"
    }
   ],
   "source": [
    "%%time\n",
    "optimal_parameters = {'kernel': ['rbf'], 'gamma': [0.001], 'C': [100]}\n",
    "clf_binary_vect_norm_letters = run_one_experiment(total_data_content, total_data_target, binary_vect_norm_letters, optimal_parameters, SVC(), 30)\n",
    "all_experiments_results.append(clf_binary_vect_norm_letters)"
   ]
  },
  {
   "cell_type": "markdown",
   "metadata": {},
   "source": [
    "## Experimento 6: Remocion de terminos poco comunes (pruning < 10)"
   ]
  },
  {
   "cell_type": "code",
   "execution_count": 75,
   "metadata": {},
   "outputs": [],
   "source": [
    "binary_vect_pruning10 = CountVectorizer(\n",
    "                analyzer = 'word',\n",
    "                tokenizer = default_tokenize,\n",
    "                lowercase = True,\n",
    "                binary=True,\n",
    "                min_df=10)"
   ]
  },
  {
   "cell_type": "code",
   "execution_count": 76,
   "metadata": {},
   "outputs": [
    {
     "name": "stdout",
     "output_type": "stream",
     "text": [
      "Numero de caracteristicas:  (26653, 4348)\n",
      "\n",
      "train time: 216.408s\n",
      "Mejor resultado y parametro encontrados:\n",
      "Mejor resultado (accuracy cv):  0.8978726597381158\n",
      "C: 100\n",
      "gamma: 0.001\n",
      "kernel: 'rbf'\n",
      "\n",
      "Exactitud: 0.8927696078431373\n",
      "F1_score: 0.889554959220593\n",
      "Precision: 0.890185406468611\n",
      "Recall: 0.8889629510719215\n",
      "\n",
      "             precision    recall  f1-score   support\n",
      "\n",
      "   negative     0.8754    0.8661    0.8707      4763\n",
      "   positive     0.9049    0.9119    0.9084      6661\n",
      "\n",
      "avg / total     0.8926    0.8928    0.8927     11424\n",
      "\n",
      "[[4125  638]\n",
      " [ 587 6074]]\n",
      "\n",
      "Confusion matrix, without normalization\n",
      "[[4125  638]\n",
      " [ 587 6074]]\n",
      "CPU times: user 1min 53s, sys: 2.29 s, total: 1min 55s\n",
      "Wall time: 4min 4s\n"
     ]
    },
    {
     "data": {
      "image/png": "[encoded data removed]",
      "text/plain": [
       "<Figure size 432x288 with 2 Axes>"
      ]
     },
     "metadata": {},
     "output_type": "display_data"
    }
   ],
   "source": [
    "%%time\n",
    "optimal_parameters = {'kernel': ['rbf'], 'gamma': [0.001], 'C': [100]}\n",
    "clf_binary_vect_pruning10 = run_one_experiment(total_data_content, total_data_target, binary_vect_pruning10, optimal_parameters, SVC(), 30)\n",
    "all_experiments_results.append(clf_binary_vect_pruning10)"
   ]
  },
  {
   "cell_type": "markdown",
   "metadata": {},
   "source": [
    "## Experimento 7: Remocion de terminos poco comunes (pruning < 5)"
   ]
  },
  {
   "cell_type": "code",
   "execution_count": 77,
   "metadata": {},
   "outputs": [],
   "source": [
    "binary_vect_pruning5 = CountVectorizer(\n",
    "                analyzer = 'word',\n",
    "                tokenizer = default_tokenize,\n",
    "                lowercase = True,\n",
    "                binary=True,\n",
    "                min_df=5)"
   ]
  },
  {
   "cell_type": "code",
   "execution_count": 78,
   "metadata": {},
   "outputs": [
    {
     "name": "stdout",
     "output_type": "stream",
     "text": [
      "Numero de caracteristicas:  (26653, 7854)\n",
      "\n",
      "train time: 272.658s\n",
      "Mejor resultado y parametro encontrados:\n",
      "Mejor resultado (accuracy cv):  0.9036131017146287\n",
      "C: 100\n",
      "gamma: 0.001\n",
      "kernel: 'rbf'\n",
      "\n",
      "Exactitud: 0.8953081232492998\n",
      "F1_score: 0.8921129079610008\n",
      "Precision: 0.8929751867957916\n",
      "Recall: 0.8913192737026137\n",
      "\n",
      "             precision    recall  f1-score   support\n",
      "\n",
      "   negative     0.8799    0.8673    0.8735      4763\n",
      "   positive     0.9061    0.9153    0.9107      6661\n",
      "\n",
      "avg / total     0.8952    0.8953    0.8952     11424\n",
      "\n",
      "[[4131  632]\n",
      " [ 564 6097]]\n",
      "\n",
      "Confusion matrix, without normalization\n",
      "[[4131  632]\n",
      " [ 564 6097]]\n",
      "CPU times: user 2min 8s, sys: 2.38 s, total: 2min 11s\n",
      "Wall time: 5min 2s\n"
     ]
    },
    {
     "data": {
      "image/png": "[encoded data removed]",
      "text/plain": [
       "<Figure size 432x288 with 2 Axes>"
      ]
     },
     "metadata": {},
     "output_type": "display_data"
    }
   ],
   "source": [
    "%%time\n",
    "optimal_parameters = {'kernel': ['rbf'], 'gamma': [0.001], 'C': [100]}\n",
    "clf_binary_vect_pruning5 = run_one_experiment(total_data_content, total_data_target, binary_vect_pruning5, optimal_parameters, SVC(), 30)\n",
    "all_experiments_results.append(clf_binary_vect_pruning5)"
   ]
  },
  {
   "cell_type": "code",
   "execution_count": 82,
   "metadata": {},
   "outputs": [
    {
     "data": {
      "text/plain": [
       "8"
      ]
     },
     "execution_count": 82,
     "metadata": {},
     "output_type": "execute_result"
    }
   ],
   "source": [
    "len(all_experiments_results)"
   ]
  },
  {
   "cell_type": "code",
   "execution_count": 80,
   "metadata": {},
   "outputs": [],
   "source": [
    "import xlsxwriter"
   ]
  },
  {
   "cell_type": "code",
   "execution_count": 81,
   "metadata": {},
   "outputs": [],
   "source": [
    "# Create a workbook and add a worksheet.\n",
    "# workbook = xlsxwriter.Workbook('result_es_twitter_sa_svm_rbf_binary.xlsx')\n",
    "# worksheet = workbook.add_worksheet()\n",
    "# row = 0\n",
    "# col = 0\n",
    "# for exp in all_experiments_results:\n",
    "#     worksheet.write(row, col, exp[0])\n",
    "#     row += 1\n",
    "#     worksheet.write(row, col, exp[1])\n",
    "#     row += 1\n",
    "#     worksheet.write(row, col, exp[2])\n",
    "#     row += 1\n",
    "#     worksheet.write(row, col, exp[3])\n",
    "#     row += 1\n",
    "#     worksheet.write(row, col, exp[4])\n",
    "#     row += 1\n",
    "#     worksheet.write(row, col, exp[5])\n",
    "#     row += 1\n",
    "#     worksheet.write(row, col, exp[6])\n",
    "#     row += 1\n",
    "#     worksheet.write(row, col, exp[7])\n",
    "#     row += 1\n",
    "#     worksheet.write(row, col, exp[8])\n",
    "#     row += 1\n",
    "#     row = 0\n",
    "#     col += 1\n",
    "# workbook.close()"
   ]
  }
 ],
 "metadata": {
  "kernelspec": {
   "display_name": "python_tg",
   "language": "python",
   "name": "python_tg"
  },
  "language_info": {
   "codemirror_mode": {
    "name": "ipython",
    "version": 3
   },
   "file_extension": ".py",
   "mimetype": "text/x-python",
   "name": "python",
   "nbconvert_exporter": "python",
   "pygments_lexer": "ipython3",
   "version": "3.6.2"
  }
 },
 "nbformat": 4,
 "nbformat_minor": 2
}
