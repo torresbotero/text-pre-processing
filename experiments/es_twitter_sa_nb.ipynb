{
 "cells": [
  {
   "cell_type": "code",
   "execution_count": 2,
   "metadata": {},
   "outputs": [],
   "source": [
    "import pandas as pd\n",
    "import numpy as np\n",
    "import itertools\n",
    "\n",
    "from sklearn.model_selection import train_test_split\n",
    "from sklearn.feature_extraction.text import CountVectorizer\n",
    "from sklearn.feature_extraction.text import TfidfVectorizer\n",
    "from sklearn.naive_bayes import MultinomialNB\n",
    "from sklearn.svm import SVC\n",
    "from sklearn import metrics\n",
    "from sklearn.model_selection import GridSearchCV\n",
    "\n",
    "import nltk\n",
    "from nltk.corpus import stopwords\n",
    "from nltk.tokenize import RegexpTokenizer\n",
    "from nltk.stem import SnowballStemmer\n",
    "from nltk.corpus import wordnet as wn\n",
    "\n",
    "import re\n",
    "\n",
    "from time import time\n",
    "\n",
    "import matplotlib.pyplot as plt\n",
    "%matplotlib inline"
   ]
  },
  {
   "cell_type": "code",
   "execution_count": 3,
   "metadata": {},
   "outputs": [
    {
     "name": "stdout",
     "output_type": "stream",
     "text": [
      "                      tweetid          user               content  \\\n",
      "count                   60798         60798                 60798   \n",
      "unique                  60798           158                 60405   \n",
      "top      165728612941692928,0  mariviromero  Buenos días a todos!   \n",
      "freq                        1          7138                   111   \n",
      "\n",
      "                       date   lang polarity  topic  \n",
      "count                 60798  60798    60798  60798  \n",
      "unique                60510      1        6     10  \n",
      "top     2011-12-11T12:56:51     es     NONE  otros  \n",
      "freq                      4  60798    21416  28189  \n",
      "                 tweetid            user  \\\n",
      "0   142378325086715904,0     jesusmarana   \n",
      "1   142379080808013824,0       EvaORegan   \n",
      "2   142379173120442368,0  LosadaPescador   \n",
      "3   142379815708803072,0    mgilguerrero   \n",
      "4   142381190123499520,0  pedroj_ramirez   \n",
      "\n",
      "                                             content                 date  \\\n",
      "0  Portada 'Público', viernes. Fabra al banquillo...  2011-12-02T00:03:32   \n",
      "1  Grande! RT @veronicacalderon \"El periodista es...  2011-12-02T00:06:32   \n",
      "2  Gonzalo Altozano tras la presentación de su li...  2011-12-02T00:06:55   \n",
      "3  Mañana en Gaceta: TVE, la que pagamos tú y yo,...  2011-12-02T00:09:28   \n",
      "4  Qué envidia “@mfcastineiras: Pedro mañana x la...  2011-12-02T00:14:55   \n",
      "\n",
      "  lang polarity            topic  \n",
      "0   es        N         política  \n",
      "1   es     NONE         política  \n",
      "2   es       P+            otros  \n",
      "3   es        N  entretenimiento  \n",
      "4   es     NONE            otros  \n"
     ]
    }
   ],
   "source": [
    "file_path = 'data/TweetsPolaridadSEPLN.csv'\n",
    "original_tweets_df = pd.read_csv(file_path, index_col=None, header=0, sep='\\t')\n",
    "print(original_tweets_df.describe())\n",
    "print(original_tweets_df.head())"
   ]
  },
  {
   "cell_type": "code",
   "execution_count": 4,
   "metadata": {},
   "outputs": [
    {
     "name": "stdout",
     "output_type": "stream",
     "text": [
      "                                                  content  polarity\n",
      "count                                               38077     38077\n",
      "unique                                              37926         2\n",
      "top     ¡Noticias descombacantes! está disponible! htt...  positive\n",
      "freq                                                   63     22233\n",
      "                                             content  polarity\n",
      "0  Dado q la deuda privada es superior a la publi...  negative\n",
      "1  TEPCO inyecta nitrógeno en los reactores de Fu...  negative\n",
      "2  “@Declaracion: «Cualquier injusticia contra un...  negative\n",
      "3  ¡Qué estrés!, la presidenta de la diputación d...  negative\n",
      "4  Hoy entrego mi credencial en el Congreso. Una ...  negative\n"
     ]
    }
   ],
   "source": [
    "strong_negative_tweets = original_tweets_df[original_tweets_df.polarity == 'N+'][['content','polarity']]\n",
    "standar_negative_tweets = original_tweets_df[original_tweets_df.polarity == 'N'][['content','polarity']]\n",
    "\n",
    "strong_positive_tweets = original_tweets_df[original_tweets_df.polarity == 'P+'][['content','polarity']]\n",
    "standar_positive_tweets = original_tweets_df[original_tweets_df.polarity == 'P'][['content','polarity']]\n",
    "\n",
    "negative_tweets = pd.concat([strong_negative_tweets,standar_negative_tweets], ignore_index=True)\n",
    "positive_tweets = pd.concat([strong_positive_tweets,standar_positive_tweets], ignore_index=True)\n",
    "\n",
    "negative_tweets.polarity = \"negative\"\n",
    "positive_tweets.polarity = \"positive\"\n",
    "\n",
    "total_tweets = pd.concat([negative_tweets,positive_tweets], ignore_index=True)\n",
    "print(total_tweets.describe())\n",
    "print(total_tweets.head())"
   ]
  },
  {
   "cell_type": "code",
   "execution_count": 5,
   "metadata": {},
   "outputs": [],
   "source": [
    "total_data_content = total_tweets.content\n",
    "total_data_target = total_tweets.polarity"
   ]
  },
  {
   "cell_type": "code",
   "execution_count": 6,
   "metadata": {},
   "outputs": [],
   "source": [
    "X_train, X_test, y_train, y_test = train_test_split(total_data_content, \n",
    "                                                    total_data_target, \n",
    "                                                    test_size=0.3, \n",
    "                                                    random_state=40)"
   ]
  },
  {
   "cell_type": "code",
   "execution_count": 7,
   "metadata": {},
   "outputs": [
    {
     "name": "stdout",
     "output_type": "stream",
     "text": [
      "Positivos entrenamiento: 15547\n",
      "Negativos entrenamiento: 11106\n",
      "Positivos pruebas: 6686\n",
      "Negativos pruebas: 4738\n"
     ]
    }
   ],
   "source": [
    "print(\"Positivos entrenamiento:\", len(y_train[y_train == 'positive']))\n",
    "print(\"Negativos entrenamiento:\", len(y_train[y_train == 'negative']))\n",
    "print(\"Positivos pruebas:\", len(y_test[y_test == 'positive']))\n",
    "print(\"Negativos pruebas:\", len(y_test[y_test == 'negative']))"
   ]
  },
  {
   "cell_type": "markdown",
   "metadata": {},
   "source": [
    "# Metodos para correr los respectivos experimentos"
   ]
  },
  {
   "cell_type": "markdown",
   "metadata": {},
   "source": [
    "## Metodo usado para probar y evaluar un clasificador\n",
    "El siguiente metodo sirve para evaluar un clasificador enviado como parametro, junto con los datos con que debe ser probado. Las metricas usadas para medir la efectividad del clasificador son la exactitud (accuracy), la precision, la exhaustividad (recall) y el valor-f1 (f1-score). El metodo retorna la matriz de confunsion de los resultados obtenidos."
   ]
  },
  {
   "cell_type": "code",
   "execution_count": 7,
   "metadata": {},
   "outputs": [],
   "source": [
    "def test_predictions_and_return_cm(clf, test_data, true_data):\n",
    "    predicted = clf.predict(test_data)\n",
    "    \n",
    "    accuracy = metrics.accuracy_score(true_data, predicted)\n",
    "    precision, recall, f1_score, support = metrics.precision_recall_fscore_support(true_data, predicted, \n",
    "                                                                                   average=\"macro\")\n",
    "    print(\"Exactitud:\", accuracy)\n",
    "    print(\"F1_score:\", f1_score)\n",
    "    print(\"Precision:\", precision)\n",
    "    print(\"Recall:\", recall)\n",
    "    print()\n",
    "    print(metrics.classification_report(true_data, predicted, digits=4))\n",
    "    cm = metrics.confusion_matrix(true_data, predicted)\n",
    "    print(cm)\n",
    "    print()\n",
    "    return cm"
   ]
  },
  {
   "cell_type": "markdown",
   "metadata": {},
   "source": [
    "## Metodo para imprimir la matriz de confusion\n",
    "El siguiente metodo imprime la matriz de confusion y fue tomado de la documentacion scikit learn. En esta URL se puede encontrar la explicacion y codigo fuente\n",
    "http://scikit-learn.org/stable/auto_examples/model_selection/plot_confusion_matrix.html\n",
    "El siguiente metodo \"test_nl_classifier\" corre el metodo que evalúa el clasificador e imprime la matriz de confusion, es decir, corre los metodos usados para evaluar el clasificador y visualizar los resultados."
   ]
  },
  {
   "cell_type": "code",
   "execution_count": 131,
   "metadata": {},
   "outputs": [],
   "source": [
    "def plot_confusion_matrix(cm, classes,\n",
    "                          normalize=False,\n",
    "                          title='Matriz de confusión',\n",
    "                          cmap=plt.cm.Blues):\n",
    "    \"\"\"\n",
    "    This function prints and plots the confusion matrix.\n",
    "    Normalization can be applied by setting `normalize=True`.\n",
    "    \"\"\"\n",
    "    if normalize:\n",
    "        cm = cm.astype('float') / cm.sum(axis=1)[:, np.newaxis]\n",
    "        print(\"Normalized confusion matrix\")\n",
    "    else:\n",
    "        print('Confusion matrix, without normalization')\n",
    "\n",
    "    print(cm)\n",
    "\n",
    "    plt.imshow(cm, interpolation='nearest', cmap=cmap)\n",
    "    plt.title(title)\n",
    "    plt.colorbar()\n",
    "    tick_marks = np.arange(len(classes))\n",
    "    plt.xticks(tick_marks, classes, rotation=45)\n",
    "    plt.yticks(tick_marks, classes)\n",
    "\n",
    "    fmt = '.2f' if normalize else 'd'\n",
    "    thresh = cm.max() / 2.\n",
    "    for i, j in itertools.product(range(cm.shape[0]), range(cm.shape[1])):\n",
    "        plt.text(j, i, format(cm[i, j], fmt),\n",
    "                 horizontalalignment=\"center\",\n",
    "                 color=\"white\" if cm[i, j] > thresh else \"black\")\n",
    "\n",
    "    plt.tight_layout()\n",
    "    plt.ylabel('Clase verdadera')\n",
    "    plt.xlabel('Clase predicha')"
   ]
  },
  {
   "cell_type": "code",
   "execution_count": 132,
   "metadata": {},
   "outputs": [],
   "source": [
    "def test_nl_classifier(clf, X_t, y_t):\n",
    "    cm = test_predictions_and_return_cm(clf, X_t, y_t)\n",
    "    plot_confusion_matrix(cm, classes=['negativos', 'positivos'])"
   ]
  },
  {
   "cell_type": "markdown",
   "metadata": {},
   "source": [
    "## Metodo para entrenar un clasificador con GridSearchCV\n",
    "Este metodo sirve para entrenar un clasificador buscando la mejor combinacion de parametros según el tipo de clasificador. Estos parametros se envían como un objeto diccionario en los argumentos del metodo y se nombran según sea el tipo de clasificador que también se envía en los argumentos del metodo. El metodo siguiente \"print_clf_best_params\" se usa para mostrar los mejores valores de los parametros obtenidos."
   ]
  },
  {
   "cell_type": "code",
   "execution_count": 10,
   "metadata": {},
   "outputs": [],
   "source": [
    "def train_nl_classifier(grid_parameters, clf_type, X, y):\n",
    "    clf = GridSearchCV(clf_type, grid_parameters, n_jobs=-1, cv=10)\n",
    "    t0 = time()\n",
    "    clf.fit(X, y)\n",
    "    train_time = time() - t0\n",
    "    print(\"train time: %0.3fs\" % train_time)\n",
    "    print()\n",
    "    return clf"
   ]
  },
  {
   "cell_type": "code",
   "execution_count": 11,
   "metadata": {},
   "outputs": [],
   "source": [
    "def print_clf_best_params(grid_parameters, clf):\n",
    "    print(\"Mejor resultado y parametro encontrados:\")\n",
    "    print(\"Mejor resultado (accuracy cv): \", clf.best_score_)\n",
    "    for param_name in sorted(grid_parameters.keys()):\n",
    "        print(\"%s: %r\" % (param_name, clf.best_params_[param_name]))\n",
    "    print()"
   ]
  },
  {
   "cell_type": "markdown",
   "metadata": {},
   "source": [
    "## Metodos para vectorizar los textos de entranamiento y prueba\n",
    "El metodo fit_train_test_vectors vectoriza los textos de entrenamiento y pruebas y los retorna como vectores de acuerdo al parametro vectorizer. Este metodo es muy importante porque según el parametro vectorizer se representan los textos con algun metodo de ponderacion (tf-idf, tf y binario) y se realizan los procesos de limpiezas indicados al crear el objeto vectorizador. El siguiente metodo es opcional llamarlo y sirve para imprimir las longitudes y formas de los conjuntos resultantes."
   ]
  },
  {
   "cell_type": "code",
   "execution_count": 12,
   "metadata": {},
   "outputs": [],
   "source": [
    "def fit_train_test_vectors(vectorizer, X_train, X_test):\n",
    "    X_train_vector = vectorizer.fit_transform(X_train)\n",
    "    X_test_vector = vectorizer.transform(X_test)\n",
    "    return X_train_vector, X_test_vector"
   ]
  },
  {
   "cell_type": "code",
   "execution_count": 13,
   "metadata": {},
   "outputs": [],
   "source": [
    "def print_train_test_shapes(vectorizer, X_train_vector, X_test_vector):\n",
    "    print(X_train_vector.shape)\n",
    "    print()\n",
    "    \n",
    "    print(X_test_vector.shape)\n",
    "    print(vectorizer.get_feature_names()[-150:-100])"
   ]
  },
  {
   "cell_type": "markdown",
   "metadata": {},
   "source": [
    "## Metodos usados para correr las pruebas de linea base y de cada etapa\n",
    "Estos son los metodos mas importantes ya que usan todos los metodos explicados anteriormente y sirven para correr los experimentos de forma más rapida y replicable. El primer metodo se debe usar para crear la linea base, es decir, para encontrar los parametros ideales de los clasificadores usados con la linea base (sin ningun proceso de limpieza). El clasificador con mejor resultados puede ser recuperado de la lista de resultados que genera. Al tener el clasificador optimo para la linea base, se procedera a usar los parametros encontrados para hacer los experimentos con cada proceso de limpieza y evaluar que tanto afecta cada proceso por separado. Recibe los parametros vectorizer, grid_parameters y clf_type para ser usados en los metodos \"train_nl_classifier\" y \"fit_train_test_vectors\" explicados anteriormente (ver explicacion para entender que son los parametros)."
   ]
  },
  {
   "cell_type": "code",
   "execution_count": 14,
   "metadata": {},
   "outputs": [],
   "source": [
    "def run_tests_splits(vectorizer, grid_parameters, clf_type):\n",
    "    results = []\n",
    "    random_states = [10, 20, 30, 40, 50, 60, 70, 80, 90, 100]\n",
    "    for state in random_states:\n",
    "        print(\"random state: \", state)\n",
    "        X_train, X_test, y_train, y_test = train_test_split(total_data_content, \n",
    "                                                            total_data_target, \n",
    "                                                            test_size=0.3, \n",
    "                                                            random_state=state)\n",
    "        X_train_vector, X_test_vector = fit_train_test_vectors(vectorizer, X_train, X_test)\n",
    "        clf = train_nl_classifier(grid_parameters, clf_type, X_train_vector, y_train)\n",
    "        y_pred = clf.predict(X_test_vector)\n",
    "        accuracy = metrics.accuracy_score(y_test, y_pred)\n",
    "        f1_score = metrics.f1_score(y_test, y_pred, average=\"macro\")\n",
    "        results.append((clf.best_score_, accuracy, f1_score, X_test_vector, y_test, clf, state, X_train_vector))\n",
    "    return results"
   ]
  },
  {
   "cell_type": "markdown",
   "metadata": {},
   "source": [
    "### Metodo para correr un experimento\n",
    "De acuerdo a los resultados obtenidos por el metodo anterior, con este metodo se deben correr los experimentos respectivos a cada proceso de limpieza y con los parametros optimos encontrados en la linea base. Esto permite que los resultado obtenidos den una idea de que tanto afecto el proceso de limpieza sin que los parametros del clasificador sean una razon de sesgo o que le quiten validez a los resultados. Recibe los parametros vectorizer, grid_parameters y clf_type para ser usados en los metodos \"train_nl_classifier\" y \"fit_train_test_vectors\" explicados anteriormente (ver explicacion para entender que son los parametros)."
   ]
  },
  {
   "cell_type": "code",
   "execution_count": 71,
   "metadata": {},
   "outputs": [],
   "source": [
    "def run_one_experiment(vectorizer, grid_parameters, clf_type, state):\n",
    "    X_train, X_test, y_train, y_test = train_test_split(total_data_content, \n",
    "                                                        total_data_target, \n",
    "                                                        test_size=0.3, \n",
    "                                                        random_state=state)\n",
    "    X_train_vector, X_test_vector = fit_train_test_vectors(vectorizer, X_train, X_test)\n",
    "    print(\"Numero de caracteristicas: \", X_train_vector.shape)\n",
    "    print()\n",
    "    clf = train_nl_classifier(grid_parameters, clf_type, X_train_vector, y_train)\n",
    "    y_pred = clf.predict(X_test_vector)\n",
    "    accuracy = metrics.accuracy_score(y_test, y_pred)\n",
    "    precision, recall, f1_score, support = metrics.precision_recall_fscore_support(y_test, y_pred, \n",
    "                                                                                   average=\"macro\")\n",
    "    cm = metrics.confusion_matrix(y_test, y_pred)\n",
    "    true_negatives = cm[0][0]\n",
    "    true_positives = cm[1][1]\n",
    "    false_positives = cm[0][1]\n",
    "    false_negatives = cm[1][0]\n",
    "    \n",
    "    features_number = (X_train_vector.shape)[1]\n",
    "    \n",
    "    print_clf_best_params(grid_parameters, clf)\n",
    "    test_nl_classifier(clf, X_test_vector, y_test)\n",
    "    return (features_number, accuracy,f1_score,precision,recall,true_positives,true_negatives,false_positives,false_negatives)"
   ]
  },
  {
   "cell_type": "code",
   "execution_count": 16,
   "metadata": {},
   "outputs": [],
   "source": [
    "def print_baseline_results(baseline_results, grid_parameters):\n",
    "    selected_clf_info = max(baseline_results)\n",
    "    print(\"Numero de caracteristicas: \", selected_clf_info[7].shape)\n",
    "    print()\n",
    "    print(\"Best score selected: \", selected_clf_info[0])\n",
    "    print(\"Best Accuracy: \", selected_clf_info[1])\n",
    "    print(\"Best F1-score: \", selected_clf_info[2])\n",
    "    print(\"Best random state: \", selected_clf_info[6])\n",
    "    selected_clf = selected_clf_info[5]\n",
    "    print_clf_best_params(grid_parameters, selected_clf)\n",
    "    print()\n",
    "    X_t = selected_clf_info[3]\n",
    "    y_t = selected_clf_info[4]\n",
    "    test_nl_classifier(selected_clf, X_t, y_t)\n",
    "    # for result in tf_baseline_results:\n",
    "    #     print(\"Random State: \", result[6])\n",
    "    #     print(\"Accuracy: \", result[0])\n",
    "    #     print(\"F1-score: \", result[1])\n",
    "    #     print(\"Best score: \", result[2])\n",
    "    #     result_clf = result[5]\n",
    "    #     print_clf_best_params(parameters_count, result_clf)\n",
    "    #     print()"
   ]
  },
  {
   "cell_type": "markdown",
   "metadata": {},
   "source": [
    "# Lineas base para cada representacion (tf-idf, tf, binaria)"
   ]
  },
  {
   "cell_type": "code",
   "execution_count": 17,
   "metadata": {},
   "outputs": [],
   "source": [
    "def default_tokenize(text):\n",
    "    regexp_tokenizer = RegexpTokenizer(u'(?u)\\\\b\\\\w\\\\w+\\\\b')\n",
    "    tokens =  regexp_tokenizer.tokenize(text)\n",
    "    return tokens"
   ]
  },
  {
   "cell_type": "code",
   "execution_count": 18,
   "metadata": {},
   "outputs": [],
   "source": [
    "tf_vect_baseline = CountVectorizer(\n",
    "                analyzer = 'word',\n",
    "                tokenizer = default_tokenize,\n",
    "                lowercase = True)\n",
    "\n",
    "tf_idf_vect_baseline = TfidfVectorizer(\n",
    "                analyzer = 'word',\n",
    "                tokenizer = default_tokenize,\n",
    "                lowercase = True)\n",
    "\n",
    "binary_vect_baseline = CountVectorizer(\n",
    "                analyzer = 'word',\n",
    "                tokenizer = default_tokenize,\n",
    "                lowercase = True,\n",
    "                binary=True)"
   ]
  },
  {
   "cell_type": "markdown",
   "metadata": {},
   "source": [
    "# Experimentos con el clasificador bayesiano\n",
    "Los siguientes son los experimentos realizados para el clasificador bayesiano"
   ]
  },
  {
   "cell_type": "code",
   "execution_count": 19,
   "metadata": {},
   "outputs": [],
   "source": [
    "parameters_nb = {'alpha': [4, 3, 2, 1, 0.1, 0.01, 0.001, 0.0001, 0.00001]}"
   ]
  },
  {
   "cell_type": "markdown",
   "metadata": {},
   "source": [
    "## Linea base y parametros optimos NB"
   ]
  },
  {
   "cell_type": "markdown",
   "metadata": {},
   "source": [
    "### TF BaseLine"
   ]
  },
  {
   "cell_type": "code",
   "execution_count": 20,
   "metadata": {},
   "outputs": [
    {
     "name": "stdout",
     "output_type": "stream",
     "text": [
      "random state:  10\n",
      "train time: 2.813s\n",
      "\n",
      "random state:  20\n",
      "train time: 2.521s\n",
      "\n",
      "random state:  30\n",
      "train time: 2.698s\n",
      "\n",
      "random state:  40\n",
      "train time: 2.361s\n",
      "\n",
      "random state:  50\n",
      "train time: 2.638s\n",
      "\n",
      "random state:  60\n",
      "train time: 2.442s\n",
      "\n",
      "random state:  70\n",
      "train time: 2.667s\n",
      "\n",
      "random state:  80\n",
      "train time: 2.615s\n",
      "\n",
      "random state:  90\n",
      "train time: 2.398s\n",
      "\n",
      "random state:  100\n",
      "train time: 2.448s\n",
      "\n",
      "CPU times: user 28.9 s, sys: 4.98 s, total: 33.9 s\n",
      "Wall time: 37.6 s\n"
     ]
    }
   ],
   "source": [
    "%%time\n",
    "tf_baseline_results = run_tests_splits(tf_vect_baseline, parameters_nb, MultinomialNB())"
   ]
  },
  {
   "cell_type": "code",
   "execution_count": 21,
   "metadata": {},
   "outputs": [
    {
     "name": "stdout",
     "output_type": "stream",
     "text": [
      "Numero de caracteristicas:  (26653, 48349)\n",
      "\n",
      "Best score selected:  0.8784001800922973\n",
      "Best Accuracy:  0.8734243697478992\n",
      "Best F1-score:  0.8701872862138964\n",
      "Best random state:  40\n",
      "Mejor resultado y parametro encontrados:\n",
      "Mejor resultado (accuracy cv):  0.8784001800922973\n",
      "alpha: 3\n",
      "\n",
      "\n",
      "Exactitud: 0.8734243697478992\n",
      "F1_score: 0.8701872862138964\n",
      "Precision: 0.8688230249792379\n",
      "Recall: 0.8718475391394505\n",
      "\n",
      "             precision    recall  f1-score   support\n",
      "\n",
      "   negative     0.8372    0.8626    0.8497      4738\n",
      "   positive     0.9005    0.8811    0.8907      6686\n",
      "\n",
      "avg / total     0.8742    0.8734    0.8737     11424\n",
      "\n",
      "[[4087  651]\n",
      " [ 795 5891]]\n",
      "\n",
      "Confusion matrix, without normalization\n",
      "[[4087  651]\n",
      " [ 795 5891]]\n"
     ]
    },
    {
     "data": {
      "image/png": "[encoded data removed]",
      "text/plain": [
       "<Figure size 432x288 with 2 Axes>"
      ]
     },
     "metadata": {},
     "output_type": "display_data"
    }
   ],
   "source": [
    "print_baseline_results(tf_baseline_results, parameters_nb)"
   ]
  },
  {
   "cell_type": "markdown",
   "metadata": {},
   "source": [
    "### TF-IDF BaseLine"
   ]
  },
  {
   "cell_type": "code",
   "execution_count": 22,
   "metadata": {},
   "outputs": [
    {
     "name": "stdout",
     "output_type": "stream",
     "text": [
      "random state:  10\n",
      "train time: 2.752s\n",
      "\n",
      "random state:  20\n",
      "train time: 2.608s\n",
      "\n",
      "random state:  30\n",
      "train time: 2.648s\n",
      "\n",
      "random state:  40\n",
      "train time: 2.690s\n",
      "\n",
      "random state:  50\n",
      "train time: 2.789s\n",
      "\n",
      "random state:  60\n",
      "train time: 2.573s\n",
      "\n",
      "random state:  70\n",
      "train time: 2.752s\n",
      "\n",
      "random state:  80\n",
      "train time: 2.558s\n",
      "\n",
      "random state:  90\n",
      "train time: 2.627s\n",
      "\n",
      "random state:  100\n",
      "train time: 2.665s\n",
      "\n",
      "CPU times: user 29.4 s, sys: 5.92 s, total: 35.4 s\n",
      "Wall time: 39.1 s\n"
     ]
    }
   ],
   "source": [
    "%%time\n",
    "tf_idf_baseline_results = run_tests_splits(tf_idf_vect_baseline, parameters_nb, MultinomialNB())"
   ]
  },
  {
   "cell_type": "code",
   "execution_count": 23,
   "metadata": {},
   "outputs": [
    {
     "name": "stdout",
     "output_type": "stream",
     "text": [
      "Numero de caracteristicas:  (26653, 48372)\n",
      "\n",
      "Best score selected:  0.8719093535436911\n",
      "Best Accuracy:  0.8647584033613446\n",
      "Best F1-score:  0.8584099477109906\n",
      "Best random state:  30\n",
      "Mejor resultado y parametro encontrados:\n",
      "Mejor resultado (accuracy cv):  0.8719093535436911\n",
      "alpha: 1\n",
      "\n",
      "\n",
      "Exactitud: 0.8647584033613446\n",
      "F1_score: 0.8584099477109906\n",
      "Precision: 0.8677352071046704\n",
      "Recall: 0.8531272734459184\n",
      "\n",
      "             precision    recall  f1-score   support\n",
      "\n",
      "   negative     0.8793    0.7831    0.8284      4763\n",
      "   positive     0.8562    0.9231    0.8884      6661\n",
      "\n",
      "avg / total     0.8658    0.8648    0.8634     11424\n",
      "\n",
      "[[3730 1033]\n",
      " [ 512 6149]]\n",
      "\n",
      "Confusion matrix, without normalization\n",
      "[[3730 1033]\n",
      " [ 512 6149]]\n"
     ]
    },
    {
     "data": {
      "image/png": "[encoded data removed]",
      "text/plain": [
       "<Figure size 432x288 with 2 Axes>"
      ]
     },
     "metadata": {},
     "output_type": "display_data"
    }
   ],
   "source": [
    "print_baseline_results(tf_idf_baseline_results, parameters_nb)"
   ]
  },
  {
   "cell_type": "markdown",
   "metadata": {},
   "source": [
    "### Binary BaseLine"
   ]
  },
  {
   "cell_type": "code",
   "execution_count": 24,
   "metadata": {},
   "outputs": [
    {
     "name": "stdout",
     "output_type": "stream",
     "text": [
      "random state:  10\n",
      "train time: 2.617s\n",
      "\n",
      "random state:  20\n",
      "train time: 2.687s\n",
      "\n",
      "random state:  30\n",
      "train time: 2.685s\n",
      "\n",
      "random state:  40\n",
      "train time: 2.587s\n",
      "\n",
      "random state:  50\n",
      "train time: 2.826s\n",
      "\n",
      "random state:  60\n",
      "train time: 2.639s\n",
      "\n",
      "random state:  70\n",
      "train time: 2.729s\n",
      "\n",
      "random state:  80\n",
      "train time: 2.566s\n",
      "\n",
      "random state:  90\n",
      "train time: 3.001s\n",
      "\n",
      "random state:  100\n",
      "train time: 2.881s\n",
      "\n",
      "CPU times: user 28.5 s, sys: 7.26 s, total: 35.7 s\n",
      "Wall time: 39.2 s\n"
     ]
    }
   ],
   "source": [
    "%%time\n",
    "binary_baseline_results = run_tests_splits(binary_vect_baseline, parameters_nb, MultinomialNB())"
   ]
  },
  {
   "cell_type": "code",
   "execution_count": 363,
   "metadata": {},
   "outputs": [
    {
     "name": "stdout",
     "output_type": "stream",
     "text": [
      "Numero de caracteristicas:  (26653, 48349)\n",
      "\n",
      "Best score selected:  0.8786252954639253\n",
      "Best Accuracy:  0.8739495798319328\n",
      "Best F1-score:  0.8703247515782714\n",
      "Best random state:  40\n",
      "Mejor resultado y parametro encontrados:\n",
      "Mejor resultado (accuracy cv):  0.8786252954639253\n",
      "alpha: 3\n",
      "\n",
      "\n",
      "Exactitud: 0.8739495798319328\n",
      "F1_score: 0.8703247515782714\n",
      "Precision: 0.8699113800047167\n",
      "Recall: 0.8707589063897054\n",
      "\n",
      "             precision    recall  f1-score   support\n",
      "\n",
      "   negative     0.8453    0.8520    0.8486      4738\n",
      "   positive     0.8946    0.8895    0.8920      6686\n",
      "\n",
      "avg / total     0.8741    0.8739    0.8740     11424\n",
      "\n",
      "[[4037  701]\n",
      " [ 739 5947]]\n",
      "\n",
      "Confusion matrix, without normalization\n",
      "[[4037  701]\n",
      " [ 739 5947]]\n"
     ]
    },
    {
     "data": {
      "image/png": "[encoded data removed]",
      "text/plain": [
       "<Figure size 432x288 with 2 Axes>"
      ]
     },
     "metadata": {},
     "output_type": "display_data"
    }
   ],
   "source": [
    "print_baseline_results(binary_baseline_results, parameters_nb)"
   ]
  },
  {
   "cell_type": "code",
   "execution_count": 134,
   "metadata": {},
   "outputs": [],
   "source": [
    "all_experiments_results = []"
   ]
  },
  {
   "cell_type": "markdown",
   "metadata": {},
   "source": [
    "## Prueba de la linea base con los parametros optimos\n",
    "Esta prueba se hace para validar los resultados obtenidos anteriormente. Si esta bien debe dar lo mismo o un resultado muy similar dependiendo del clasificador. Por ejemplo con el clasificador bayesiano debe dar el mismo resultado."
   ]
  },
  {
   "cell_type": "code",
   "execution_count": 135,
   "metadata": {},
   "outputs": [
    {
     "name": "stdout",
     "output_type": "stream",
     "text": [
      "Numero de caracteristicas:  (26653, 48349)\n",
      "\n",
      "train time: 2.549s\n",
      "\n",
      "Mejor resultado y parametro encontrados:\n",
      "Mejor resultado (accuracy cv):  0.8784001800922973\n",
      "alpha: 3\n",
      "\n",
      "Exactitud: 0.8734243697478992\n",
      "F1_score: 0.8701872862138964\n",
      "Precision: 0.8688230249792379\n",
      "Recall: 0.8718475391394505\n",
      "\n",
      "             precision    recall  f1-score   support\n",
      "\n",
      "   negative     0.8372    0.8626    0.8497      4738\n",
      "   positive     0.9005    0.8811    0.8907      6686\n",
      "\n",
      "avg / total     0.8742    0.8734    0.8737     11424\n",
      "\n",
      "[[4087  651]\n",
      " [ 795 5891]]\n",
      "\n",
      "Confusion matrix, without normalization\n",
      "[[4087  651]\n",
      " [ 795 5891]]\n"
     ]
    },
    {
     "data": {
      "image/png": "[encoded data removed]",
      "text/plain": [
       "<Figure size 432x288 with 2 Axes>"
      ]
     },
     "metadata": {},
     "output_type": "display_data"
    }
   ],
   "source": [
    "optimal_parameters = {'alpha': [3]}\n",
    "clf_tf_vect_baseline = run_one_experiment(tf_vect_baseline, optimal_parameters, MultinomialNB(), 40)\n",
    "all_experiments_results.append(clf_tf_vect_baseline)"
   ]
  },
  {
   "cell_type": "code",
   "execution_count": 136,
   "metadata": {},
   "outputs": [
    {
     "name": "stdout",
     "output_type": "stream",
     "text": [
      "Numero de caracteristicas:  (26653, 48372)\n",
      "\n",
      "train time: 2.187s\n",
      "\n",
      "Mejor resultado y parametro encontrados:\n",
      "Mejor resultado (accuracy cv):  0.8719093535436911\n",
      "alpha: 1\n",
      "\n",
      "Exactitud: 0.8647584033613446\n",
      "F1_score: 0.8584099477109906\n",
      "Precision: 0.8677352071046704\n",
      "Recall: 0.8531272734459184\n",
      "\n",
      "             precision    recall  f1-score   support\n",
      "\n",
      "   negative     0.8793    0.7831    0.8284      4763\n",
      "   positive     0.8562    0.9231    0.8884      6661\n",
      "\n",
      "avg / total     0.8658    0.8648    0.8634     11424\n",
      "\n",
      "[[3730 1033]\n",
      " [ 512 6149]]\n",
      "\n",
      "Confusion matrix, without normalization\n",
      "[[3730 1033]\n",
      " [ 512 6149]]\n"
     ]
    },
    {
     "data": {
      "image/png": "[encoded data removed]",
      "text/plain": [
       "<Figure size 432x288 with 2 Axes>"
      ]
     },
     "metadata": {},
     "output_type": "display_data"
    }
   ],
   "source": [
    "optimal_parameters = {'alpha': [1]}\n",
    "clf_tf_idf_vect_baseline = run_one_experiment(tf_idf_vect_baseline, optimal_parameters, MultinomialNB(), 30)\n",
    "all_experiments_results.append(clf_tf_idf_vect_baseline)"
   ]
  },
  {
   "cell_type": "code",
   "execution_count": 137,
   "metadata": {},
   "outputs": [
    {
     "name": "stdout",
     "output_type": "stream",
     "text": [
      "Numero de caracteristicas:  (26653, 48349)\n",
      "\n",
      "train time: 2.246s\n",
      "\n",
      "Mejor resultado y parametro encontrados:\n",
      "Mejor resultado (accuracy cv):  0.8786252954639253\n",
      "alpha: 3\n",
      "\n",
      "Exactitud: 0.8739495798319328\n",
      "F1_score: 0.8703247515782714\n",
      "Precision: 0.8699113800047167\n",
      "Recall: 0.8707589063897054\n",
      "\n",
      "             precision    recall  f1-score   support\n",
      "\n",
      "   negative     0.8453    0.8520    0.8486      4738\n",
      "   positive     0.8946    0.8895    0.8920      6686\n",
      "\n",
      "avg / total     0.8741    0.8739    0.8740     11424\n",
      "\n",
      "[[4037  701]\n",
      " [ 739 5947]]\n",
      "\n",
      "Confusion matrix, without normalization\n",
      "[[4037  701]\n",
      " [ 739 5947]]\n"
     ]
    },
    {
     "data": {
      "image/png": "[encoded data removed]",
      "text/plain": [
       "<Figure size 432x288 with 2 Axes>"
      ]
     },
     "metadata": {},
     "output_type": "display_data"
    }
   ],
   "source": [
    "optimal_parameters = {'alpha': [3]}\n",
    "clf_binary_vect_baseline = run_one_experiment(binary_vect_baseline, optimal_parameters, MultinomialNB(), 40)\n",
    "all_experiments_results.append(clf_binary_vect_baseline)"
   ]
  },
  {
   "cell_type": "code",
   "execution_count": 138,
   "metadata": {},
   "outputs": [
    {
     "data": {
      "text/plain": [
       "3"
      ]
     },
     "execution_count": 138,
     "metadata": {},
     "output_type": "execute_result"
    }
   ],
   "source": [
    "len(all_experiments_results)"
   ]
  },
  {
   "cell_type": "markdown",
   "metadata": {},
   "source": [
    "## Experimento 1: Remocion de stop words"
   ]
  },
  {
   "cell_type": "code",
   "execution_count": 139,
   "metadata": {},
   "outputs": [],
   "source": [
    "spanish_stopwords = stopwords.words('spanish')"
   ]
  },
  {
   "cell_type": "code",
   "execution_count": 140,
   "metadata": {},
   "outputs": [],
   "source": [
    "tf_vect_stopwords = CountVectorizer(stop_words = spanish_stopwords,\n",
    "                                    analyzer = 'word',\n",
    "                                    tokenizer = default_tokenize,\n",
    "                                    lowercase = True)\n",
    "tf_idf_vect_stopwords = TfidfVectorizer(stop_words = spanish_stopwords,\n",
    "                                        analyzer = 'word',\n",
    "                                        tokenizer = default_tokenize,\n",
    "                                        lowercase = True)\n",
    "binary_vect_stopwords = CountVectorizer(stop_words = spanish_stopwords,\n",
    "                                        analyzer = 'word',\n",
    "                                        tokenizer = default_tokenize,\n",
    "                                        lowercase = True,\n",
    "                                        binary=True)"
   ]
  },
  {
   "cell_type": "markdown",
   "metadata": {},
   "source": [
    "### TF stop words"
   ]
  },
  {
   "cell_type": "code",
   "execution_count": 141,
   "metadata": {},
   "outputs": [
    {
     "name": "stdout",
     "output_type": "stream",
     "text": [
      "Numero de caracteristicas:  (26653, 48099)\n",
      "\n",
      "train time: 2.390s\n",
      "\n",
      "Mejor resultado y parametro encontrados:\n",
      "Mejor resultado (accuracy cv):  0.8714591228004352\n",
      "alpha: 3\n",
      "\n",
      "Exactitud: 0.8688725490196079\n",
      "F1_score: 0.8646057748870303\n",
      "Precision: 0.865588138200664\n",
      "Recall: 0.8637157814309797\n",
      "\n",
      "             precision    recall  f1-score   support\n",
      "\n",
      "   negative     0.8478    0.8335    0.8406      4738\n",
      "   positive     0.8834    0.8940    0.8886      6686\n",
      "\n",
      "avg / total     0.8686    0.8689    0.8687     11424\n",
      "\n",
      "[[3949  789]\n",
      " [ 709 5977]]\n",
      "\n",
      "Confusion matrix, without normalization\n",
      "[[3949  789]\n",
      " [ 709 5977]]\n"
     ]
    },
    {
     "data": {
      "image/png": "[encoded data removed]",
      "text/plain": [
       "<Figure size 432x288 with 2 Axes>"
      ]
     },
     "metadata": {},
     "output_type": "display_data"
    }
   ],
   "source": [
    "optimal_parameters = {'alpha': [3]}\n",
    "clf_tf_vect_stopwords = run_one_experiment(tf_vect_stopwords, optimal_parameters, MultinomialNB(), 40)\n",
    "all_experiments_results.append(clf_tf_vect_stopwords)"
   ]
  },
  {
   "cell_type": "markdown",
   "metadata": {},
   "source": [
    "### TF-IDF stop words"
   ]
  },
  {
   "cell_type": "code",
   "execution_count": 142,
   "metadata": {},
   "outputs": [
    {
     "name": "stdout",
     "output_type": "stream",
     "text": [
      "Numero de caracteristicas:  (26653, 48118)\n",
      "\n",
      "train time: 2.311s\n",
      "\n",
      "Mejor resultado y parametro encontrados:\n",
      "Mejor resultado (accuracy cv):  0.8677822383971786\n",
      "alpha: 1\n",
      "\n",
      "Exactitud: 0.8618697478991597\n",
      "F1_score: 0.8553913053774005\n",
      "Precision: 0.8646220650029572\n",
      "Recall: 0.8501715750850958\n",
      "\n",
      "             precision    recall  f1-score   support\n",
      "\n",
      "   negative     0.8753    0.7798    0.8248      4763\n",
      "   positive     0.8539    0.9206    0.8860      6661\n",
      "\n",
      "avg / total     0.8628    0.8619    0.8605     11424\n",
      "\n",
      "[[3714 1049]\n",
      " [ 529 6132]]\n",
      "\n",
      "Confusion matrix, without normalization\n",
      "[[3714 1049]\n",
      " [ 529 6132]]\n"
     ]
    },
    {
     "data": {
      "image/png": "[encoded data removed]",
      "text/plain": [
       "<Figure size 432x288 with 2 Axes>"
      ]
     },
     "metadata": {},
     "output_type": "display_data"
    }
   ],
   "source": [
    "optimal_parameters = {'alpha': [1]}\n",
    "clf_tf_idf_vect_stopwords = run_one_experiment(tf_idf_vect_stopwords, optimal_parameters, MultinomialNB(), 30)\n",
    "all_experiments_results.append(clf_tf_idf_vect_stopwords)"
   ]
  },
  {
   "cell_type": "markdown",
   "metadata": {},
   "source": [
    "### Binary stop words"
   ]
  },
  {
   "cell_type": "code",
   "execution_count": 143,
   "metadata": {},
   "outputs": [
    {
     "name": "stdout",
     "output_type": "stream",
     "text": [
      "Numero de caracteristicas:  (26653, 48099)\n",
      "\n",
      "train time: 2.438s\n",
      "\n",
      "Mejor resultado y parametro encontrados:\n",
      "Mejor resultado (accuracy cv):  0.8702585074850862\n",
      "alpha: 3\n",
      "\n",
      "Exactitud: 0.8684348739495799\n",
      "F1_score: 0.8641232837002886\n",
      "Precision: 0.8651984242008636\n",
      "Recall: 0.863157386003553\n",
      "\n",
      "             precision    recall  f1-score   support\n",
      "\n",
      "   negative     0.8478    0.8322    0.8399      4738\n",
      "   positive     0.8826    0.8941    0.8883      6686\n",
      "\n",
      "avg / total     0.8682    0.8684    0.8683     11424\n",
      "\n",
      "[[3943  795]\n",
      " [ 708 5978]]\n",
      "\n",
      "Confusion matrix, without normalization\n",
      "[[3943  795]\n",
      " [ 708 5978]]\n"
     ]
    },
    {
     "data": {
      "image/png": "[encoded data removed]",
      "text/plain": [
       "<Figure size 432x288 with 2 Axes>"
      ]
     },
     "metadata": {},
     "output_type": "display_data"
    }
   ],
   "source": [
    "optimal_parameters = {'alpha': [3]}\n",
    "clf_binary_vect_stopwords = run_one_experiment(binary_vect_stopwords, optimal_parameters, MultinomialNB(), 40)\n",
    "all_experiments_results.append(clf_binary_vect_stopwords)"
   ]
  },
  {
   "cell_type": "markdown",
   "metadata": {},
   "source": [
    "## Experimento 2: Stemming"
   ]
  },
  {
   "cell_type": "code",
   "execution_count": 144,
   "metadata": {},
   "outputs": [],
   "source": [
    "stemmer = SnowballStemmer('spanish')\n",
    "\n",
    "def stem_tokens(tokens, stemmer):\n",
    "    stemmed = []\n",
    "    for item in tokens:\n",
    "        stemmed.append(stemmer.stem(item))\n",
    "    return stemmed\n",
    "\n",
    "def tokenize_stems(text):\n",
    "    regexp_tokenizer = RegexpTokenizer(u'(?u)\\\\b\\\\w\\\\w+\\\\b')\n",
    "    tokens =  regexp_tokenizer.tokenize(text)\n",
    "    token_stems = stem_tokens(tokens, stemmer)\n",
    "    return token_stems"
   ]
  },
  {
   "cell_type": "code",
   "execution_count": 145,
   "metadata": {},
   "outputs": [
    {
     "name": "stdout",
     "output_type": "stream",
     "text": [
      "frutivor\n",
      "['holaaa', 'com', 'estas', 'estaa', 'cre', 'en', 'mi', 'si', 'llov', 'mañan', 'tu', 'cre', 'en', 'mi', 'cart', 'aeiou']\n"
     ]
    }
   ],
   "source": [
    "#Prueba de los metodos anteriores\n",
    "print(stemmer.stem(\"frutivoro\"))\n",
    "print(tokenize_stems(\n",
    "    \"holaaaa como estas estaaaas creerías en mi si lloviera mañana, tu crees en mi cartas ¡¡ ¿¿. a e i o u aeiou\"))"
   ]
  },
  {
   "cell_type": "code",
   "execution_count": 146,
   "metadata": {},
   "outputs": [],
   "source": [
    "tf_vect_stemming = CountVectorizer(\n",
    "                analyzer = 'word',\n",
    "                tokenizer = tokenize_stems,\n",
    "                lowercase = True)\n",
    "\n",
    "tf_idf_vect_stemming = TfidfVectorizer(\n",
    "                analyzer = 'word',\n",
    "                tokenizer = tokenize_stems,\n",
    "                lowercase = True)\n",
    "\n",
    "binary_vect_stemming = CountVectorizer(\n",
    "                analyzer = 'word',\n",
    "                tokenizer = tokenize_stems,\n",
    "                lowercase = True,\n",
    "                binary=True)"
   ]
  },
  {
   "cell_type": "markdown",
   "metadata": {},
   "source": [
    "### TF stemming"
   ]
  },
  {
   "cell_type": "code",
   "execution_count": 147,
   "metadata": {},
   "outputs": [
    {
     "name": "stdout",
     "output_type": "stream",
     "text": [
      "Numero de caracteristicas:  (26653, 32900)\n",
      "\n",
      "train time: 2.242s\n",
      "\n",
      "Mejor resultado y parametro encontrados:\n",
      "Mejor resultado (accuracy cv):  0.8789254492927625\n",
      "alpha: 3\n",
      "\n",
      "Exactitud: 0.8722864145658263\n",
      "F1_score: 0.8694185474606552\n",
      "Precision: 0.8673753112855899\n",
      "Recall: 0.8723819433562466\n",
      "\n",
      "             precision    recall  f1-score   support\n",
      "\n",
      "   negative     0.8284    0.8729    0.8501      4738\n",
      "   positive     0.9064    0.8718    0.8888      6686\n",
      "\n",
      "avg / total     0.8740    0.8723    0.8727     11424\n",
      "\n",
      "[[4136  602]\n",
      " [ 857 5829]]\n",
      "\n",
      "Confusion matrix, without normalization\n",
      "[[4136  602]\n",
      " [ 857 5829]]\n"
     ]
    },
    {
     "data": {
      "image/png": "[encoded data removed]",
      "text/plain": [
       "<Figure size 432x288 with 2 Axes>"
      ]
     },
     "metadata": {},
     "output_type": "display_data"
    }
   ],
   "source": [
    "optimal_parameters = {'alpha': [3]}\n",
    "clf_tf_vect_stemming = run_one_experiment(tf_vect_stemming, optimal_parameters, MultinomialNB(), 40)\n",
    "all_experiments_results.append(clf_tf_vect_stemming)"
   ]
  },
  {
   "cell_type": "markdown",
   "metadata": {},
   "source": [
    "### TF-IDF stemming"
   ]
  },
  {
   "cell_type": "code",
   "execution_count": 148,
   "metadata": {},
   "outputs": [
    {
     "name": "stdout",
     "output_type": "stream",
     "text": [
      "Numero de caracteristicas:  (26653, 32850)\n",
      "\n",
      "train time: 2.085s\n",
      "\n",
      "Mejor resultado y parametro encontrados:\n",
      "Mejor resultado (accuracy cv):  0.8727347765729937\n",
      "alpha: 1\n",
      "\n",
      "Exactitud: 0.8683473389355743\n",
      "F1_score: 0.8632768355827352\n",
      "Precision: 0.8677956816803122\n",
      "Recall: 0.8600934560910471\n",
      "\n",
      "             precision    recall  f1-score   support\n",
      "\n",
      "   negative     0.8653    0.8104    0.8369      4763\n",
      "   positive     0.8703    0.9098    0.8896      6661\n",
      "\n",
      "avg / total     0.8682    0.8683    0.8677     11424\n",
      "\n",
      "[[3860  903]\n",
      " [ 601 6060]]\n",
      "\n",
      "Confusion matrix, without normalization\n",
      "[[3860  903]\n",
      " [ 601 6060]]\n"
     ]
    },
    {
     "data": {
      "image/png": "[encoded data removed]",
      "text/plain": [
       "<Figure size 432x288 with 2 Axes>"
      ]
     },
     "metadata": {},
     "output_type": "display_data"
    }
   ],
   "source": [
    "optimal_parameters = {'alpha': [1]}\n",
    "clf_tf_idf_vect_stemming = run_one_experiment(tf_idf_vect_stemming, optimal_parameters, MultinomialNB(), 30)\n",
    "all_experiments_results.append(clf_tf_idf_vect_stemming)"
   ]
  },
  {
   "cell_type": "markdown",
   "metadata": {},
   "source": [
    "### Binary stemming"
   ]
  },
  {
   "cell_type": "code",
   "execution_count": 149,
   "metadata": {},
   "outputs": [
    {
     "name": "stdout",
     "output_type": "stream",
     "text": [
      "Numero de caracteristicas:  (26653, 32900)\n",
      "\n",
      "train time: 2.246s\n",
      "\n",
      "Mejor resultado y parametro encontrados:\n",
      "Mejor resultado (accuracy cv):  0.8780249878062507\n",
      "alpha: 3\n",
      "\n",
      "Exactitud: 0.8728991596638656\n",
      "F1_score: 0.8698306208382465\n",
      "Precision: 0.8681210488521902\n",
      "Recall: 0.8720752662361465\n",
      "\n",
      "             precision    recall  f1-score   support\n",
      "\n",
      "   negative     0.8331    0.8672    0.8498      4738\n",
      "   positive     0.9031    0.8769    0.8898      6686\n",
      "\n",
      "avg / total     0.8741    0.8729    0.8732     11424\n",
      "\n",
      "[[4109  629]\n",
      " [ 823 5863]]\n",
      "\n",
      "Confusion matrix, without normalization\n",
      "[[4109  629]\n",
      " [ 823 5863]]\n"
     ]
    },
    {
     "data": {
      "image/png": "[encoded data removed]",
      "text/plain": [
       "<Figure size 432x288 with 2 Axes>"
      ]
     },
     "metadata": {},
     "output_type": "display_data"
    }
   ],
   "source": [
    "optimal_parameters = {'alpha': [3]}\n",
    "clf_binary_vect_stemming = run_one_experiment(binary_vect_stemming, optimal_parameters, MultinomialNB(), 40)\n",
    "all_experiments_results.append(clf_binary_vect_stemming)"
   ]
  },
  {
   "cell_type": "markdown",
   "metadata": {},
   "source": [
    "## Experimento 3: Lematizacion"
   ]
  },
  {
   "cell_type": "code",
   "execution_count": 150,
   "metadata": {},
   "outputs": [
    {
     "name": "stdout",
     "output_type": "stream",
     "text": [
      "salir\n",
      "usuario\n",
      "abofetear\n",
      "diferenciar\n",
      "diferenciándola\n"
     ]
    }
   ],
   "source": [
    "lemmaDict = {}\n",
    "with open('lemma_data/lemmatization-es.txt', 'rb') as f:\n",
    "   data = f.read().decode('utf8').replace(u'\\r', u'').split(u'\\n')\n",
    "   data = [a.split(u'\\t') for a in data]\n",
    "   \n",
    "for a in data:\n",
    "   if len(a) >1:\n",
    "      lemmaDict[a[1]] = a[0]\n",
    "   \n",
    "def lemmatize(word):\n",
    "   return lemmaDict.get(word, word)\n",
    "   \n",
    "def test():\n",
    "   for a in [ u'salió', u'usuarios', u'abofeteéis', u'diferenciando', u'diferenciándola' ]:\n",
    "      print(lemmatize(a))\n",
    "   \n",
    "test()"
   ]
  },
  {
   "cell_type": "code",
   "execution_count": 151,
   "metadata": {},
   "outputs": [
    {
     "data": {
      "text/plain": [
       "'computador'"
      ]
     },
     "execution_count": 151,
     "metadata": {},
     "output_type": "execute_result"
    }
   ],
   "source": [
    "# Prueba del metodo de lematizacion\n",
    "lemmatize(\"computadores\")"
   ]
  },
  {
   "cell_type": "code",
   "execution_count": 152,
   "metadata": {},
   "outputs": [],
   "source": [
    "def lemmatizer(tokens):\n",
    "    lemmatized = []\n",
    "    for item in tokens:\n",
    "        lemma = lemmatize(item)\n",
    "        lemmatized.append(lemma)\n",
    "    return lemmatized\n",
    "\n",
    "def tokenize_lemmas(text):\n",
    "    regexp_tokenizer = RegexpTokenizer(u'(?u)\\\\b\\\\w\\\\w+\\\\b')\n",
    "    tokens =  regexp_tokenizer.tokenize(text)\n",
    "    token_lemmas = lemmatizer(tokens)\n",
    "    return token_lemmas"
   ]
  },
  {
   "cell_type": "code",
   "execution_count": 153,
   "metadata": {},
   "outputs": [
    {
     "name": "stdout",
     "output_type": "stream",
     "text": [
      "['holaaaa', 'comer', 'este', 'estaaaas', 'creer', 'en', 'mi', 'si', 'llover', 'mañana', 'tu', 'creer', 'en', 'mi', 'carta', 'aeiou']\n"
     ]
    }
   ],
   "source": [
    "# Prueba del tokenizer\n",
    "print(tokenize_lemmas(\n",
    "    \"holaaaa como estas estaaaas creerías en mi si lloviera mañana, tu crees en mi cartas ¡¡ ¿¿. a e i o u aeiou\"))"
   ]
  },
  {
   "cell_type": "code",
   "execution_count": 154,
   "metadata": {},
   "outputs": [],
   "source": [
    "tf_vect_lemmatize = CountVectorizer(\n",
    "                analyzer = 'word',\n",
    "                tokenizer = tokenize_lemmas,\n",
    "                lowercase = True)\n",
    "\n",
    "tf_idf_vect_lemmatize = TfidfVectorizer(\n",
    "                analyzer = 'word',\n",
    "                tokenizer = tokenize_lemmas,\n",
    "                lowercase = True)\n",
    "\n",
    "binary_vect_lemmatize = CountVectorizer(\n",
    "                analyzer = 'word',\n",
    "                tokenizer = tokenize_lemmas,\n",
    "                lowercase = True,\n",
    "                binary=True)"
   ]
  },
  {
   "cell_type": "markdown",
   "metadata": {},
   "source": [
    "### TF lemmatize"
   ]
  },
  {
   "cell_type": "code",
   "execution_count": 155,
   "metadata": {},
   "outputs": [
    {
     "name": "stdout",
     "output_type": "stream",
     "text": [
      "Numero de caracteristicas:  (26653, 36795)\n",
      "\n",
      "train time: 2.381s\n",
      "\n",
      "Mejor resultado y parametro encontrados:\n",
      "Mejor resultado (accuracy cv):  0.8784752185495066\n",
      "alpha: 3\n",
      "\n",
      "Exactitud: 0.8731617647058824\n",
      "F1_score: 0.8702093485142632\n",
      "Precision: 0.8683149128032817\n",
      "Recall: 0.8728223083408475\n",
      "\n",
      "             precision    recall  f1-score   support\n",
      "\n",
      "   negative     0.8314    0.8708    0.8506      4738\n",
      "   positive     0.9053    0.8748    0.8898      6686\n",
      "\n",
      "avg / total     0.8746    0.8732    0.8735     11424\n",
      "\n",
      "[[4126  612]\n",
      " [ 837 5849]]\n",
      "\n",
      "Confusion matrix, without normalization\n",
      "[[4126  612]\n",
      " [ 837 5849]]\n"
     ]
    },
    {
     "data": {
      "image/png": "[encoded data removed]",
      "text/plain": [
       "<Figure size 432x288 with 2 Axes>"
      ]
     },
     "metadata": {},
     "output_type": "display_data"
    }
   ],
   "source": [
    "optimal_parameters = {'alpha': [3]}\n",
    "clf_tf_vect_lemmatize = run_one_experiment(tf_vect_lemmatize, optimal_parameters, MultinomialNB(), 40)\n",
    "all_experiments_results.append(clf_tf_vect_lemmatize)"
   ]
  },
  {
   "cell_type": "markdown",
   "metadata": {},
   "source": [
    "### TF-IDF lemmatize"
   ]
  },
  {
   "cell_type": "code",
   "execution_count": 156,
   "metadata": {},
   "outputs": [
    {
     "name": "stdout",
     "output_type": "stream",
     "text": [
      "Numero de caracteristicas:  (26653, 36771)\n",
      "\n",
      "train time: 2.422s\n",
      "\n",
      "Mejor resultado y parametro encontrados:\n",
      "Mejor resultado (accuracy cv):  0.872584699658575\n",
      "alpha: 1\n",
      "\n",
      "Exactitud: 0.8671218487394958\n",
      "F1_score: 0.8617593858217507\n",
      "Precision: 0.8672532983810259\n",
      "Recall: 0.8580853771895487\n",
      "\n",
      "             precision    recall  f1-score   support\n",
      "\n",
      "   negative     0.8678    0.8037    0.8345      4763\n",
      "   positive     0.8667    0.9125    0.8890      6661\n",
      "\n",
      "avg / total     0.8672    0.8671    0.8663     11424\n",
      "\n",
      "[[3828  935]\n",
      " [ 583 6078]]\n",
      "\n",
      "Confusion matrix, without normalization\n",
      "[[3828  935]\n",
      " [ 583 6078]]\n"
     ]
    },
    {
     "data": {
      "image/png": "[encoded data removed]",
      "text/plain": [
       "<Figure size 432x288 with 2 Axes>"
      ]
     },
     "metadata": {},
     "output_type": "display_data"
    }
   ],
   "source": [
    "optimal_parameters = {'alpha': [1]}\n",
    "clf_tf_idf_vect_lemmatize = run_one_experiment(tf_idf_vect_lemmatize, optimal_parameters, MultinomialNB(), 30)\n",
    "all_experiments_results.append(clf_tf_idf_vect_lemmatize)"
   ]
  },
  {
   "cell_type": "markdown",
   "metadata": {},
   "source": [
    "### Binary lemmatize"
   ]
  },
  {
   "cell_type": "code",
   "execution_count": 157,
   "metadata": {},
   "outputs": [
    {
     "name": "stdout",
     "output_type": "stream",
     "text": [
      "Numero de caracteristicas:  (26653, 36795)\n",
      "\n",
      "train time: 2.363s\n",
      "\n",
      "Mejor resultado y parametro encontrados:\n",
      "Mejor resultado (accuracy cv):  0.8786628146925299\n",
      "alpha: 3\n",
      "\n",
      "Exactitud: 0.8737745098039216\n",
      "F1_score: 0.8705021746731701\n",
      "Precision: 0.8692296943603575\n",
      "Recall: 0.8720236851332908\n",
      "\n",
      "             precision    recall  f1-score   support\n",
      "\n",
      "   negative     0.8384    0.8618    0.8499      4738\n",
      "   positive     0.9001    0.8823    0.8911      6686\n",
      "\n",
      "avg / total     0.8745    0.8738    0.8740     11424\n",
      "\n",
      "[[4083  655]\n",
      " [ 787 5899]]\n",
      "\n",
      "Confusion matrix, without normalization\n",
      "[[4083  655]\n",
      " [ 787 5899]]\n"
     ]
    },
    {
     "data": {
      "image/png": "[encoded data removed]",
      "text/plain": [
       "<Figure size 432x288 with 2 Axes>"
      ]
     },
     "metadata": {},
     "output_type": "display_data"
    }
   ],
   "source": [
    "optimal_parameters = {'alpha': [3]}\n",
    "clf_binary_vect_lemmatize = run_one_experiment(binary_vect_lemmatize, optimal_parameters, MultinomialNB(), 40)\n",
    "all_experiments_results.append(clf_binary_vect_lemmatize)"
   ]
  },
  {
   "cell_type": "markdown",
   "metadata": {},
   "source": [
    "## Experimento 4: Remocion de URLs"
   ]
  },
  {
   "cell_type": "code",
   "execution_count": 158,
   "metadata": {},
   "outputs": [],
   "source": [
    "def tokenize_no_urls(text):\n",
    "    url_regex = 'http[s]?://(?:[a-zA-Z]|[0-9]|[$-_@.&+]|[!*\\(\\),]|(?:%[0-9a-fA-F][0-9a-fA-F]))+'\n",
    "    text_no_urls = re.sub(url_regex, '', text, flags=re.MULTILINE)\n",
    "    regexp_tokenizer = RegexpTokenizer(u'(?u)\\\\b\\\\w\\\\w+\\\\b')\n",
    "    tokens =  regexp_tokenizer.tokenize(text_no_urls)\n",
    "    return tokens"
   ]
  },
  {
   "cell_type": "code",
   "execution_count": 159,
   "metadata": {},
   "outputs": [
    {
     "name": "stdout",
     "output_type": "stream",
     "text": [
      "['holaaaa', 'cómo', 'creerías', 'mi', 'si', 'lloviera', 'mañana', 'tu', 'crees', 'en', 'mi', 'cartas', 'aeiou']\n"
     ]
    }
   ],
   "source": [
    "# Prueba de la tokenizacion sin urls\n",
    "print(tokenize_no_urls(\n",
    "    \"holaaaa cómo http://estas creerías https://stackoverflow.com/questions/11331982/how-to-remove-any-url-within-a-string-in-python mi si lloviera \\t  mañana, tu crees en mi cartas ¡¡ ¿¿. aeiou\"))"
   ]
  },
  {
   "cell_type": "code",
   "execution_count": 160,
   "metadata": {},
   "outputs": [],
   "source": [
    "tf_vect_no_urls = CountVectorizer(\n",
    "                analyzer = 'word',\n",
    "                tokenizer = tokenize_no_urls,\n",
    "                lowercase = True)\n",
    "\n",
    "tf_idf_vect_no_urls = TfidfVectorizer(\n",
    "                analyzer = 'word',\n",
    "                tokenizer = tokenize_no_urls,\n",
    "                lowercase = True)\n",
    "\n",
    "binary_vect_no_urls = CountVectorizer(\n",
    "                analyzer = 'word',\n",
    "                tokenizer = tokenize_no_urls,\n",
    "                lowercase = True,\n",
    "                binary=True)"
   ]
  },
  {
   "cell_type": "markdown",
   "metadata": {},
   "source": [
    "### TF sin URLs"
   ]
  },
  {
   "cell_type": "code",
   "execution_count": 161,
   "metadata": {},
   "outputs": [
    {
     "name": "stdout",
     "output_type": "stream",
     "text": [
      "Numero de caracteristicas:  (26653, 40405)\n",
      "\n",
      "train time: 2.542s\n",
      "\n",
      "Mejor resultado y parametro encontrados:\n",
      "Mejor resultado (accuracy cv):  0.8784001800922973\n",
      "alpha: 3\n",
      "\n",
      "Exactitud: 0.873686974789916\n",
      "F1_score: 0.8707815963557358\n",
      "Precision: 0.868830032820542\n",
      "Recall: 0.8735169801581324\n",
      "\n",
      "             precision    recall  f1-score   support\n",
      "\n",
      "   negative     0.8313    0.8725    0.8514      4738\n",
      "   positive     0.9064    0.8745    0.8902      6686\n",
      "\n",
      "avg / total     0.8752    0.8737    0.8741     11424\n",
      "\n",
      "[[4134  604]\n",
      " [ 839 5847]]\n",
      "\n",
      "Confusion matrix, without normalization\n",
      "[[4134  604]\n",
      " [ 839 5847]]\n"
     ]
    },
    {
     "data": {
      "image/png": "[encoded data removed]",
      "text/plain": [
       "<Figure size 432x288 with 2 Axes>"
      ]
     },
     "metadata": {},
     "output_type": "display_data"
    }
   ],
   "source": [
    "optimal_parameters = {'alpha': [3]}\n",
    "clf_tf_vect_no_urls = run_one_experiment(tf_vect_no_urls, optimal_parameters, MultinomialNB(), 40)\n",
    "all_experiments_results.append(clf_tf_vect_no_urls)"
   ]
  },
  {
   "cell_type": "markdown",
   "metadata": {},
   "source": [
    "### TF-IDF sin URLs"
   ]
  },
  {
   "cell_type": "code",
   "execution_count": 162,
   "metadata": {},
   "outputs": [
    {
     "name": "stdout",
     "output_type": "stream",
     "text": [
      "Numero de caracteristicas:  (26653, 40441)\n",
      "\n",
      "train time: 2.333s\n",
      "\n",
      "Mejor resultado y parametro encontrados:\n",
      "Mejor resultado (accuracy cv):  0.8729974111732263\n",
      "alpha: 1\n",
      "\n",
      "Exactitud: 0.8652836134453782\n",
      "F1_score: 0.8593681058747584\n",
      "Precision: 0.8668603220966644\n",
      "Recall: 0.8548040503754246\n",
      "\n",
      "             precision    recall  f1-score   support\n",
      "\n",
      "   negative     0.8733    0.7917    0.8305      4763\n",
      "   positive     0.8604    0.9179    0.8882      6661\n",
      "\n",
      "avg / total     0.8658    0.8653    0.8642     11424\n",
      "\n",
      "[[3771  992]\n",
      " [ 547 6114]]\n",
      "\n",
      "Confusion matrix, without normalization\n",
      "[[3771  992]\n",
      " [ 547 6114]]\n"
     ]
    },
    {
     "data": {
      "image/png": "[encoded data removed]",
      "text/plain": [
       "<Figure size 432x288 with 2 Axes>"
      ]
     },
     "metadata": {},
     "output_type": "display_data"
    }
   ],
   "source": [
    "optimal_parameters = {'alpha': [1]}\n",
    "clf_tf_idf_vect_no_urls = run_one_experiment(tf_idf_vect_no_urls, optimal_parameters, MultinomialNB(), 30)\n",
    "all_experiments_results.append(clf_tf_idf_vect_no_urls)"
   ]
  },
  {
   "cell_type": "markdown",
   "metadata": {},
   "source": [
    "### Binary sin URLs"
   ]
  },
  {
   "cell_type": "code",
   "execution_count": 163,
   "metadata": {},
   "outputs": [
    {
     "name": "stdout",
     "output_type": "stream",
     "text": [
      "Numero de caracteristicas:  (26653, 40405)\n",
      "\n",
      "train time: 2.445s\n",
      "\n",
      "Mejor resultado y parametro encontrados:\n",
      "Mejor resultado (accuracy cv):  0.8779124301204367\n",
      "alpha: 3\n",
      "\n",
      "Exactitud: 0.8757002801120448\n",
      "F1_score: 0.8725502458474934\n",
      "Precision: 0.8711164442341242\n",
      "Recall: 0.874314593209452\n",
      "\n",
      "             precision    recall  f1-score   support\n",
      "\n",
      "   negative     0.8393    0.8662    0.8525      4738\n",
      "   positive     0.9030    0.8824    0.8926      6686\n",
      "\n",
      "avg / total     0.8765    0.8757    0.8760     11424\n",
      "\n",
      "[[4104  634]\n",
      " [ 786 5900]]\n",
      "\n",
      "Confusion matrix, without normalization\n",
      "[[4104  634]\n",
      " [ 786 5900]]\n"
     ]
    },
    {
     "data": {
      "image/png": "[encoded data removed]",
      "text/plain": [
       "<Figure size 432x288 with 2 Axes>"
      ]
     },
     "metadata": {},
     "output_type": "display_data"
    }
   ],
   "source": [
    "optimal_parameters = {'alpha': [3]}\n",
    "clf_binary_vect_no_urls = run_one_experiment(binary_vect_no_urls, optimal_parameters, MultinomialNB(), 40)\n",
    "all_experiments_results.append(clf_binary_vect_no_urls)"
   ]
  },
  {
   "cell_type": "markdown",
   "metadata": {},
   "source": [
    "## Experimento 5: Remocion de letras repetidas"
   ]
  },
  {
   "cell_type": "markdown",
   "metadata": {},
   "source": [
    "El siguiente metodo es tomado y adaptado del libro de Jacob Perkins \"Python 3 Text-Processing with NLTK 3 Cookbook\". El codigo se puede encontrar en su repositorio de github. https://github.com/japerk/nltk3-cookbook/blob/master/replacers.py. Se adapto para que funcionara con el lenguaje español."
   ]
  },
  {
   "cell_type": "code",
   "execution_count": 164,
   "metadata": {},
   "outputs": [],
   "source": [
    "class RepeatReplacer(object):\n",
    "    \"\"\" Removes repeating characters until a valid word is found.\n",
    "    >>> replacer = RepeatReplacer()\n",
    "    >>> replacer.replace('looooove')\n",
    "    'love'\n",
    "    >>> replacer.replace('oooooh')\n",
    "    'ooh'\n",
    "    >>> replacer.replace('goose')\n",
    "    'goose'\n",
    "    \"\"\"\n",
    "    def __init__(self):\n",
    "        self.repeat_regexp = re.compile(r'(\\w*)(\\w)\\2(\\w*)')\n",
    "        self.repl = r'\\1\\2\\3'\n",
    "\n",
    "    def replace(self, word):\n",
    "        \n",
    "        # El metodo se modifica en este fragmento para que funcione con el idioma español\n",
    "        lemma = lemmatize(word)\n",
    "        \n",
    "        if wn.synsets(lemma, lang='spa'):\n",
    "            return word\n",
    "\n",
    "        repl_word = self.repeat_regexp.sub(self.repl, word)\n",
    "\n",
    "        if repl_word != word:\n",
    "            return self.replace(repl_word)\n",
    "        else:\n",
    "            return repl_word"
   ]
  },
  {
   "cell_type": "code",
   "execution_count": 165,
   "metadata": {},
   "outputs": [
    {
     "name": "stdout",
     "output_type": "stream",
     "text": [
      "[Synset('have.v.01'), Synset('own.v.01'), Synset('possess.v.03'), Synset('hold.v.11')]\n"
     ]
    },
    {
     "data": {
      "text/plain": [
       "'creer'"
      ]
     },
     "execution_count": 165,
     "metadata": {},
     "output_type": "execute_result"
    }
   ],
   "source": [
    "# Pruebas del metodo de reemplazamiento\n",
    "replacer = RepeatReplacer()\n",
    "print(wn.synsets(\"poseer\", lang='spa'))\n",
    "replacer.replace('creeeeeer')"
   ]
  },
  {
   "cell_type": "code",
   "execution_count": 166,
   "metadata": {},
   "outputs": [],
   "source": [
    "replacer = RepeatReplacer()\n",
    "def norm_repeated_letters(tokens, replacer):  \n",
    "    norm_tokens = []\n",
    "    for item in tokens:\n",
    "        norm_tokens.append(replacer.replace(item))\n",
    "    return norm_tokens\n",
    "\n",
    "def tokenize_norm_letters(text):\n",
    "    regexp_tokenizer = RegexpTokenizer(u'(?u)\\\\b\\\\w\\\\w+\\\\b')\n",
    "    tokens =  regexp_tokenizer.tokenize(text)\n",
    "    norm_letters = norm_repeated_letters(tokens, replacer)\n",
    "    return norm_letters"
   ]
  },
  {
   "cell_type": "code",
   "execution_count": 167,
   "metadata": {},
   "outputs": [
    {
     "name": "stdout",
     "output_type": "stream",
     "text": [
      "['hola', 'cómo', 'htp', 'estas', 'estas', 'creerías', 'mi', 'si', 'lloviera', 'mañana', 'tu', 'crees', 'en', 'mi', 'cartas', 'aeiou']\n"
     ]
    }
   ],
   "source": [
    "print(tokenize_norm_letters(\n",
    "    \"holaaaa cómo http://estas estaaaas creerías mi si lloviera mañana, tu crees en mi cartas ¡¡ ¿¿. a e i o u aeiou\"))"
   ]
  },
  {
   "cell_type": "code",
   "execution_count": 168,
   "metadata": {},
   "outputs": [],
   "source": [
    "tf_vect_norm_letters = CountVectorizer(\n",
    "                analyzer = 'word',\n",
    "                tokenizer = tokenize_norm_letters,\n",
    "                lowercase = True)\n",
    "\n",
    "tf_idf_vect_norm_letters = TfidfVectorizer(\n",
    "                analyzer = 'word',\n",
    "                tokenizer = tokenize_norm_letters,\n",
    "                lowercase = True)\n",
    "\n",
    "binary_vect_norm_letters = CountVectorizer(\n",
    "                analyzer = 'word',\n",
    "                tokenizer = tokenize_norm_letters,\n",
    "                lowercase = True,\n",
    "                binary=True)"
   ]
  },
  {
   "cell_type": "markdown",
   "metadata": {},
   "source": [
    "### TF sin letras repetidas"
   ]
  },
  {
   "cell_type": "code",
   "execution_count": 169,
   "metadata": {},
   "outputs": [
    {
     "name": "stdout",
     "output_type": "stream",
     "text": [
      "Numero de caracteristicas:  (26653, 47550)\n",
      "\n",
      "train time: 2.394s\n",
      "\n",
      "Mejor resultado y parametro encontrados:\n",
      "Mejor resultado (accuracy cv):  0.8784001800922973\n",
      "alpha: 3\n",
      "\n",
      "Exactitud: 0.8744747899159664\n",
      "F1_score: 0.8712718657275876\n",
      "Precision: 0.8698881951175529\n",
      "Recall: 0.872960163099826\n",
      "\n",
      "             precision    recall  f1-score   support\n",
      "\n",
      "   negative     0.8382    0.8641    0.8510      4738\n",
      "   positive     0.9015    0.8818    0.8916      6686\n",
      "\n",
      "avg / total     0.8753    0.8745    0.8747     11424\n",
      "\n",
      "[[4094  644]\n",
      " [ 790 5896]]\n",
      "\n",
      "Confusion matrix, without normalization\n",
      "[[4094  644]\n",
      " [ 790 5896]]\n"
     ]
    },
    {
     "data": {
      "image/png": "[encoded data removed]",
      "text/plain": [
       "<Figure size 432x288 with 2 Axes>"
      ]
     },
     "metadata": {},
     "output_type": "display_data"
    }
   ],
   "source": [
    "optimal_parameters = {'alpha': [3]}\n",
    "clf_tf_vect_norm_letters = run_one_experiment(tf_vect_norm_letters, optimal_parameters, MultinomialNB(), 40)\n",
    "all_experiments_results.append(clf_tf_vect_norm_letters)"
   ]
  },
  {
   "cell_type": "markdown",
   "metadata": {},
   "source": [
    "### TF-IDF sin letras repetidas"
   ]
  },
  {
   "cell_type": "code",
   "execution_count": 170,
   "metadata": {},
   "outputs": [
    {
     "name": "stdout",
     "output_type": "stream",
     "text": [
      "Numero de caracteristicas:  (26653, 47582)\n",
      "\n",
      "train time: 2.472s\n",
      "\n",
      "Mejor resultado y parametro encontrados:\n",
      "Mejor resultado (accuracy cv):  0.8720219112295051\n",
      "alpha: 1\n",
      "\n",
      "Exactitud: 0.8647584033613446\n",
      "F1_score: 0.8584209327448173\n",
      "Precision: 0.8676954389483826\n",
      "Recall: 0.8531571854972381\n",
      "\n",
      "             precision    recall  f1-score   support\n",
      "\n",
      "   negative     0.8791    0.7833    0.8285      4763\n",
      "   positive     0.8563    0.9230    0.8884      6661\n",
      "\n",
      "avg / total     0.8658    0.8648    0.8634     11424\n",
      "\n",
      "[[3731 1032]\n",
      " [ 513 6148]]\n",
      "\n",
      "Confusion matrix, without normalization\n",
      "[[3731 1032]\n",
      " [ 513 6148]]\n"
     ]
    },
    {
     "data": {
      "image/png": "[encoded data removed]",
      "text/plain": [
       "<Figure size 432x288 with 2 Axes>"
      ]
     },
     "metadata": {},
     "output_type": "display_data"
    }
   ],
   "source": [
    "optimal_parameters = {'alpha': [1]}\n",
    "clf_tf_idf_vect_norm_letters = run_one_experiment(tf_idf_vect_norm_letters, optimal_parameters, MultinomialNB(), 30)\n",
    "all_experiments_results.append(clf_tf_idf_vect_norm_letters)"
   ]
  },
  {
   "cell_type": "markdown",
   "metadata": {},
   "source": [
    "### Binary sin letras repetidas"
   ]
  },
  {
   "cell_type": "code",
   "execution_count": 171,
   "metadata": {},
   "outputs": [
    {
     "name": "stdout",
     "output_type": "stream",
     "text": [
      "Numero de caracteristicas:  (26653, 47550)\n",
      "\n",
      "train time: 2.231s\n",
      "\n",
      "Mejor resultado y parametro encontrados:\n",
      "Mejor resultado (accuracy cv):  0.8783626608636926\n",
      "alpha: 3\n",
      "\n",
      "Exactitud: 0.874562324929972\n",
      "F1_score: 0.8709512304339441\n",
      "Precision: 0.8705475531099822\n",
      "Recall: 0.8713746281835864\n",
      "\n",
      "             precision    recall  f1-score   support\n",
      "\n",
      "   negative     0.8461    0.8527    0.8494      4738\n",
      "   positive     0.8950    0.8901    0.8925      6686\n",
      "\n",
      "avg / total     0.8747    0.8746    0.8746     11424\n",
      "\n",
      "[[4040  698]\n",
      " [ 735 5951]]\n",
      "\n",
      "Confusion matrix, without normalization\n",
      "[[4040  698]\n",
      " [ 735 5951]]\n"
     ]
    },
    {
     "data": {
      "image/png": "[encoded data removed]",
      "text/plain": [
       "<Figure size 432x288 with 2 Axes>"
      ]
     },
     "metadata": {},
     "output_type": "display_data"
    }
   ],
   "source": [
    "optimal_parameters = {'alpha': [3]}\n",
    "clf_binary_vect_norm_letters = run_one_experiment(binary_vect_norm_letters, optimal_parameters, MultinomialNB(), 40)\n",
    "all_experiments_results.append(clf_binary_vect_norm_letters)"
   ]
  },
  {
   "cell_type": "markdown",
   "metadata": {},
   "source": [
    "## Experimento 6: Remocion de terminos poco comunes (pruning < 10)"
   ]
  },
  {
   "cell_type": "code",
   "execution_count": 172,
   "metadata": {},
   "outputs": [],
   "source": [
    "tf_vect_pruning10 = CountVectorizer(\n",
    "                analyzer = 'word',\n",
    "                tokenizer = default_tokenize,\n",
    "                lowercase = True,\n",
    "                min_df=10)\n",
    "\n",
    "tf_idf_vect_pruning10 = TfidfVectorizer(\n",
    "                analyzer = 'word',\n",
    "                tokenizer = default_tokenize,\n",
    "                lowercase = True,\n",
    "                min_df=10)\n",
    "\n",
    "binary_vect_pruning10 = CountVectorizer(\n",
    "                analyzer = 'word',\n",
    "                tokenizer = default_tokenize,\n",
    "                lowercase = True,\n",
    "                binary=True,\n",
    "                min_df=10)"
   ]
  },
  {
   "cell_type": "markdown",
   "metadata": {},
   "source": [
    "### TF pruning < 10"
   ]
  },
  {
   "cell_type": "code",
   "execution_count": 173,
   "metadata": {},
   "outputs": [
    {
     "name": "stdout",
     "output_type": "stream",
     "text": [
      "Numero de caracteristicas:  (26653, 4348)\n",
      "\n",
      "train time: 2.333s\n",
      "\n",
      "Mejor resultado y parametro encontrados:\n",
      "Mejor resultado (accuracy cv):  0.8697332382846209\n",
      "alpha: 3\n",
      "\n",
      "Exactitud: 0.8637079831932774\n",
      "F1_score: 0.861046667981426\n",
      "Precision: 0.8586984141696629\n",
      "Recall: 0.8652684231347496\n",
      "\n",
      "             precision    recall  f1-score   support\n",
      "\n",
      "   negative     0.8116    0.8744    0.8418      4738\n",
      "   positive     0.9058    0.8561    0.8803      6686\n",
      "\n",
      "avg / total     0.8667    0.8637    0.8643     11424\n",
      "\n",
      "[[4143  595]\n",
      " [ 962 5724]]\n",
      "\n",
      "Confusion matrix, without normalization\n",
      "[[4143  595]\n",
      " [ 962 5724]]\n"
     ]
    },
    {
     "data": {
      "image/png": "[encoded data removed]",
      "text/plain": [
       "<Figure size 432x288 with 2 Axes>"
      ]
     },
     "metadata": {},
     "output_type": "display_data"
    }
   ],
   "source": [
    "optimal_parameters = {'alpha': [3]}\n",
    "clf_tf_vect_pruning10 = run_one_experiment(tf_vect_pruning10, optimal_parameters, MultinomialNB(), 40)\n",
    "all_experiments_results.append(clf_tf_vect_pruning10)"
   ]
  },
  {
   "cell_type": "markdown",
   "metadata": {},
   "source": [
    "### TF-IDF pruning < 10"
   ]
  },
  {
   "cell_type": "code",
   "execution_count": 174,
   "metadata": {},
   "outputs": [
    {
     "name": "stdout",
     "output_type": "stream",
     "text": [
      "Numero de caracteristicas:  (26653, 4348)\n",
      "\n",
      "train time: 2.057s\n",
      "\n",
      "Mejor resultado y parametro encontrados:\n",
      "Mejor resultado (accuracy cv):  0.8707462574569467\n",
      "alpha: 1\n",
      "\n",
      "Exactitud: 0.868172268907563\n",
      "F1_score: 0.8641741264850373\n",
      "Precision: 0.8649005248344532\n",
      "Recall: 0.8635028625896152\n",
      "\n",
      "             precision    recall  f1-score   support\n",
      "\n",
      "   negative     0.8464    0.8354    0.8409      4763\n",
      "   positive     0.8834    0.8916    0.8875      6661\n",
      "\n",
      "avg / total     0.8680    0.8682    0.8680     11424\n",
      "\n",
      "[[3979  784]\n",
      " [ 722 5939]]\n",
      "\n",
      "Confusion matrix, without normalization\n",
      "[[3979  784]\n",
      " [ 722 5939]]\n"
     ]
    },
    {
     "data": {
      "image/png": "[encoded data removed]",
      "text/plain": [
       "<Figure size 432x288 with 2 Axes>"
      ]
     },
     "metadata": {},
     "output_type": "display_data"
    }
   ],
   "source": [
    "optimal_parameters = {'alpha': [1]}\n",
    "clf_tf_idf_vect_pruning10 = run_one_experiment(tf_idf_vect_pruning10, optimal_parameters, MultinomialNB(), 30)\n",
    "all_experiments_results.append(clf_tf_idf_vect_pruning10)"
   ]
  },
  {
   "cell_type": "markdown",
   "metadata": {},
   "source": [
    "### Binary pruning < 10"
   ]
  },
  {
   "cell_type": "code",
   "execution_count": 175,
   "metadata": {},
   "outputs": [
    {
     "name": "stdout",
     "output_type": "stream",
     "text": [
      "Numero de caracteristicas:  (26653, 4348)\n",
      "\n",
      "train time: 2.485s\n",
      "\n",
      "Mejor resultado y parametro encontrados:\n",
      "Mejor resultado (accuracy cv):  0.8673695268825273\n",
      "alpha: 3\n",
      "\n",
      "Exactitud: 0.8632703081232493\n",
      "F1_score: 0.8604502058334063\n",
      "Precision: 0.8582067741955117\n",
      "Recall: 0.8641565883589343\n",
      "\n",
      "             precision    recall  f1-score   support\n",
      "\n",
      "   negative     0.8137    0.8694    0.8406      4738\n",
      "   positive     0.9027    0.8590    0.8803      6686\n",
      "\n",
      "avg / total     0.8658    0.8633    0.8638     11424\n",
      "\n",
      "[[4119  619]\n",
      " [ 943 5743]]\n",
      "\n",
      "Confusion matrix, without normalization\n",
      "[[4119  619]\n",
      " [ 943 5743]]\n"
     ]
    },
    {
     "data": {
      "image/png": "[encoded data removed]",
      "text/plain": [
       "<Figure size 432x288 with 2 Axes>"
      ]
     },
     "metadata": {},
     "output_type": "display_data"
    }
   ],
   "source": [
    "optimal_parameters = {'alpha': [3]}\n",
    "clf_binary_vect_pruning10 = run_one_experiment(binary_vect_pruning10, optimal_parameters, MultinomialNB(), 40)\n",
    "all_experiments_results.append(clf_binary_vect_pruning10)"
   ]
  },
  {
   "cell_type": "markdown",
   "metadata": {},
   "source": [
    "## Experimento 7: Remocion de terminos poco comunes (pruning < 5)"
   ]
  },
  {
   "cell_type": "code",
   "execution_count": 176,
   "metadata": {},
   "outputs": [],
   "source": [
    "tf_vect_pruning5 = CountVectorizer(\n",
    "                analyzer = 'word',\n",
    "                tokenizer = default_tokenize,\n",
    "                lowercase = True,\n",
    "                min_df=5)\n",
    "\n",
    "tf_idf_vect_pruning5 = TfidfVectorizer(\n",
    "                analyzer = 'word',\n",
    "                tokenizer = default_tokenize,\n",
    "                lowercase = True,\n",
    "                min_df=5)\n",
    "\n",
    "binary_vect_pruning5 = CountVectorizer(\n",
    "                analyzer = 'word',\n",
    "                tokenizer = default_tokenize,\n",
    "                lowercase = True,\n",
    "                binary=True,\n",
    "                min_df=5)"
   ]
  },
  {
   "cell_type": "markdown",
   "metadata": {},
   "source": [
    "### TF pruning < 5"
   ]
  },
  {
   "cell_type": "code",
   "execution_count": 177,
   "metadata": {},
   "outputs": [
    {
     "name": "stdout",
     "output_type": "stream",
     "text": [
      "Numero de caracteristicas:  (26653, 7822)\n",
      "\n",
      "train time: 2.441s\n",
      "\n",
      "Mejor resultado y parametro encontrados:\n",
      "Mejor resultado (accuracy cv):  0.8729974111732263\n",
      "alpha: 3\n",
      "\n",
      "Exactitud: 0.8686099439775911\n",
      "F1_score: 0.8660044777481544\n",
      "Precision: 0.8636410467096867\n",
      "Recall: 0.8701327042248648\n",
      "\n",
      "             precision    recall  f1-score   support\n",
      "\n",
      "   negative     0.8178    0.8791    0.8473      4738\n",
      "   positive     0.9095    0.8612    0.8847      6686\n",
      "\n",
      "avg / total     0.8715    0.8686    0.8692     11424\n",
      "\n",
      "[[4165  573]\n",
      " [ 928 5758]]\n",
      "\n",
      "Confusion matrix, without normalization\n",
      "[[4165  573]\n",
      " [ 928 5758]]\n"
     ]
    },
    {
     "data": {
      "image/png": "[encoded data removed]",
      "text/plain": [
       "<Figure size 432x288 with 2 Axes>"
      ]
     },
     "metadata": {},
     "output_type": "display_data"
    }
   ],
   "source": [
    "optimal_parameters = {'alpha': [3]}\n",
    "clf_tf_vect_pruning5 = run_one_experiment(tf_vect_pruning5, optimal_parameters, MultinomialNB(), 40)\n",
    "all_experiments_results.append(clf_tf_vect_pruning5)"
   ]
  },
  {
   "cell_type": "markdown",
   "metadata": {},
   "source": [
    "### TF-IDF pruning < 5"
   ]
  },
  {
   "cell_type": "code",
   "execution_count": 178,
   "metadata": {},
   "outputs": [
    {
     "name": "stdout",
     "output_type": "stream",
     "text": [
      "Numero de caracteristicas:  (26653, 7854)\n",
      "\n",
      "train time: 2.286s\n",
      "\n",
      "Mejor resultado y parametro encontrados:\n",
      "Mejor resultado (accuracy cv):  0.8735601996022961\n",
      "alpha: 1\n",
      "\n",
      "Exactitud: 0.8693977591036415\n",
      "F1_score: 0.8652512384996462\n",
      "Precision: 0.8665593765091546\n",
      "Recall: 0.8641050750790913\n",
      "\n",
      "             precision    recall  f1-score   support\n",
      "\n",
      "   negative     0.8512    0.8322    0.8416      4763\n",
      "   positive     0.8819    0.8960    0.8889      6661\n",
      "\n",
      "avg / total     0.8691    0.8694    0.8692     11424\n",
      "\n",
      "[[3964  799]\n",
      " [ 693 5968]]\n",
      "\n",
      "Confusion matrix, without normalization\n",
      "[[3964  799]\n",
      " [ 693 5968]]\n"
     ]
    },
    {
     "data": {
      "image/png": "[encoded data removed]",
      "text/plain": [
       "<Figure size 432x288 with 2 Axes>"
      ]
     },
     "metadata": {},
     "output_type": "display_data"
    }
   ],
   "source": [
    "optimal_parameters = {'alpha': [1]}\n",
    "clf_tf_idf_vect_pruning5 = run_one_experiment(tf_idf_vect_pruning5, optimal_parameters, MultinomialNB(), 30)\n",
    "all_experiments_results.append(clf_tf_idf_vect_pruning5)"
   ]
  },
  {
   "cell_type": "markdown",
   "metadata": {},
   "source": [
    "### Binary pruning < 5"
   ]
  },
  {
   "cell_type": "code",
   "execution_count": 179,
   "metadata": {},
   "outputs": [
    {
     "name": "stdout",
     "output_type": "stream",
     "text": [
      "Numero de caracteristicas:  (26653, 7822)\n",
      "\n",
      "train time: 2.125s\n",
      "\n",
      "Mejor resultado y parametro encontrados:\n",
      "Mejor resultado (accuracy cv):  0.8723971035155518\n",
      "alpha: 3\n",
      "\n",
      "Exactitud: 0.8688725490196079\n",
      "F1_score: 0.8661064379659025\n",
      "Precision: 0.8638783718947245\n",
      "Recall: 0.8696498811109243\n",
      "\n",
      "             precision    recall  f1-score   support\n",
      "\n",
      "   negative     0.8212    0.8742    0.8469      4738\n",
      "   positive     0.9066    0.8651    0.8854      6686\n",
      "\n",
      "avg / total     0.8712    0.8689    0.8694     11424\n",
      "\n",
      "[[4142  596]\n",
      " [ 902 5784]]\n",
      "\n",
      "Confusion matrix, without normalization\n",
      "[[4142  596]\n",
      " [ 902 5784]]\n"
     ]
    },
    {
     "data": {
      "image/png": "[encoded data removed]",
      "text/plain": [
       "<Figure size 432x288 with 2 Axes>"
      ]
     },
     "metadata": {},
     "output_type": "display_data"
    }
   ],
   "source": [
    "optimal_parameters = {'alpha': [3]}\n",
    "clf_binary_vect_pruning5 = run_one_experiment(binary_vect_pruning5, optimal_parameters, MultinomialNB(), 40)\n",
    "all_experiments_results.append(clf_binary_vect_pruning5)"
   ]
  },
  {
   "cell_type": "code",
   "execution_count": 180,
   "metadata": {},
   "outputs": [
    {
     "data": {
      "text/plain": [
       "24"
      ]
     },
     "execution_count": 180,
     "metadata": {},
     "output_type": "execute_result"
    }
   ],
   "source": [
    "len(all_experiments_results)"
   ]
  },
  {
   "cell_type": "code",
   "execution_count": 181,
   "metadata": {},
   "outputs": [],
   "source": [
    "import xlsxwriter"
   ]
  },
  {
   "cell_type": "code",
   "execution_count": 182,
   "metadata": {},
   "outputs": [],
   "source": [
    "# Create a workbook and add a worksheet.\n",
    "# workbook = xlsxwriter.Workbook('result_es_twitter_sa_nb.xlsx')\n",
    "# worksheet = workbook.add_worksheet()\n",
    "# row = 0\n",
    "# col = 0\n",
    "# for exp in all_experiments_results:\n",
    "#     worksheet.write(row, col, exp[0])\n",
    "#     row += 1\n",
    "#     worksheet.write(row, col, exp[1])\n",
    "#     row += 1\n",
    "#     worksheet.write(row, col, exp[2])\n",
    "#     row += 1\n",
    "#     worksheet.write(row, col, exp[3])\n",
    "#     row += 1\n",
    "#     worksheet.write(row, col, exp[4])\n",
    "#     row += 1\n",
    "#     worksheet.write(row, col, exp[5])\n",
    "#     row += 1\n",
    "#     worksheet.write(row, col, exp[6])\n",
    "#     row += 1\n",
    "#     worksheet.write(row, col, exp[7])\n",
    "#     row += 1\n",
    "#     worksheet.write(row, col, exp[8])\n",
    "#     row += 1\n",
    "#     row += 1\n",
    "#     if row == 30:\n",
    "#         row = 0\n",
    "#         col += 1\n",
    "# workbook.close()"
   ]
  },
  {
   "cell_type": "markdown",
   "metadata": {},
   "source": [
    "# Etapa de seleccion de caracteristicas\n",
    "La siguiente etapa se realiza con los mejores resultados para cada una de las representaciones (tf, tf-idf y binaria) con el fin de evaluar que tan efectivo es, además de la limpieza (primera etapa del pre-procesamiento), el filtrado de caracteristicas segun la importancia relativa a cada clase (segunda etapa del pre-procesamiento). Para esto se usan dos metodos comunmente usados en la literatura, mutual information y chi2."
   ]
  },
  {
   "cell_type": "code",
   "execution_count": 183,
   "metadata": {},
   "outputs": [],
   "source": [
    "from sklearn.feature_selection import chi2\n",
    "from sklearn.feature_selection import mutual_info_classif\n",
    "from sklearn.feature_selection import SelectPercentile"
   ]
  },
  {
   "cell_type": "code",
   "execution_count": 184,
   "metadata": {},
   "outputs": [],
   "source": [
    "def run_filtered_experiments(vectorizer, grid_parameters, clf_type, state, filter_function):\n",
    "    results = []\n",
    "    percents = [10, 20, 30, 40, 50, 60, 70, 80, 90, 100]\n",
    "    for percent in percents:\n",
    "        print(\"percent: \", percent)\n",
    "        X_train, X_test, y_train, y_test = train_test_split(total_data_content, \n",
    "                                                            total_data_target, \n",
    "                                                            test_size=0.3, \n",
    "                                                            random_state=state)\n",
    "        X_train_vector, X_test_vector = fit_train_test_vectors(vectorizer, X_train, X_test)\n",
    "        \n",
    "        filter_percent = SelectPercentile(filter_function, percentile=percent)\n",
    "        X_train_filtered = filter_percent.fit_transform(X_train_vector,y_train)\n",
    "        X_test_filtered = filter_percent.transform(X_test_vector)\n",
    "        \n",
    "        clf = train_nl_classifier(grid_parameters, clf_type, X_train_filtered, y_train)\n",
    "        y_pred = clf.predict(X_test_filtered)\n",
    "        accuracy = metrics.accuracy_score(y_test, y_pred)\n",
    "        f1_score = metrics.f1_score(y_test, y_pred, average=\"macro\")\n",
    "        results.append((accuracy, f1_score, clf.best_score_, X_test_filtered, y_test, clf, percent, X_train_filtered))\n",
    "    return results"
   ]
  },
  {
   "cell_type": "code",
   "execution_count": 185,
   "metadata": {},
   "outputs": [],
   "source": [
    "def print_filtered_results(filtered_results, grid_parameters):\n",
    "    selected_clf_info = max(filtered_results)\n",
    "    print(\"Numero de caracteristicas: \", selected_clf_info[7].shape)\n",
    "    print()\n",
    "    print(\"Best Accuracy: \", selected_clf_info[0])\n",
    "    print(\"Best F1-score: \", selected_clf_info[1])\n",
    "    print(\"Best score selected: \", selected_clf_info[2])\n",
    "    print(\"Best percent: \", selected_clf_info[6])\n",
    "    selected_clf = selected_clf_info[5]\n",
    "    print_clf_best_params(grid_parameters, selected_clf)\n",
    "    print()\n",
    "    X_t = selected_clf_info[3]\n",
    "    y_t = selected_clf_info[4]\n",
    "    test_nl_classifier(selected_clf, X_t, y_t)\n",
    "    \n",
    "    percents = [10, 20, 30, 40, 50, 60, 70, 80, 90, 100]\n",
    "    accuracy_list = []\n",
    "    f1_score_list = []\n",
    "    \n",
    "    for result in filtered_results:\n",
    "        print(\"Percent: \", result[6])\n",
    "        print(\"Accuracy: \", result[0])\n",
    "        print(\"F1-score: \", result[1])\n",
    "        print(\"Best score: \", result[2])\n",
    "        print(\"Numero de caracteristicas: \", result[7].shape)\n",
    "        result_clf = result[5]\n",
    "        print_clf_best_params(grid_parameters, result_clf)\n",
    "        print()"
   ]
  },
  {
   "cell_type": "markdown",
   "metadata": {},
   "source": [
    "## Experimentos con Chi2"
   ]
  },
  {
   "cell_type": "code",
   "execution_count": 186,
   "metadata": {},
   "outputs": [
    {
     "name": "stdout",
     "output_type": "stream",
     "text": [
      "percent:  10\n",
      "train time: 2.138s\n",
      "\n",
      "percent:  20\n",
      "train time: 2.192s\n",
      "\n",
      "percent:  30\n",
      "train time: 2.381s\n",
      "\n",
      "percent:  40\n",
      "train time: 2.148s\n",
      "\n",
      "percent:  50\n",
      "train time: 2.200s\n",
      "\n",
      "percent:  60\n",
      "train time: 2.183s\n",
      "\n",
      "percent:  70\n",
      "train time: 2.503s\n",
      "\n",
      "percent:  80\n",
      "train time: 2.530s\n",
      "\n",
      "percent:  90\n",
      "train time: 2.545s\n",
      "\n",
      "percent:  100\n",
      "train time: 2.520s\n",
      "\n"
     ]
    }
   ],
   "source": [
    "optimal_parameters = {'alpha': [2]}\n",
    "chi2_results = run_filtered_experiments(tf_vect_baseline, optimal_parameters, MultinomialNB(), 10, chi2)"
   ]
  },
  {
   "cell_type": "code",
   "execution_count": 187,
   "metadata": {},
   "outputs": [
    {
     "name": "stdout",
     "output_type": "stream",
     "text": [
      "Numero de caracteristicas:  (26653, 19326)\n",
      "\n",
      "Best Accuracy:  0.8799019607843137\n",
      "Best F1-score:  0.8770697834417325\n",
      "Best score selected:  0.8930701984767193\n",
      "Best percent:  40\n",
      "Mejor resultado y parametro encontrados:\n",
      "Mejor resultado (accuracy cv):  0.8930701984767193\n",
      "alpha: 2\n",
      "\n",
      "\n",
      "Exactitud: 0.8799019607843137\n",
      "F1_score: 0.8770697834417325\n",
      "Precision: 0.8755475090394456\n",
      "Recall: 0.8789962078386969\n",
      "\n",
      "             precision    recall  f1-score   support\n",
      "\n",
      "   negative     0.8438    0.8736    0.8584      4761\n",
      "   positive     0.9073    0.8844    0.8957      6663\n",
      "\n",
      "avg / total     0.8808    0.8799    0.8802     11424\n",
      "\n",
      "[[4159  602]\n",
      " [ 770 5893]]\n",
      "\n",
      "Confusion matrix, without normalization\n",
      "[[4159  602]\n",
      " [ 770 5893]]\n",
      "Percent:  10\n",
      "Accuracy:  0.8721988795518207\n",
      "F1-score:  0.8698894461567639\n",
      "Best score:  0.8846658912692755\n",
      "Numero de caracteristicas:  (26653, 4831)\n",
      "Mejor resultado y parametro encontrados:\n",
      "Mejor resultado (accuracy cv):  0.8846658912692755\n",
      "alpha: 2\n",
      "\n",
      "\n",
      "Percent:  20\n",
      "Accuracy:  0.8761379551820728\n",
      "F1-score:  0.8738241842553314\n",
      "Best score:  0.8876299103290436\n",
      "Numero de caracteristicas:  (26653, 9663)\n",
      "Mejor resultado y parametro encontrados:\n",
      "Mejor resultado (accuracy cv):  0.8876299103290436\n",
      "alpha: 2\n",
      "\n",
      "\n",
      "Percent:  30\n",
      "Accuracy:  0.8765756302521008\n",
      "F1-score:  0.8741124283153503\n",
      "Best score:  0.8902937755599745\n",
      "Numero de caracteristicas:  (26653, 14495)\n",
      "Mejor resultado y parametro encontrados:\n",
      "Mejor resultado (accuracy cv):  0.8902937755599745\n",
      "alpha: 2\n",
      "\n",
      "\n",
      "Percent:  40\n",
      "Accuracy:  0.8799019607843137\n",
      "F1-score:  0.8770697834417325\n",
      "Best score:  0.8930701984767193\n",
      "Numero de caracteristicas:  (26653, 19326)\n",
      "Mejor resultado y parametro encontrados:\n",
      "Mejor resultado (accuracy cv):  0.8930701984767193\n",
      "alpha: 2\n",
      "\n",
      "\n",
      "Percent:  50\n",
      "Accuracy:  0.8787640056022409\n",
      "F1-score:  0.8754297684561733\n",
      "Best score:  0.8913818331895096\n",
      "Numero de caracteristicas:  (26653, 24158)\n",
      "Mejor resultado y parametro encontrados:\n",
      "Mejor resultado (accuracy cv):  0.8913818331895096\n",
      "alpha: 2\n",
      "\n",
      "\n",
      "Percent:  60\n",
      "Accuracy:  0.8792892156862745\n",
      "F1-score:  0.8762475707500454\n",
      "Best score:  0.8908940832176491\n",
      "Numero de caracteristicas:  (26653, 28990)\n",
      "Mejor resultado y parametro encontrados:\n",
      "Mejor resultado (accuracy cv):  0.8908940832176491\n",
      "alpha: 2\n",
      "\n",
      "\n",
      "Percent:  70\n",
      "Accuracy:  0.8773634453781513\n",
      "F1-score:  0.8745962630588638\n",
      "Best score:  0.8906314486174164\n",
      "Numero de caracteristicas:  (26653, 33821)\n",
      "Mejor resultado y parametro encontrados:\n",
      "Mejor resultado (accuracy cv):  0.8906314486174164\n",
      "alpha: 2\n",
      "\n",
      "\n",
      "Percent:  80\n",
      "Accuracy:  0.8780637254901961\n",
      "F1-score:  0.8755202073649452\n",
      "Best score:  0.8884928525869508\n",
      "Numero de caracteristicas:  (26653, 38653)\n",
      "Mejor resultado y parametro encontrados:\n",
      "Mejor resultado (accuracy cv):  0.8884928525869508\n",
      "alpha: 2\n",
      "\n",
      "\n",
      "Percent:  90\n",
      "Accuracy:  0.87718837535014\n",
      "F1-score:  0.8747840959563354\n",
      "Best score:  0.886054102727648\n",
      "Numero de caracteristicas:  (26653, 43485)\n",
      "Mejor resultado y parametro encontrados:\n",
      "Mejor resultado (accuracy cv):  0.886054102727648\n",
      "alpha: 2\n",
      "\n",
      "\n",
      "Percent:  100\n",
      "Accuracy:  0.8791141456582633\n",
      "F1-score:  0.8766427148638611\n",
      "Best score:  0.8748733726034593\n",
      "Numero de caracteristicas:  (26653, 48317)\n",
      "Mejor resultado y parametro encontrados:\n",
      "Mejor resultado (accuracy cv):  0.8748733726034593\n",
      "alpha: 2\n",
      "\n",
      "\n"
     ]
    },
    {
     "data": {
      "image/png": "[encoded data removed]",
      "text/plain": [
       "<Figure size 432x288 with 2 Axes>"
      ]
     },
     "metadata": {},
     "output_type": "display_data"
    }
   ],
   "source": [
    "print_filtered_results(chi2_results, optimal_parameters)"
   ]
  },
  {
   "cell_type": "code",
   "execution_count": 188,
   "metadata": {},
   "outputs": [
    {
     "data": {
      "image/png": "[encoded data removed]",
      "text/plain": [
       "<Figure size 432x288 with 1 Axes>"
      ]
     },
     "metadata": {},
     "output_type": "display_data"
    }
   ],
   "source": [
    "percents = [10, 20, 30, 40, 50, 60, 70, 80, 90, 100]\n",
    "accuracy_list = []\n",
    "f1_score_list = []\n",
    "for result in chi2_results:\n",
    "    accuracy_list.append(result[0])\n",
    "    f1_score_list.append(result[1])\n",
    "\n",
    "    #make a plot\n",
    "ax = plt.gca()\n",
    "# ax.set_xscale('linear')\n",
    "# ax.set_yscale('log')\n",
    "ax.plot(percents, accuracy_list,'g', label = 'Accuracy')\n",
    "ax.plot(percents, f1_score_list,'b', label = 'F1-score')\n",
    "#Set limits and titles\n",
    "plt.ylim([0,1])\n",
    "plt.xlabel('Percents')\n",
    "plt.ylabel('Metrics value')\n",
    "plt.legend()\n",
    "plt.title('Filtered results')\n",
    "# plt.axis('scaled')\n",
    "plt.autoscale(enable=True, axis='y')\n",
    " \n",
    "# plt.savefig('Tuning.png')\n",
    "plt.show()"
   ]
  }
 ],
 "metadata": {
  "kernelspec": {
   "display_name": "python_tg",
   "language": "python",
   "name": "python_tg"
  },
  "language_info": {
   "codemirror_mode": {
    "name": "ipython",
    "version": 3
   },
   "file_extension": ".py",
   "mimetype": "text/x-python",
   "name": "python",
   "nbconvert_exporter": "python",
   "pygments_lexer": "ipython3",
   "version": "3.6.2"
  }
 },
 "nbformat": 4,
 "nbformat_minor": 2
}
